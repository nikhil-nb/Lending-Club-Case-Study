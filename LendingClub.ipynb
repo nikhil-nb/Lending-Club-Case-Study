{
 "cells": [
  {
   "cell_type": "markdown",
   "metadata": {},
   "source": [
    "   # Lending Club Case Study\n",
    "    Nikhil N Barigidad\n",
    "\n",
    "<hr style=\"border:0.2px solid gray\"> </hr>\n",
    "A consumer finance company which specialises in lending various types of loans to urban customers wants assistance to reduce their credit loss.\n",
    "\n",
    "**Business Understanding**\\\n",
    "The company has to make a decision when it receives a loan application, i.e. whether to approve it or not. The 2 type of risk associated here are:\n",
    " * If the applicant is likely to repay the loan, then not approving the loan\n",
    " * If the applicant is not likely to repay the loan, then approving the loan\n",
    " \n",
    "Using the data given of the past loan applicants, identification of such patterns must be done that can help us to  find the next defaulters.\n",
    "\n",
    "**Business Objective**\n",
    "Here the objective is  to understand the driving factors/driver variables which result in to loan defaults. Using this knowledge the company can calculate the risk before lending money to a customer.\n"
   ]
  },
  {
   "cell_type": "code",
   "execution_count": 1,
   "metadata": {
    "executionInfo": {
     "elapsed": 1132,
     "status": "ok",
     "timestamp": 1629257581646,
     "user": {
      "displayName": "Nikhil N B",
      "photoUrl": "https://lh3.googleusercontent.com/a-/AOh14GjdQxFkrTpQoFHYQwPdqM-S0E1eS_6SCaP5eodp=s64",
      "userId": "08250266006689556220"
     },
     "user_tz": -330
    },
    "id": "azQnL8zeX-L5"
   },
   "outputs": [],
   "source": [
    "import numpy as np\n",
    "import pandas as pd\n",
    "import os\n",
    "import numpy as np\n",
    "import matplotlib.pyplot as plt\n",
    "import seaborn as sns\n",
    "import warnings\n",
    "\n",
    "warnings.filterwarnings('ignore')"
   ]
  },
  {
   "cell_type": "code",
   "execution_count": 2,
   "metadata": {
    "colab": {
     "base_uri": "https://localhost:8080/"
    },
    "executionInfo": {
     "elapsed": 2987,
     "status": "ok",
     "timestamp": 1629257638074,
     "user": {
      "displayName": "Nikhil N B",
      "photoUrl": "https://lh3.googleusercontent.com/a-/AOh14GjdQxFkrTpQoFHYQwPdqM-S0E1eS_6SCaP5eodp=s64",
      "userId": "08250266006689556220"
     },
     "user_tz": -330
    },
    "id": "xTrTTKyTGyiI",
    "outputId": "713f95d9-0a2c-4855-cc69-86218a7a938a"
   },
   "outputs": [
    {
     "data": {
      "text/plain": [
       "(39717, 111)"
      ]
     },
     "execution_count": 2,
     "metadata": {},
     "output_type": "execute_result"
    }
   ],
   "source": [
    "loan = pd.read_csv('loan.csv',dtype=object)\n",
    "loan.shape"
   ]
  },
  {
   "cell_type": "code",
   "execution_count": 3,
   "metadata": {
    "colab": {
     "base_uri": "https://localhost:8080/",
     "height": 695
    },
    "executionInfo": {
     "elapsed": 379,
     "status": "ok",
     "timestamp": 1629257651546,
     "user": {
      "displayName": "Nikhil N B",
      "photoUrl": "https://lh3.googleusercontent.com/a-/AOh14GjdQxFkrTpQoFHYQwPdqM-S0E1eS_6SCaP5eodp=s64",
      "userId": "08250266006689556220"
     },
     "user_tz": -330
    },
    "id": "qJ-uttDxE8HD",
    "outputId": "2c1cbb33-4879-4700-adae-d6e10327672d"
   },
   "outputs": [
    {
     "data": {
      "text/html": [
       "<div>\n",
       "<style scoped>\n",
       "    .dataframe tbody tr th:only-of-type {\n",
       "        vertical-align: middle;\n",
       "    }\n",
       "\n",
       "    .dataframe tbody tr th {\n",
       "        vertical-align: top;\n",
       "    }\n",
       "\n",
       "    .dataframe thead th {\n",
       "        text-align: right;\n",
       "    }\n",
       "</style>\n",
       "<table border=\"1\" class=\"dataframe\">\n",
       "  <thead>\n",
       "    <tr style=\"text-align: right;\">\n",
       "      <th></th>\n",
       "      <th>id</th>\n",
       "      <th>member_id</th>\n",
       "      <th>loan_amnt</th>\n",
       "      <th>funded_amnt</th>\n",
       "      <th>funded_amnt_inv</th>\n",
       "      <th>term</th>\n",
       "      <th>int_rate</th>\n",
       "      <th>installment</th>\n",
       "      <th>grade</th>\n",
       "      <th>sub_grade</th>\n",
       "      <th>...</th>\n",
       "      <th>num_tl_90g_dpd_24m</th>\n",
       "      <th>num_tl_op_past_12m</th>\n",
       "      <th>pct_tl_nvr_dlq</th>\n",
       "      <th>percent_bc_gt_75</th>\n",
       "      <th>pub_rec_bankruptcies</th>\n",
       "      <th>tax_liens</th>\n",
       "      <th>tot_hi_cred_lim</th>\n",
       "      <th>total_bal_ex_mort</th>\n",
       "      <th>total_bc_limit</th>\n",
       "      <th>total_il_high_credit_limit</th>\n",
       "    </tr>\n",
       "  </thead>\n",
       "  <tbody>\n",
       "    <tr>\n",
       "      <th>0</th>\n",
       "      <td>1077501</td>\n",
       "      <td>1296599</td>\n",
       "      <td>5000</td>\n",
       "      <td>5000</td>\n",
       "      <td>4975</td>\n",
       "      <td>36 months</td>\n",
       "      <td>10.65%</td>\n",
       "      <td>162.87</td>\n",
       "      <td>B</td>\n",
       "      <td>B2</td>\n",
       "      <td>...</td>\n",
       "      <td>NaN</td>\n",
       "      <td>NaN</td>\n",
       "      <td>NaN</td>\n",
       "      <td>NaN</td>\n",
       "      <td>0</td>\n",
       "      <td>0</td>\n",
       "      <td>NaN</td>\n",
       "      <td>NaN</td>\n",
       "      <td>NaN</td>\n",
       "      <td>NaN</td>\n",
       "    </tr>\n",
       "    <tr>\n",
       "      <th>1</th>\n",
       "      <td>1077430</td>\n",
       "      <td>1314167</td>\n",
       "      <td>2500</td>\n",
       "      <td>2500</td>\n",
       "      <td>2500</td>\n",
       "      <td>60 months</td>\n",
       "      <td>15.27%</td>\n",
       "      <td>59.83</td>\n",
       "      <td>C</td>\n",
       "      <td>C4</td>\n",
       "      <td>...</td>\n",
       "      <td>NaN</td>\n",
       "      <td>NaN</td>\n",
       "      <td>NaN</td>\n",
       "      <td>NaN</td>\n",
       "      <td>0</td>\n",
       "      <td>0</td>\n",
       "      <td>NaN</td>\n",
       "      <td>NaN</td>\n",
       "      <td>NaN</td>\n",
       "      <td>NaN</td>\n",
       "    </tr>\n",
       "    <tr>\n",
       "      <th>2</th>\n",
       "      <td>1077175</td>\n",
       "      <td>1313524</td>\n",
       "      <td>2400</td>\n",
       "      <td>2400</td>\n",
       "      <td>2400</td>\n",
       "      <td>36 months</td>\n",
       "      <td>15.96%</td>\n",
       "      <td>84.33</td>\n",
       "      <td>C</td>\n",
       "      <td>C5</td>\n",
       "      <td>...</td>\n",
       "      <td>NaN</td>\n",
       "      <td>NaN</td>\n",
       "      <td>NaN</td>\n",
       "      <td>NaN</td>\n",
       "      <td>0</td>\n",
       "      <td>0</td>\n",
       "      <td>NaN</td>\n",
       "      <td>NaN</td>\n",
       "      <td>NaN</td>\n",
       "      <td>NaN</td>\n",
       "    </tr>\n",
       "    <tr>\n",
       "      <th>3</th>\n",
       "      <td>1076863</td>\n",
       "      <td>1277178</td>\n",
       "      <td>10000</td>\n",
       "      <td>10000</td>\n",
       "      <td>10000</td>\n",
       "      <td>36 months</td>\n",
       "      <td>13.49%</td>\n",
       "      <td>339.31</td>\n",
       "      <td>C</td>\n",
       "      <td>C1</td>\n",
       "      <td>...</td>\n",
       "      <td>NaN</td>\n",
       "      <td>NaN</td>\n",
       "      <td>NaN</td>\n",
       "      <td>NaN</td>\n",
       "      <td>0</td>\n",
       "      <td>0</td>\n",
       "      <td>NaN</td>\n",
       "      <td>NaN</td>\n",
       "      <td>NaN</td>\n",
       "      <td>NaN</td>\n",
       "    </tr>\n",
       "    <tr>\n",
       "      <th>4</th>\n",
       "      <td>1075358</td>\n",
       "      <td>1311748</td>\n",
       "      <td>3000</td>\n",
       "      <td>3000</td>\n",
       "      <td>3000</td>\n",
       "      <td>60 months</td>\n",
       "      <td>12.69%</td>\n",
       "      <td>67.79</td>\n",
       "      <td>B</td>\n",
       "      <td>B5</td>\n",
       "      <td>...</td>\n",
       "      <td>NaN</td>\n",
       "      <td>NaN</td>\n",
       "      <td>NaN</td>\n",
       "      <td>NaN</td>\n",
       "      <td>0</td>\n",
       "      <td>0</td>\n",
       "      <td>NaN</td>\n",
       "      <td>NaN</td>\n",
       "      <td>NaN</td>\n",
       "      <td>NaN</td>\n",
       "    </tr>\n",
       "  </tbody>\n",
       "</table>\n",
       "<p>5 rows × 111 columns</p>\n",
       "</div>"
      ],
      "text/plain": [
       "        id member_id loan_amnt funded_amnt funded_amnt_inv        term  \\\n",
       "0  1077501   1296599      5000        5000            4975   36 months   \n",
       "1  1077430   1314167      2500        2500            2500   60 months   \n",
       "2  1077175   1313524      2400        2400            2400   36 months   \n",
       "3  1076863   1277178     10000       10000           10000   36 months   \n",
       "4  1075358   1311748      3000        3000            3000   60 months   \n",
       "\n",
       "  int_rate installment grade sub_grade  ... num_tl_90g_dpd_24m  \\\n",
       "0   10.65%      162.87     B        B2  ...                NaN   \n",
       "1   15.27%       59.83     C        C4  ...                NaN   \n",
       "2   15.96%       84.33     C        C5  ...                NaN   \n",
       "3   13.49%      339.31     C        C1  ...                NaN   \n",
       "4   12.69%       67.79     B        B5  ...                NaN   \n",
       "\n",
       "  num_tl_op_past_12m pct_tl_nvr_dlq percent_bc_gt_75 pub_rec_bankruptcies  \\\n",
       "0                NaN            NaN              NaN                    0   \n",
       "1                NaN            NaN              NaN                    0   \n",
       "2                NaN            NaN              NaN                    0   \n",
       "3                NaN            NaN              NaN                    0   \n",
       "4                NaN            NaN              NaN                    0   \n",
       "\n",
       "  tax_liens tot_hi_cred_lim total_bal_ex_mort total_bc_limit  \\\n",
       "0         0             NaN               NaN            NaN   \n",
       "1         0             NaN               NaN            NaN   \n",
       "2         0             NaN               NaN            NaN   \n",
       "3         0             NaN               NaN            NaN   \n",
       "4         0             NaN               NaN            NaN   \n",
       "\n",
       "  total_il_high_credit_limit  \n",
       "0                        NaN  \n",
       "1                        NaN  \n",
       "2                        NaN  \n",
       "3                        NaN  \n",
       "4                        NaN  \n",
       "\n",
       "[5 rows x 111 columns]"
      ]
     },
     "execution_count": 3,
     "metadata": {},
     "output_type": "execute_result"
    }
   ],
   "source": [
    "loan.head(5)"
   ]
  },
  {
   "cell_type": "markdown",
   "metadata": {
    "id": "IuLeTP3sFNvX"
   },
   "source": [
    "# Data Cleaning"
   ]
  },
  {
   "cell_type": "code",
   "execution_count": 4,
   "metadata": {
    "colab": {
     "base_uri": "https://localhost:8080/",
     "height": 98
    },
    "executionInfo": {
     "elapsed": 533,
     "status": "ok",
     "timestamp": 1629257653035,
     "user": {
      "displayName": "Nikhil N B",
      "photoUrl": "https://lh3.googleusercontent.com/a-/AOh14GjdQxFkrTpQoFHYQwPdqM-S0E1eS_6SCaP5eodp=s64",
      "userId": "08250266006689556220"
     },
     "user_tz": -330
    },
    "id": "dmJd_9TQG8gU",
    "outputId": "32d56179-f28d-44e5-ed66-3809366d7225"
   },
   "outputs": [
    {
     "data": {
      "text/html": [
       "<div>\n",
       "<style scoped>\n",
       "    .dataframe tbody tr th:only-of-type {\n",
       "        vertical-align: middle;\n",
       "    }\n",
       "\n",
       "    .dataframe tbody tr th {\n",
       "        vertical-align: top;\n",
       "    }\n",
       "\n",
       "    .dataframe thead th {\n",
       "        text-align: right;\n",
       "    }\n",
       "</style>\n",
       "<table border=\"1\" class=\"dataframe\">\n",
       "  <thead>\n",
       "    <tr style=\"text-align: right;\">\n",
       "      <th></th>\n",
       "      <th>id</th>\n",
       "      <th>member_id</th>\n",
       "      <th>loan_amnt</th>\n",
       "      <th>funded_amnt</th>\n",
       "      <th>funded_amnt_inv</th>\n",
       "      <th>term</th>\n",
       "      <th>int_rate</th>\n",
       "      <th>installment</th>\n",
       "      <th>grade</th>\n",
       "      <th>sub_grade</th>\n",
       "      <th>...</th>\n",
       "      <th>num_tl_90g_dpd_24m</th>\n",
       "      <th>num_tl_op_past_12m</th>\n",
       "      <th>pct_tl_nvr_dlq</th>\n",
       "      <th>percent_bc_gt_75</th>\n",
       "      <th>pub_rec_bankruptcies</th>\n",
       "      <th>tax_liens</th>\n",
       "      <th>tot_hi_cred_lim</th>\n",
       "      <th>total_bal_ex_mort</th>\n",
       "      <th>total_bc_limit</th>\n",
       "      <th>total_il_high_credit_limit</th>\n",
       "    </tr>\n",
       "  </thead>\n",
       "  <tbody>\n",
       "  </tbody>\n",
       "</table>\n",
       "<p>0 rows × 111 columns</p>\n",
       "</div>"
      ],
      "text/plain": [
       "Empty DataFrame\n",
       "Columns: [id, member_id, loan_amnt, funded_amnt, funded_amnt_inv, term, int_rate, installment, grade, sub_grade, emp_title, emp_length, home_ownership, annual_inc, verification_status, issue_d, loan_status, pymnt_plan, url, desc, purpose, title, zip_code, addr_state, dti, delinq_2yrs, earliest_cr_line, inq_last_6mths, mths_since_last_delinq, mths_since_last_record, open_acc, pub_rec, revol_bal, revol_util, total_acc, initial_list_status, out_prncp, out_prncp_inv, total_pymnt, total_pymnt_inv, total_rec_prncp, total_rec_int, total_rec_late_fee, recoveries, collection_recovery_fee, last_pymnt_d, last_pymnt_amnt, next_pymnt_d, last_credit_pull_d, collections_12_mths_ex_med, mths_since_last_major_derog, policy_code, application_type, annual_inc_joint, dti_joint, verification_status_joint, acc_now_delinq, tot_coll_amt, tot_cur_bal, open_acc_6m, open_il_6m, open_il_12m, open_il_24m, mths_since_rcnt_il, total_bal_il, il_util, open_rv_12m, open_rv_24m, max_bal_bc, all_util, total_rev_hi_lim, inq_fi, total_cu_tl, inq_last_12m, acc_open_past_24mths, avg_cur_bal, bc_open_to_buy, bc_util, chargeoff_within_12_mths, delinq_amnt, mo_sin_old_il_acct, mo_sin_old_rev_tl_op, mo_sin_rcnt_rev_tl_op, mo_sin_rcnt_tl, mort_acc, mths_since_recent_bc, mths_since_recent_bc_dlq, mths_since_recent_inq, mths_since_recent_revol_delinq, num_accts_ever_120_pd, num_actv_bc_tl, num_actv_rev_tl, num_bc_sats, num_bc_tl, num_il_tl, num_op_rev_tl, num_rev_accts, num_rev_tl_bal_gt_0, num_sats, num_tl_120dpd_2m, ...]\n",
       "Index: []\n",
       "\n",
       "[0 rows x 111 columns]"
      ]
     },
     "execution_count": 4,
     "metadata": {},
     "output_type": "execute_result"
    }
   ],
   "source": [
    "# Check for duplicate rows in dataset based on id column\n",
    "loan[loan.duplicated(['id'])]"
   ]
  },
  {
   "cell_type": "code",
   "execution_count": 5,
   "metadata": {
    "executionInfo": {
     "elapsed": 30,
     "status": "ok",
     "timestamp": 1629257653036,
     "user": {
      "displayName": "Nikhil N B",
      "photoUrl": "https://lh3.googleusercontent.com/a-/AOh14GjdQxFkrTpQoFHYQwPdqM-S0E1eS_6SCaP5eodp=s64",
      "userId": "08250266006689556220"
     },
     "user_tz": -330
    },
    "id": "luILPb48HEvV"
   },
   "outputs": [],
   "source": [
    "#dropping all the columns which have all null values\n",
    "loan.dropna(how='all', axis=1, inplace=True)\n"
   ]
  },
  {
   "cell_type": "code",
   "execution_count": 6,
   "metadata": {
    "colab": {
     "base_uri": "https://localhost:8080/"
    },
    "executionInfo": {
     "elapsed": 29,
     "status": "ok",
     "timestamp": 1629257653036,
     "user": {
      "displayName": "Nikhil N B",
      "photoUrl": "https://lh3.googleusercontent.com/a-/AOh14GjdQxFkrTpQoFHYQwPdqM-S0E1eS_6SCaP5eodp=s64",
      "userId": "08250266006689556220"
     },
     "user_tz": -330
    },
    "id": "CAAne16rEdmT",
    "outputId": "faf1ede1-8c91-4a0a-873a-ee87f099b4a0"
   },
   "outputs": [
    {
     "data": {
      "text/plain": [
       "next_pymnt_d                  97.13\n",
       "mths_since_last_record        92.99\n",
       "mths_since_last_delinq        64.66\n",
       "desc                          32.58\n",
       "emp_title                      6.19\n",
       "emp_length                     2.71\n",
       "pub_rec_bankruptcies           1.75\n",
       "last_pymnt_d                   0.18\n",
       "chargeoff_within_12_mths       0.14\n",
       "collections_12_mths_ex_med     0.14\n",
       "revol_util                     0.13\n",
       "tax_liens                      0.10\n",
       "title                          0.03\n",
       "last_credit_pull_d             0.01\n",
       "home_ownership                 0.00\n",
       "dtype: float64"
      ]
     },
     "execution_count": 6,
     "metadata": {},
     "output_type": "execute_result"
    }
   ],
   "source": [
    "#percentage of null values in each columns\n",
    "(loan.isnull().sum() * 100 / len(loan)).round(2).sort_values(ascending=False).head(15)"
   ]
  },
  {
   "cell_type": "code",
   "execution_count": 7,
   "metadata": {
    "executionInfo": {
     "elapsed": 17,
     "status": "ok",
     "timestamp": 1629257653037,
     "user": {
      "displayName": "Nikhil N B",
      "photoUrl": "https://lh3.googleusercontent.com/a-/AOh14GjdQxFkrTpQoFHYQwPdqM-S0E1eS_6SCaP5eodp=s64",
      "userId": "08250266006689556220"
     },
     "user_tz": -330
    },
    "id": "nn_bITU8Ekn_"
   },
   "outputs": [],
   "source": [
    "#droping the columns wwith more than 30% null value\n",
    "loan=loan.drop(['next_pymnt_d','mths_since_last_record','mths_since_last_delinq','desc'], axis=1)"
   ]
  },
  {
   "cell_type": "code",
   "execution_count": 8,
   "metadata": {
    "colab": {
     "base_uri": "https://localhost:8080/"
    },
    "executionInfo": {
     "elapsed": 16,
     "status": "ok",
     "timestamp": 1629257653037,
     "user": {
      "displayName": "Nikhil N B",
      "photoUrl": "https://lh3.googleusercontent.com/a-/AOh14GjdQxFkrTpQoFHYQwPdqM-S0E1eS_6SCaP5eodp=s64",
      "userId": "08250266006689556220"
     },
     "user_tz": -330
    },
    "id": "BcIg29AVEoCy",
    "outputId": "1ca5a147-8590-492e-b0c8-ceb2a35b7e6f"
   },
   "outputs": [
    {
     "data": {
      "text/plain": [
       "emp_title                     6.19\n",
       "emp_length                    2.71\n",
       "pub_rec_bankruptcies          1.75\n",
       "last_pymnt_d                  0.18\n",
       "collections_12_mths_ex_med    0.14\n",
       "chargeoff_within_12_mths      0.14\n",
       "revol_util                    0.13\n",
       "tax_liens                     0.10\n",
       "title                         0.03\n",
       "last_credit_pull_d            0.01\n",
       "total_rec_prncp               0.00\n",
       "out_prncp                     0.00\n",
       "dtype: float64"
      ]
     },
     "execution_count": 8,
     "metadata": {},
     "output_type": "execute_result"
    }
   ],
   "source": [
    "(loan.isnull().sum() * 100 / len(loan)).round(2).sort_values(ascending=False).head(12)"
   ]
  },
  {
   "cell_type": "code",
   "execution_count": 9,
   "metadata": {
    "colab": {
     "base_uri": "https://localhost:8080/",
     "height": 360
    },
    "executionInfo": {
     "elapsed": 76,
     "status": "ok",
     "timestamp": 1629257653961,
     "user": {
      "displayName": "Nikhil N B",
      "photoUrl": "https://lh3.googleusercontent.com/a-/AOh14GjdQxFkrTpQoFHYQwPdqM-S0E1eS_6SCaP5eodp=s64",
      "userId": "08250266006689556220"
     },
     "user_tz": -330
    },
    "id": "1TtELA6vErc5",
    "outputId": "8d8bfa2b-8ec5-4f9b-c786-959da9e5fc33"
   },
   "outputs": [
    {
     "data": {
      "text/html": [
       "<div>\n",
       "<style scoped>\n",
       "    .dataframe tbody tr th:only-of-type {\n",
       "        vertical-align: middle;\n",
       "    }\n",
       "\n",
       "    .dataframe tbody tr th {\n",
       "        vertical-align: top;\n",
       "    }\n",
       "\n",
       "    .dataframe thead th {\n",
       "        text-align: right;\n",
       "    }\n",
       "</style>\n",
       "<table border=\"1\" class=\"dataframe\">\n",
       "  <thead>\n",
       "    <tr style=\"text-align: right;\">\n",
       "      <th></th>\n",
       "      <th>id</th>\n",
       "      <th>member_id</th>\n",
       "      <th>loan_amnt</th>\n",
       "      <th>funded_amnt</th>\n",
       "      <th>funded_amnt_inv</th>\n",
       "      <th>term</th>\n",
       "      <th>int_rate</th>\n",
       "      <th>installment</th>\n",
       "      <th>grade</th>\n",
       "      <th>sub_grade</th>\n",
       "      <th>...</th>\n",
       "      <th>last_pymnt_amnt</th>\n",
       "      <th>last_credit_pull_d</th>\n",
       "      <th>collections_12_mths_ex_med</th>\n",
       "      <th>policy_code</th>\n",
       "      <th>application_type</th>\n",
       "      <th>acc_now_delinq</th>\n",
       "      <th>chargeoff_within_12_mths</th>\n",
       "      <th>delinq_amnt</th>\n",
       "      <th>pub_rec_bankruptcies</th>\n",
       "      <th>tax_liens</th>\n",
       "    </tr>\n",
       "  </thead>\n",
       "  <tbody>\n",
       "    <tr>\n",
       "      <th>0</th>\n",
       "      <td>1077501</td>\n",
       "      <td>1296599</td>\n",
       "      <td>5000</td>\n",
       "      <td>5000</td>\n",
       "      <td>4975</td>\n",
       "      <td>36 months</td>\n",
       "      <td>10.65%</td>\n",
       "      <td>162.87</td>\n",
       "      <td>B</td>\n",
       "      <td>B2</td>\n",
       "      <td>...</td>\n",
       "      <td>171.62</td>\n",
       "      <td>May-16</td>\n",
       "      <td>0</td>\n",
       "      <td>1</td>\n",
       "      <td>INDIVIDUAL</td>\n",
       "      <td>0</td>\n",
       "      <td>0</td>\n",
       "      <td>0</td>\n",
       "      <td>0</td>\n",
       "      <td>0</td>\n",
       "    </tr>\n",
       "    <tr>\n",
       "      <th>1</th>\n",
       "      <td>1077430</td>\n",
       "      <td>1314167</td>\n",
       "      <td>2500</td>\n",
       "      <td>2500</td>\n",
       "      <td>2500</td>\n",
       "      <td>60 months</td>\n",
       "      <td>15.27%</td>\n",
       "      <td>59.83</td>\n",
       "      <td>C</td>\n",
       "      <td>C4</td>\n",
       "      <td>...</td>\n",
       "      <td>119.66</td>\n",
       "      <td>Sep-13</td>\n",
       "      <td>0</td>\n",
       "      <td>1</td>\n",
       "      <td>INDIVIDUAL</td>\n",
       "      <td>0</td>\n",
       "      <td>0</td>\n",
       "      <td>0</td>\n",
       "      <td>0</td>\n",
       "      <td>0</td>\n",
       "    </tr>\n",
       "    <tr>\n",
       "      <th>2</th>\n",
       "      <td>1077175</td>\n",
       "      <td>1313524</td>\n",
       "      <td>2400</td>\n",
       "      <td>2400</td>\n",
       "      <td>2400</td>\n",
       "      <td>36 months</td>\n",
       "      <td>15.96%</td>\n",
       "      <td>84.33</td>\n",
       "      <td>C</td>\n",
       "      <td>C5</td>\n",
       "      <td>...</td>\n",
       "      <td>649.91</td>\n",
       "      <td>May-16</td>\n",
       "      <td>0</td>\n",
       "      <td>1</td>\n",
       "      <td>INDIVIDUAL</td>\n",
       "      <td>0</td>\n",
       "      <td>0</td>\n",
       "      <td>0</td>\n",
       "      <td>0</td>\n",
       "      <td>0</td>\n",
       "    </tr>\n",
       "    <tr>\n",
       "      <th>3</th>\n",
       "      <td>1076863</td>\n",
       "      <td>1277178</td>\n",
       "      <td>10000</td>\n",
       "      <td>10000</td>\n",
       "      <td>10000</td>\n",
       "      <td>36 months</td>\n",
       "      <td>13.49%</td>\n",
       "      <td>339.31</td>\n",
       "      <td>C</td>\n",
       "      <td>C1</td>\n",
       "      <td>...</td>\n",
       "      <td>357.48</td>\n",
       "      <td>Apr-16</td>\n",
       "      <td>0</td>\n",
       "      <td>1</td>\n",
       "      <td>INDIVIDUAL</td>\n",
       "      <td>0</td>\n",
       "      <td>0</td>\n",
       "      <td>0</td>\n",
       "      <td>0</td>\n",
       "      <td>0</td>\n",
       "    </tr>\n",
       "    <tr>\n",
       "      <th>4</th>\n",
       "      <td>1075358</td>\n",
       "      <td>1311748</td>\n",
       "      <td>3000</td>\n",
       "      <td>3000</td>\n",
       "      <td>3000</td>\n",
       "      <td>60 months</td>\n",
       "      <td>12.69%</td>\n",
       "      <td>67.79</td>\n",
       "      <td>B</td>\n",
       "      <td>B5</td>\n",
       "      <td>...</td>\n",
       "      <td>67.79</td>\n",
       "      <td>May-16</td>\n",
       "      <td>0</td>\n",
       "      <td>1</td>\n",
       "      <td>INDIVIDUAL</td>\n",
       "      <td>0</td>\n",
       "      <td>0</td>\n",
       "      <td>0</td>\n",
       "      <td>0</td>\n",
       "      <td>0</td>\n",
       "    </tr>\n",
       "  </tbody>\n",
       "</table>\n",
       "<p>5 rows × 53 columns</p>\n",
       "</div>"
      ],
      "text/plain": [
       "        id member_id loan_amnt funded_amnt funded_amnt_inv        term  \\\n",
       "0  1077501   1296599      5000        5000            4975   36 months   \n",
       "1  1077430   1314167      2500        2500            2500   60 months   \n",
       "2  1077175   1313524      2400        2400            2400   36 months   \n",
       "3  1076863   1277178     10000       10000           10000   36 months   \n",
       "4  1075358   1311748      3000        3000            3000   60 months   \n",
       "\n",
       "  int_rate installment grade sub_grade  ... last_pymnt_amnt  \\\n",
       "0   10.65%      162.87     B        B2  ...          171.62   \n",
       "1   15.27%       59.83     C        C4  ...          119.66   \n",
       "2   15.96%       84.33     C        C5  ...          649.91   \n",
       "3   13.49%      339.31     C        C1  ...          357.48   \n",
       "4   12.69%       67.79     B        B5  ...           67.79   \n",
       "\n",
       "  last_credit_pull_d collections_12_mths_ex_med policy_code application_type  \\\n",
       "0             May-16                          0           1       INDIVIDUAL   \n",
       "1             Sep-13                          0           1       INDIVIDUAL   \n",
       "2             May-16                          0           1       INDIVIDUAL   \n",
       "3             Apr-16                          0           1       INDIVIDUAL   \n",
       "4             May-16                          0           1       INDIVIDUAL   \n",
       "\n",
       "  acc_now_delinq chargeoff_within_12_mths delinq_amnt pub_rec_bankruptcies  \\\n",
       "0              0                        0           0                    0   \n",
       "1              0                        0           0                    0   \n",
       "2              0                        0           0                    0   \n",
       "3              0                        0           0                    0   \n",
       "4              0                        0           0                    0   \n",
       "\n",
       "  tax_liens  \n",
       "0         0  \n",
       "1         0  \n",
       "2         0  \n",
       "3         0  \n",
       "4         0  \n",
       "\n",
       "[5 rows x 53 columns]"
      ]
     },
     "execution_count": 9,
     "metadata": {},
     "output_type": "execute_result"
    }
   ],
   "source": [
    "loan.head()"
   ]
  },
  {
   "cell_type": "code",
   "execution_count": 10,
   "metadata": {
    "executionInfo": {
     "elapsed": 74,
     "status": "ok",
     "timestamp": 1629257653962,
     "user": {
      "displayName": "Nikhil N B",
      "photoUrl": "https://lh3.googleusercontent.com/a-/AOh14GjdQxFkrTpQoFHYQwPdqM-S0E1eS_6SCaP5eodp=s64",
      "userId": "08250266006689556220"
     },
     "user_tz": -330
    },
    "id": "xX_ZgJM1B4hp"
   },
   "outputs": [],
   "source": [
    "#Dropping columns with only one unique value as it will not impact in the analysis\n",
    "loan = loan.loc[:, loan.nunique() != 1]"
   ]
  },
  {
   "cell_type": "code",
   "execution_count": 11,
   "metadata": {
    "colab": {
     "base_uri": "https://localhost:8080/"
    },
    "executionInfo": {
     "elapsed": 73,
     "status": "ok",
     "timestamp": 1629257653962,
     "user": {
      "displayName": "Nikhil N B",
      "photoUrl": "https://lh3.googleusercontent.com/a-/AOh14GjdQxFkrTpQoFHYQwPdqM-S0E1eS_6SCaP5eodp=s64",
      "userId": "08250266006689556220"
     },
     "user_tz": -330
    },
    "id": "8pW7Q32ZDAh6",
    "outputId": "d11b4187-6197-49bc-e5e5-5ce41a0ec9d7"
   },
   "outputs": [
    {
     "data": {
      "text/plain": [
       "(39717, 44)"
      ]
     },
     "execution_count": 11,
     "metadata": {},
     "output_type": "execute_result"
    }
   ],
   "source": [
    "loan.shape"
   ]
  },
  {
   "cell_type": "code",
   "execution_count": 12,
   "metadata": {
    "executionInfo": {
     "elapsed": 63,
     "status": "ok",
     "timestamp": 1629257653963,
     "user": {
      "displayName": "Nikhil N B",
      "photoUrl": "https://lh3.googleusercontent.com/a-/AOh14GjdQxFkrTpQoFHYQwPdqM-S0E1eS_6SCaP5eodp=s64",
      "userId": "08250266006689556220"
     },
     "user_tz": -330
    },
    "id": "HIIXOIcCEnsQ"
   },
   "outputs": [],
   "source": [
    "#emp_title has almost 72% of unique values, dropping this column to ease analysis\n",
    "loan = loan.drop(['emp_title'], axis=1)"
   ]
  },
  {
   "cell_type": "code",
   "execution_count": 13,
   "metadata": {
    "colab": {
     "base_uri": "https://localhost:8080/"
    },
    "executionInfo": {
     "elapsed": 63,
     "status": "ok",
     "timestamp": 1629257653963,
     "user": {
      "displayName": "Nikhil N B",
      "photoUrl": "https://lh3.googleusercontent.com/a-/AOh14GjdQxFkrTpQoFHYQwPdqM-S0E1eS_6SCaP5eodp=s64",
      "userId": "08250266006689556220"
     },
     "user_tz": -330
    },
    "id": "gK2EDE9tLSSV",
    "outputId": "c45bdfff-9514-442f-e2a9-1389acd8d74a"
   },
   "outputs": [
    {
     "name": "stdout",
     "output_type": "stream",
     "text": [
      "['0' '2' '3' '1' '4' '6' '5' '8' '7' '9' '11']\n",
      "89.1431880554926\n"
     ]
    }
   ],
   "source": [
    "#deling_2yrs % values of '0'\n",
    "print(loan.delinq_2yrs.unique())\n",
    "print((loan[loan['delinq_2yrs'] == '0'].shape[0]/loan.shape[0])*100)"
   ]
  },
  {
   "cell_type": "code",
   "execution_count": 14,
   "metadata": {
    "colab": {
     "base_uri": "https://localhost:8080/"
    },
    "executionInfo": {
     "elapsed": 56,
     "status": "ok",
     "timestamp": 1629257653964,
     "user": {
      "displayName": "Nikhil N B",
      "photoUrl": "https://lh3.googleusercontent.com/a-/AOh14GjdQxFkrTpQoFHYQwPdqM-S0E1eS_6SCaP5eodp=s64",
      "userId": "08250266006689556220"
     },
     "user_tz": -330
    },
    "id": "9MpFK7_pQhWm",
    "outputId": "7af35b6f-e7cb-4345-e6e5-ff96c6ea6caa"
   },
   "outputs": [
    {
     "name": "stdout",
     "output_type": "stream",
     "text": [
      "['0' '1' '2' '3' '4']\n",
      "94.6723065689755\n"
     ]
    }
   ],
   "source": [
    "#pub_rec % values of '0'\n",
    "print(loan.pub_rec.unique())\n",
    "print((loan[loan['pub_rec'] == '0'].shape[0]/loan.shape[0])*100)"
   ]
  },
  {
   "cell_type": "code",
   "execution_count": 15,
   "metadata": {
    "colab": {
     "base_uri": "https://localhost:8080/"
    },
    "executionInfo": {
     "elapsed": 51,
     "status": "ok",
     "timestamp": 1629257653965,
     "user": {
      "displayName": "Nikhil N B",
      "photoUrl": "https://lh3.googleusercontent.com/a-/AOh14GjdQxFkrTpQoFHYQwPdqM-S0E1eS_6SCaP5eodp=s64",
      "userId": "08250266006689556220"
     },
     "user_tz": -330
    },
    "id": "MIg4-1egRW2B",
    "outputId": "a93aa8a8-d313-4576-cbd5-aa28c75d8e3a"
   },
   "outputs": [
    {
     "name": "stdout",
     "output_type": "stream",
     "text": [
      "['0' '1' '2' nan]\n",
      "94.01263942392426\n"
     ]
    }
   ],
   "source": [
    "#pub_rec_bankruptcies % values of '0'\n",
    "print(loan.pub_rec_bankruptcies.unique())\n",
    "print((loan[loan['pub_rec_bankruptcies'] == '0'].shape[0]/loan.shape[0])*100)"
   ]
  },
  {
   "cell_type": "code",
   "execution_count": 16,
   "metadata": {
    "colab": {
     "base_uri": "https://localhost:8080/"
    },
    "executionInfo": {
     "elapsed": 44,
     "status": "ok",
     "timestamp": 1629257653965,
     "user": {
      "displayName": "Nikhil N B",
      "photoUrl": "https://lh3.googleusercontent.com/a-/AOh14GjdQxFkrTpQoFHYQwPdqM-S0E1eS_6SCaP5eodp=s64",
      "userId": "08250266006689556220"
     },
     "user_tz": -330
    },
    "id": "32P-br5eRwAh",
    "outputId": "bced5954-d21e-4bd6-cbaf-57da85392928"
   },
   "outputs": [
    {
     "name": "stdout",
     "output_type": "stream",
     "text": [
      "['0' '524.06' '1849.1' ... '19.12' '13.28' '79.24']\n",
      "97.12969257496789\n"
     ]
    }
   ],
   "source": [
    "#out_prncp % values of '0'\n",
    "print(loan.out_prncp.unique())\n",
    "print((loan[loan['out_prncp'] == '0'].shape[0]/loan.shape[0])*100)"
   ]
  },
  {
   "cell_type": "code",
   "execution_count": 17,
   "metadata": {
    "colab": {
     "base_uri": "https://localhost:8080/"
    },
    "executionInfo": {
     "elapsed": 37,
     "status": "ok",
     "timestamp": 1629257653965,
     "user": {
      "displayName": "Nikhil N B",
      "photoUrl": "https://lh3.googleusercontent.com/a-/AOh14GjdQxFkrTpQoFHYQwPdqM-S0E1eS_6SCaP5eodp=s64",
      "userId": "08250266006689556220"
     },
     "user_tz": -330
    },
    "id": "o-spp4maSNuM",
    "outputId": "d3285f39-8438-46e8-b2fc-6a7586761d6c"
   },
   "outputs": [
    {
     "name": "stdout",
     "output_type": "stream",
     "text": [
      "['0' '524.06' '1844.43' ... '19.09' '13.28' '79.24']\n",
      "97.12969257496789\n"
     ]
    }
   ],
   "source": [
    "#out_prncp_inv % values of '0'\n",
    "print(loan.out_prncp_inv.unique())\n",
    "print((loan[loan['out_prncp_inv'] == '0'].shape[0]/loan.shape[0])*100)"
   ]
  },
  {
   "cell_type": "code",
   "execution_count": 18,
   "metadata": {
    "colab": {
     "base_uri": "https://localhost:8080/"
    },
    "executionInfo": {
     "elapsed": 31,
     "status": "ok",
     "timestamp": 1629257653966,
     "user": {
      "displayName": "Nikhil N B",
      "photoUrl": "https://lh3.googleusercontent.com/a-/AOh14GjdQxFkrTpQoFHYQwPdqM-S0E1eS_6SCaP5eodp=s64",
      "userId": "08250266006689556220"
     },
     "user_tz": -330
    },
    "id": "g7vC_SZGSgVj",
    "outputId": "54a9d49f-8821-4142-f8c9-115046ca89de"
   },
   "outputs": [
    {
     "name": "stdout",
     "output_type": "stream",
     "text": [
      "['0' '16.97' '15.00000003' ... '1.69' '1.36' '19.89']\n",
      "94.8485535161266\n"
     ]
    }
   ],
   "source": [
    "#total_rec_late_fee % values of '0'\n",
    "print(loan.total_rec_late_fee.unique())\n",
    "print((loan[loan['total_rec_late_fee'] == '0'].shape[0]/loan.shape[0])*100)"
   ]
  },
  {
   "cell_type": "code",
   "execution_count": 19,
   "metadata": {
    "colab": {
     "base_uri": "https://localhost:8080/"
    },
    "executionInfo": {
     "elapsed": 25,
     "status": "ok",
     "timestamp": 1629257653966,
     "user": {
      "displayName": "Nikhil N B",
      "photoUrl": "https://lh3.googleusercontent.com/a-/AOh14GjdQxFkrTpQoFHYQwPdqM-S0E1eS_6SCaP5eodp=s64",
      "userId": "08250266006689556220"
     },
     "user_tz": -330
    },
    "id": "hiIf7ekXS0hA",
    "outputId": "9f9b80d1-c260-4a87-e00f-bb49da0396de"
   },
   "outputs": [
    {
     "name": "stdout",
     "output_type": "stream",
     "text": [
      "['0' '117.08' '189.06' ... '304.2' '35.7' '21.29']\n",
      "89.37986252738122\n"
     ]
    }
   ],
   "source": [
    "#recoveries % values of '0'\n",
    "print(loan.recoveries.unique())\n",
    "print((loan[loan['recoveries'] == '0'].shape[0]/loan.shape[0])*100)"
   ]
  },
  {
   "cell_type": "code",
   "execution_count": 20,
   "metadata": {
    "colab": {
     "base_uri": "https://localhost:8080/"
    },
    "executionInfo": {
     "elapsed": 19,
     "status": "ok",
     "timestamp": 1629257653967,
     "user": {
      "displayName": "Nikhil N B",
      "photoUrl": "https://lh3.googleusercontent.com/a-/AOh14GjdQxFkrTpQoFHYQwPdqM-S0E1eS_6SCaP5eodp=s64",
      "userId": "08250266006689556220"
     },
     "user_tz": -330
    },
    "id": "7ypbOfzoTErX",
    "outputId": "4664b7ba-fca5-4669-c547-d68adbc5eb2e"
   },
   "outputs": [
    {
     "name": "stdout",
     "output_type": "stream",
     "text": [
      "['0' '1.11' '2.09' ... '668.36' '444.25' '0.23']\n",
      "90.47762922677947\n"
     ]
    }
   ],
   "source": [
    "#collection_recovery_fee % values of '0'\n",
    "print(loan.collection_recovery_fee.unique())\n",
    "print((loan[loan['collection_recovery_fee'] == '0'].shape[0]/loan.shape[0])*100)"
   ]
  },
  {
   "cell_type": "code",
   "execution_count": 21,
   "metadata": {
    "executionInfo": {
     "elapsed": 12,
     "status": "ok",
     "timestamp": 1629257653967,
     "user": {
      "displayName": "Nikhil N B",
      "photoUrl": "https://lh3.googleusercontent.com/a-/AOh14GjdQxFkrTpQoFHYQwPdqM-S0E1eS_6SCaP5eodp=s64",
      "userId": "08250266006689556220"
     },
     "user_tz": -330
    },
    "id": "LEymnDjnO8Ej"
   },
   "outputs": [],
   "source": [
    "#dropping all the above columns as only one value accumulates more than 85% of the total data\n",
    "loan = loan.drop(['delinq_2yrs', 'pub_rec', 'pub_rec_bankruptcies', 'out_prncp', \n",
    "                  'out_prncp_inv', 'total_rec_late_fee', 'recoveries', 'collection_recovery_fee'], axis=1)"
   ]
  },
  {
   "cell_type": "code",
   "execution_count": 22,
   "metadata": {
    "executionInfo": {
     "elapsed": 414,
     "status": "ok",
     "timestamp": 1629257654369,
     "user": {
      "displayName": "Nikhil N B",
      "photoUrl": "https://lh3.googleusercontent.com/a-/AOh14GjdQxFkrTpQoFHYQwPdqM-S0E1eS_6SCaP5eodp=s64",
      "userId": "08250266006689556220"
     },
     "user_tz": -330
    },
    "id": "CoWnIh2PqjtT"
   },
   "outputs": [],
   "source": [
    "#dropping 'url' column as it not needed in further analysis\n",
    "loan = loan.drop(['url'], axis=1)"
   ]
  },
  {
   "cell_type": "code",
   "execution_count": 23,
   "metadata": {
    "executionInfo": {
     "elapsed": 12,
     "status": "ok",
     "timestamp": 1629257654369,
     "user": {
      "displayName": "Nikhil N B",
      "photoUrl": "https://lh3.googleusercontent.com/a-/AOh14GjdQxFkrTpQoFHYQwPdqM-S0E1eS_6SCaP5eodp=s64",
      "userId": "08250266006689556220"
     },
     "user_tz": -330
    },
    "id": "QPgBlhnWJ16n"
   },
   "outputs": [],
   "source": [
    "#Removing 'months' from term column \n",
    "loan['term'] = loan['term'].str.rstrip(\" months\")"
   ]
  },
  {
   "cell_type": "code",
   "execution_count": 24,
   "metadata": {
    "executionInfo": {
     "elapsed": 13,
     "status": "ok",
     "timestamp": 1629257654370,
     "user": {
      "displayName": "Nikhil N B",
      "photoUrl": "https://lh3.googleusercontent.com/a-/AOh14GjdQxFkrTpQoFHYQwPdqM-S0E1eS_6SCaP5eodp=s64",
      "userId": "08250266006689556220"
     },
     "user_tz": -330
    },
    "id": "AgIHEaY4HIHr"
   },
   "outputs": [],
   "source": [
    "#Removing '%' from int_rate\n",
    "loan['int_rate'] = loan['int_rate'].str.rstrip(\"%\")"
   ]
  },
  {
   "cell_type": "code",
   "execution_count": 25,
   "metadata": {
    "executionInfo": {
     "elapsed": 13,
     "status": "ok",
     "timestamp": 1629257654370,
     "user": {
      "displayName": "Nikhil N B",
      "photoUrl": "https://lh3.googleusercontent.com/a-/AOh14GjdQxFkrTpQoFHYQwPdqM-S0E1eS_6SCaP5eodp=s64",
      "userId": "08250266006689556220"
     },
     "user_tz": -330
    },
    "id": "IfpDIme3Lyxh"
   },
   "outputs": [],
   "source": [
    "#Removing \"years\" from the end of emp_length values\n",
    "loan['emp_length'] = loan['emp_length'].str.rstrip(\" years\")\n",
    "#emp_length has <1, 1, 2, 3, 4, 5, 6, 7, 8, 9, 10+\n",
    "#value <1 can be considered as 0 and value 10+ can be taken as 10\n",
    "loan['emp_length'] = loan['emp_length'].replace({'10+':'10', '< 1':'0'})"
   ]
  },
  {
   "cell_type": "code",
   "execution_count": 26,
   "metadata": {
    "executionInfo": {
     "elapsed": 13,
     "status": "ok",
     "timestamp": 1629257654371,
     "user": {
      "displayName": "Nikhil N B",
      "photoUrl": "https://lh3.googleusercontent.com/a-/AOh14GjdQxFkrTpQoFHYQwPdqM-S0E1eS_6SCaP5eodp=s64",
      "userId": "08250266006689556220"
     },
     "user_tz": -330
    },
    "id": "ixuGdpRiqGTd"
   },
   "outputs": [],
   "source": [
    "#Removing '%' from revol_util\n",
    "loan['revol_util'] = loan['revol_util'].str.rstrip(\"%\")"
   ]
  },
  {
   "cell_type": "code",
   "execution_count": 27,
   "metadata": {
    "colab": {
     "base_uri": "https://localhost:8080/"
    },
    "executionInfo": {
     "elapsed": 375,
     "status": "ok",
     "timestamp": 1629257654733,
     "user": {
      "displayName": "Nikhil N B",
      "photoUrl": "https://lh3.googleusercontent.com/a-/AOh14GjdQxFkrTpQoFHYQwPdqM-S0E1eS_6SCaP5eodp=s64",
      "userId": "08250266006689556220"
     },
     "user_tz": -330
    },
    "id": "UZoxe8bvTD8n",
    "outputId": "068af53f-f23e-461e-a204-808136befe82"
   },
   "outputs": [],
   "source": [
    "#splitting dates into fifferent columns\n",
    "loan['issue_month'], loan['issue_year'] = loan['issue_d'].str.split('-').str\n",
    "loan['earliest_cr_line_month'], loan['earliest_cr_line_year'] = loan['earliest_cr_line'].str.split('-').str\n",
    "loan['last_pymnt_month'], loan['last_pymnt_year'] = loan['last_pymnt_d'].str.split('-').str\n",
    "loan['last_credit_pull_month'], loan['last_credit_pull_year'] = loan['last_credit_pull_d'].str.split('-').str\n",
    "\n",
    "#dropping combined columns\n",
    "loan = loan.drop(['issue_d', 'earliest_cr_line', 'last_pymnt_d', 'last_credit_pull_d'], axis=1)"
   ]
  },
  {
   "cell_type": "code",
   "execution_count": 28,
   "metadata": {
    "colab": {
     "base_uri": "https://localhost:8080/",
     "height": 258
    },
    "executionInfo": {
     "elapsed": 6,
     "status": "ok",
     "timestamp": 1629257654734,
     "user": {
      "displayName": "Nikhil N B",
      "photoUrl": "https://lh3.googleusercontent.com/a-/AOh14GjdQxFkrTpQoFHYQwPdqM-S0E1eS_6SCaP5eodp=s64",
      "userId": "08250266006689556220"
     },
     "user_tz": -330
    },
    "id": "H7vF--Bnk8xb",
    "outputId": "42ce2f58-1ede-408a-b7e1-823e2688d279"
   },
   "outputs": [
    {
     "data": {
      "text/html": [
       "<div>\n",
       "<style scoped>\n",
       "    .dataframe tbody tr th:only-of-type {\n",
       "        vertical-align: middle;\n",
       "    }\n",
       "\n",
       "    .dataframe tbody tr th {\n",
       "        vertical-align: top;\n",
       "    }\n",
       "\n",
       "    .dataframe thead th {\n",
       "        text-align: right;\n",
       "    }\n",
       "</style>\n",
       "<table border=\"1\" class=\"dataframe\">\n",
       "  <thead>\n",
       "    <tr style=\"text-align: right;\">\n",
       "      <th></th>\n",
       "      <th>id</th>\n",
       "      <th>member_id</th>\n",
       "      <th>loan_amnt</th>\n",
       "      <th>funded_amnt</th>\n",
       "      <th>funded_amnt_inv</th>\n",
       "      <th>term</th>\n",
       "      <th>int_rate</th>\n",
       "      <th>installment</th>\n",
       "      <th>grade</th>\n",
       "      <th>sub_grade</th>\n",
       "      <th>...</th>\n",
       "      <th>total_rec_int</th>\n",
       "      <th>last_pymnt_amnt</th>\n",
       "      <th>issue_month</th>\n",
       "      <th>issue_year</th>\n",
       "      <th>earliest_cr_line_month</th>\n",
       "      <th>earliest_cr_line_year</th>\n",
       "      <th>last_pymnt_month</th>\n",
       "      <th>last_pymnt_year</th>\n",
       "      <th>last_credit_pull_month</th>\n",
       "      <th>last_credit_pull_year</th>\n",
       "    </tr>\n",
       "  </thead>\n",
       "  <tbody>\n",
       "    <tr>\n",
       "      <th>0</th>\n",
       "      <td>1077501</td>\n",
       "      <td>1296599</td>\n",
       "      <td>5000</td>\n",
       "      <td>5000</td>\n",
       "      <td>4975</td>\n",
       "      <td>36</td>\n",
       "      <td>10.65</td>\n",
       "      <td>162.87</td>\n",
       "      <td>B</td>\n",
       "      <td>B2</td>\n",
       "      <td>...</td>\n",
       "      <td>863.16</td>\n",
       "      <td>171.62</td>\n",
       "      <td>Dec</td>\n",
       "      <td>11</td>\n",
       "      <td>Jan</td>\n",
       "      <td>85</td>\n",
       "      <td>Jan</td>\n",
       "      <td>15</td>\n",
       "      <td>May</td>\n",
       "      <td>16</td>\n",
       "    </tr>\n",
       "    <tr>\n",
       "      <th>1</th>\n",
       "      <td>1077430</td>\n",
       "      <td>1314167</td>\n",
       "      <td>2500</td>\n",
       "      <td>2500</td>\n",
       "      <td>2500</td>\n",
       "      <td>60</td>\n",
       "      <td>15.27</td>\n",
       "      <td>59.83</td>\n",
       "      <td>C</td>\n",
       "      <td>C4</td>\n",
       "      <td>...</td>\n",
       "      <td>435.17</td>\n",
       "      <td>119.66</td>\n",
       "      <td>Dec</td>\n",
       "      <td>11</td>\n",
       "      <td>Apr</td>\n",
       "      <td>99</td>\n",
       "      <td>Apr</td>\n",
       "      <td>13</td>\n",
       "      <td>Sep</td>\n",
       "      <td>13</td>\n",
       "    </tr>\n",
       "    <tr>\n",
       "      <th>2</th>\n",
       "      <td>1077175</td>\n",
       "      <td>1313524</td>\n",
       "      <td>2400</td>\n",
       "      <td>2400</td>\n",
       "      <td>2400</td>\n",
       "      <td>36</td>\n",
       "      <td>15.96</td>\n",
       "      <td>84.33</td>\n",
       "      <td>C</td>\n",
       "      <td>C5</td>\n",
       "      <td>...</td>\n",
       "      <td>605.67</td>\n",
       "      <td>649.91</td>\n",
       "      <td>Dec</td>\n",
       "      <td>11</td>\n",
       "      <td>Nov</td>\n",
       "      <td>01</td>\n",
       "      <td>Jun</td>\n",
       "      <td>14</td>\n",
       "      <td>May</td>\n",
       "      <td>16</td>\n",
       "    </tr>\n",
       "    <tr>\n",
       "      <th>3</th>\n",
       "      <td>1076863</td>\n",
       "      <td>1277178</td>\n",
       "      <td>10000</td>\n",
       "      <td>10000</td>\n",
       "      <td>10000</td>\n",
       "      <td>36</td>\n",
       "      <td>13.49</td>\n",
       "      <td>339.31</td>\n",
       "      <td>C</td>\n",
       "      <td>C1</td>\n",
       "      <td>...</td>\n",
       "      <td>2214.92</td>\n",
       "      <td>357.48</td>\n",
       "      <td>Dec</td>\n",
       "      <td>11</td>\n",
       "      <td>Feb</td>\n",
       "      <td>96</td>\n",
       "      <td>Jan</td>\n",
       "      <td>15</td>\n",
       "      <td>Apr</td>\n",
       "      <td>16</td>\n",
       "    </tr>\n",
       "    <tr>\n",
       "      <th>4</th>\n",
       "      <td>1075358</td>\n",
       "      <td>1311748</td>\n",
       "      <td>3000</td>\n",
       "      <td>3000</td>\n",
       "      <td>3000</td>\n",
       "      <td>60</td>\n",
       "      <td>12.69</td>\n",
       "      <td>67.79</td>\n",
       "      <td>B</td>\n",
       "      <td>B5</td>\n",
       "      <td>...</td>\n",
       "      <td>1037.39</td>\n",
       "      <td>67.79</td>\n",
       "      <td>Dec</td>\n",
       "      <td>11</td>\n",
       "      <td>Jan</td>\n",
       "      <td>96</td>\n",
       "      <td>May</td>\n",
       "      <td>16</td>\n",
       "      <td>May</td>\n",
       "      <td>16</td>\n",
       "    </tr>\n",
       "  </tbody>\n",
       "</table>\n",
       "<p>5 rows × 38 columns</p>\n",
       "</div>"
      ],
      "text/plain": [
       "        id member_id loan_amnt funded_amnt funded_amnt_inv term int_rate  \\\n",
       "0  1077501   1296599      5000        5000            4975   36    10.65   \n",
       "1  1077430   1314167      2500        2500            2500   60    15.27   \n",
       "2  1077175   1313524      2400        2400            2400   36    15.96   \n",
       "3  1076863   1277178     10000       10000           10000   36    13.49   \n",
       "4  1075358   1311748      3000        3000            3000   60    12.69   \n",
       "\n",
       "  installment grade sub_grade  ... total_rec_int last_pymnt_amnt issue_month  \\\n",
       "0      162.87     B        B2  ...        863.16          171.62         Dec   \n",
       "1       59.83     C        C4  ...        435.17          119.66         Dec   \n",
       "2       84.33     C        C5  ...        605.67          649.91         Dec   \n",
       "3      339.31     C        C1  ...       2214.92          357.48         Dec   \n",
       "4       67.79     B        B5  ...       1037.39           67.79         Dec   \n",
       "\n",
       "  issue_year earliest_cr_line_month earliest_cr_line_year last_pymnt_month  \\\n",
       "0         11                    Jan                    85              Jan   \n",
       "1         11                    Apr                    99              Apr   \n",
       "2         11                    Nov                    01              Jun   \n",
       "3         11                    Feb                    96              Jan   \n",
       "4         11                    Jan                    96              May   \n",
       "\n",
       "  last_pymnt_year last_credit_pull_month last_credit_pull_year  \n",
       "0              15                    May                    16  \n",
       "1              13                    Sep                    13  \n",
       "2              14                    May                    16  \n",
       "3              15                    Apr                    16  \n",
       "4              16                    May                    16  \n",
       "\n",
       "[5 rows x 38 columns]"
      ]
     },
     "execution_count": 28,
     "metadata": {},
     "output_type": "execute_result"
    }
   ],
   "source": [
    "loan.head()"
   ]
  },
  {
   "cell_type": "code",
   "execution_count": 29,
   "metadata": {
    "executionInfo": {
     "elapsed": 591,
     "status": "ok",
     "timestamp": 1629257655320,
     "user": {
      "displayName": "Nikhil N B",
      "photoUrl": "https://lh3.googleusercontent.com/a-/AOh14GjdQxFkrTpQoFHYQwPdqM-S0E1eS_6SCaP5eodp=s64",
      "userId": "08250266006689556220"
     },
     "user_tz": -330
    },
    "id": "NOZTAjD1k-Hj"
   },
   "outputs": [],
   "source": [
    "float_columns = ['loan_amnt', 'funded_amnt', 'emp_length','funded_amnt_inv', 'int_rate', 'installment', 'annual_inc', \n",
    "                 'dti', 'revol_bal', 'revol_util', 'total_pymnt', 'total_pymnt_inv', 'total_rec_prncp',\t'total_rec_int',\n",
    "                 'last_pymnt_amnt']\n",
    "int_columns = ['inq_last_6mths', 'open_acc', 'total_acc', 'int_rate']\n",
    "\n",
    "str_columns = ['home_ownership', 'verification_status', 'loan_status', 'purpose', 'title']\n",
    "\n",
    "loan[float_columns] = loan[float_columns].astype(np.float)\n",
    "loan[int_columns] = loan[int_columns].astype(np.int)\n",
    "loan[str_columns] = loan[str_columns].astype(str)"
   ]
  },
  {
   "cell_type": "code",
   "execution_count": 30,
   "metadata": {
    "executionInfo": {
     "elapsed": 652,
     "status": "ok",
     "timestamp": 1629257655971,
     "user": {
      "displayName": "Nikhil N B",
      "photoUrl": "https://lh3.googleusercontent.com/a-/AOh14GjdQxFkrTpQoFHYQwPdqM-S0E1eS_6SCaP5eodp=s64",
      "userId": "08250266006689556220"
     },
     "user_tz": -330
    },
    "id": "HdrnDUDInm-P"
   },
   "outputs": [],
   "source": [
    "loan = loan.applymap(lambda s: s.lower() if type(s) == str else s)"
   ]
  },
  {
   "cell_type": "code",
   "execution_count": 31,
   "metadata": {
    "colab": {
     "base_uri": "https://localhost:8080/"
    },
    "executionInfo": {
     "elapsed": 41,
     "status": "ok",
     "timestamp": 1629257655972,
     "user": {
      "displayName": "Nikhil N B",
      "photoUrl": "https://lh3.googleusercontent.com/a-/AOh14GjdQxFkrTpQoFHYQwPdqM-S0E1eS_6SCaP5eodp=s64",
      "userId": "08250266006689556220"
     },
     "user_tz": -330
    },
    "id": "3NmWBDHlmufu",
    "outputId": "8e072ef4-055f-42c7-939d-a90814e3a326"
   },
   "outputs": [
    {
     "data": {
      "text/plain": [
       "id                         object\n",
       "member_id                  object\n",
       "loan_amnt                 float64\n",
       "funded_amnt               float64\n",
       "funded_amnt_inv           float64\n",
       "term                       object\n",
       "int_rate                    int64\n",
       "installment               float64\n",
       "grade                      object\n",
       "sub_grade                  object\n",
       "emp_length                float64\n",
       "home_ownership             object\n",
       "annual_inc                float64\n",
       "verification_status        object\n",
       "loan_status                object\n",
       "purpose                    object\n",
       "title                      object\n",
       "zip_code                   object\n",
       "addr_state                 object\n",
       "dti                       float64\n",
       "inq_last_6mths              int64\n",
       "open_acc                    int64\n",
       "revol_bal                 float64\n",
       "revol_util                float64\n",
       "total_acc                   int64\n",
       "total_pymnt               float64\n",
       "total_pymnt_inv           float64\n",
       "total_rec_prncp           float64\n",
       "total_rec_int             float64\n",
       "last_pymnt_amnt           float64\n",
       "issue_month                object\n",
       "issue_year                 object\n",
       "earliest_cr_line_month     object\n",
       "earliest_cr_line_year      object\n",
       "last_pymnt_month           object\n",
       "last_pymnt_year            object\n",
       "last_credit_pull_month     object\n",
       "last_credit_pull_year      object\n",
       "dtype: object"
      ]
     },
     "execution_count": 31,
     "metadata": {},
     "output_type": "execute_result"
    }
   ],
   "source": [
    "loan.dtypes"
   ]
  },
  {
   "cell_type": "code",
   "execution_count": 32,
   "metadata": {
    "colab": {
     "base_uri": "https://localhost:8080/"
    },
    "executionInfo": {
     "elapsed": 36,
     "status": "ok",
     "timestamp": 1629257655972,
     "user": {
      "displayName": "Nikhil N B",
      "photoUrl": "https://lh3.googleusercontent.com/a-/AOh14GjdQxFkrTpQoFHYQwPdqM-S0E1eS_6SCaP5eodp=s64",
      "userId": "08250266006689556220"
     },
     "user_tz": -330
    },
    "id": "0ouO9LLUrgvl",
    "outputId": "7af00c8e-7e22-4d4b-c08c-e3c1a306814a"
   },
   "outputs": [
    {
     "data": {
      "text/plain": [
       "emp_length                2.71\n",
       "last_pymnt_year           0.18\n",
       "last_pymnt_month          0.18\n",
       "revol_util                0.13\n",
       "last_credit_pull_year     0.01\n",
       "last_credit_pull_month    0.01\n",
       "total_rec_prncp           0.00\n",
       "revol_bal                 0.00\n",
       "total_acc                 0.00\n",
       "total_pymnt               0.00\n",
       "total_pymnt_inv           0.00\n",
       "last_pymnt_amnt           0.00\n",
       "dtype: float64"
      ]
     },
     "execution_count": 32,
     "metadata": {},
     "output_type": "execute_result"
    }
   ],
   "source": [
    "(loan.isnull().sum() * 100 / len(loan)).round(2).sort_values(ascending=False).head(12)"
   ]
  },
  {
   "cell_type": "code",
   "execution_count": 33,
   "metadata": {
    "executionInfo": {
     "elapsed": 26,
     "status": "ok",
     "timestamp": 1629257655973,
     "user": {
      "displayName": "Nikhil N B",
      "photoUrl": "https://lh3.googleusercontent.com/a-/AOh14GjdQxFkrTpQoFHYQwPdqM-S0E1eS_6SCaP5eodp=s64",
      "userId": "08250266006689556220"
     },
     "user_tz": -330
    },
    "id": "aGdzZWyBHwR4"
   },
   "outputs": [],
   "source": [
    "#Fill na values median of each column\n",
    "loan = loan.fillna(loan.median())"
   ]
  },
  {
   "cell_type": "code",
   "execution_count": 34,
   "metadata": {
    "executionInfo": {
     "elapsed": 27,
     "status": "ok",
     "timestamp": 1629257655974,
     "user": {
      "displayName": "Nikhil N B",
      "photoUrl": "https://lh3.googleusercontent.com/a-/AOh14GjdQxFkrTpQoFHYQwPdqM-S0E1eS_6SCaP5eodp=s64",
      "userId": "08250266006689556220"
     },
     "user_tz": -330
    },
    "id": "hWBhtMM7rOpg"
   },
   "outputs": [],
   "source": [
    "#droping row which have null values\n",
    "loan.drop(loan[loan['last_pymnt_month'].isnull()].index, inplace = True)\n",
    "loan.drop(loan[loan['title'].isnull()].index, inplace = True)\n",
    "loan.drop(loan[loan['last_credit_pull_month'].isnull()].index, inplace = True)"
   ]
  },
  {
   "cell_type": "code",
   "execution_count": 35,
   "metadata": {
    "colab": {
     "base_uri": "https://localhost:8080/"
    },
    "executionInfo": {
     "elapsed": 25,
     "status": "ok",
     "timestamp": 1629257655974,
     "user": {
      "displayName": "Nikhil N B",
      "photoUrl": "https://lh3.googleusercontent.com/a-/AOh14GjdQxFkrTpQoFHYQwPdqM-S0E1eS_6SCaP5eodp=s64",
      "userId": "08250266006689556220"
     },
     "user_tz": -330
    },
    "id": "XiwtwqGrn1Bw",
    "outputId": "cb45ab03-2470-4fdf-9c8b-e9a5db141787"
   },
   "outputs": [
    {
     "data": {
      "text/plain": [
       "id                 0.0\n",
       "total_rec_int      0.0\n",
       "open_acc           0.0\n",
       "revol_bal          0.0\n",
       "revol_util         0.0\n",
       "total_acc          0.0\n",
       "total_pymnt        0.0\n",
       "total_pymnt_inv    0.0\n",
       "total_rec_prncp    0.0\n",
       "last_pymnt_amnt    0.0\n",
       "member_id          0.0\n",
       "issue_month        0.0\n",
       "dtype: float64"
      ]
     },
     "execution_count": 35,
     "metadata": {},
     "output_type": "execute_result"
    }
   ],
   "source": [
    "(loan.isnull().sum() * 100 / len(loan)).round(2).sort_values(ascending=False).head(12)"
   ]
  },
  {
   "cell_type": "code",
   "execution_count": 36,
   "metadata": {
    "colab": {
     "base_uri": "https://localhost:8080/"
    },
    "executionInfo": {
     "elapsed": 18,
     "status": "ok",
     "timestamp": 1629257655975,
     "user": {
      "displayName": "Nikhil N B",
      "photoUrl": "https://lh3.googleusercontent.com/a-/AOh14GjdQxFkrTpQoFHYQwPdqM-S0E1eS_6SCaP5eodp=s64",
      "userId": "08250266006689556220"
     },
     "user_tz": -330
    },
    "id": "nFMq1bBzSfla",
    "outputId": "128725a6-1155-440a-f6b6-e303d787275f"
   },
   "outputs": [
    {
     "name": "stdout",
     "output_type": "stream",
     "text": [
      "<class 'pandas.core.frame.DataFrame'>\n",
      "Int64Index: 39644 entries, 0 to 39716\n",
      "Data columns (total 38 columns):\n",
      " #   Column                  Non-Null Count  Dtype  \n",
      "---  ------                  --------------  -----  \n",
      " 0   id                      39644 non-null  object \n",
      " 1   member_id               39644 non-null  object \n",
      " 2   loan_amnt               39644 non-null  float64\n",
      " 3   funded_amnt             39644 non-null  float64\n",
      " 4   funded_amnt_inv         39644 non-null  float64\n",
      " 5   term                    39644 non-null  object \n",
      " 6   int_rate                39644 non-null  int64  \n",
      " 7   installment             39644 non-null  float64\n",
      " 8   grade                   39644 non-null  object \n",
      " 9   sub_grade               39644 non-null  object \n",
      " 10  emp_length              39644 non-null  float64\n",
      " 11  home_ownership          39644 non-null  object \n",
      " 12  annual_inc              39644 non-null  float64\n",
      " 13  verification_status     39644 non-null  object \n",
      " 14  loan_status             39644 non-null  object \n",
      " 15  purpose                 39644 non-null  object \n",
      " 16  title                   39644 non-null  object \n",
      " 17  zip_code                39644 non-null  object \n",
      " 18  addr_state              39644 non-null  object \n",
      " 19  dti                     39644 non-null  float64\n",
      " 20  inq_last_6mths          39644 non-null  int64  \n",
      " 21  open_acc                39644 non-null  int64  \n",
      " 22  revol_bal               39644 non-null  float64\n",
      " 23  revol_util              39644 non-null  float64\n",
      " 24  total_acc               39644 non-null  int64  \n",
      " 25  total_pymnt             39644 non-null  float64\n",
      " 26  total_pymnt_inv         39644 non-null  float64\n",
      " 27  total_rec_prncp         39644 non-null  float64\n",
      " 28  total_rec_int           39644 non-null  float64\n",
      " 29  last_pymnt_amnt         39644 non-null  float64\n",
      " 30  issue_month             39644 non-null  object \n",
      " 31  issue_year              39644 non-null  object \n",
      " 32  earliest_cr_line_month  39644 non-null  object \n",
      " 33  earliest_cr_line_year   39644 non-null  object \n",
      " 34  last_pymnt_month        39644 non-null  object \n",
      " 35  last_pymnt_year         39644 non-null  object \n",
      " 36  last_credit_pull_month  39644 non-null  object \n",
      " 37  last_credit_pull_year   39644 non-null  object \n",
      "dtypes: float64(14), int64(4), object(20)\n",
      "memory usage: 11.8+ MB\n"
     ]
    }
   ],
   "source": [
    "loan.info()"
   ]
  },
  {
   "cell_type": "code",
   "execution_count": 37,
   "metadata": {
    "colab": {
     "base_uri": "https://localhost:8080/",
     "height": 258
    },
    "executionInfo": {
     "elapsed": 787,
     "status": "ok",
     "timestamp": 1629257656752,
     "user": {
      "displayName": "Nikhil N B",
      "photoUrl": "https://lh3.googleusercontent.com/a-/AOh14GjdQxFkrTpQoFHYQwPdqM-S0E1eS_6SCaP5eodp=s64",
      "userId": "08250266006689556220"
     },
     "user_tz": -330
    },
    "id": "_WLwWEW5TeAS",
    "outputId": "8ce3910b-1e46-46b0-be4c-9012b5164afe"
   },
   "outputs": [
    {
     "data": {
      "text/html": [
       "<div>\n",
       "<style scoped>\n",
       "    .dataframe tbody tr th:only-of-type {\n",
       "        vertical-align: middle;\n",
       "    }\n",
       "\n",
       "    .dataframe tbody tr th {\n",
       "        vertical-align: top;\n",
       "    }\n",
       "\n",
       "    .dataframe thead th {\n",
       "        text-align: right;\n",
       "    }\n",
       "</style>\n",
       "<table border=\"1\" class=\"dataframe\">\n",
       "  <thead>\n",
       "    <tr style=\"text-align: right;\">\n",
       "      <th></th>\n",
       "      <th>id</th>\n",
       "      <th>member_id</th>\n",
       "      <th>loan_amnt</th>\n",
       "      <th>funded_amnt</th>\n",
       "      <th>funded_amnt_inv</th>\n",
       "      <th>term</th>\n",
       "      <th>int_rate</th>\n",
       "      <th>installment</th>\n",
       "      <th>grade</th>\n",
       "      <th>sub_grade</th>\n",
       "      <th>...</th>\n",
       "      <th>total_rec_int</th>\n",
       "      <th>last_pymnt_amnt</th>\n",
       "      <th>issue_month</th>\n",
       "      <th>issue_year</th>\n",
       "      <th>earliest_cr_line_month</th>\n",
       "      <th>earliest_cr_line_year</th>\n",
       "      <th>last_pymnt_month</th>\n",
       "      <th>last_pymnt_year</th>\n",
       "      <th>last_credit_pull_month</th>\n",
       "      <th>last_credit_pull_year</th>\n",
       "    </tr>\n",
       "  </thead>\n",
       "  <tbody>\n",
       "    <tr>\n",
       "      <th>0</th>\n",
       "      <td>1077501</td>\n",
       "      <td>1296599</td>\n",
       "      <td>5000.0</td>\n",
       "      <td>5000.0</td>\n",
       "      <td>4975.0</td>\n",
       "      <td>36</td>\n",
       "      <td>10</td>\n",
       "      <td>162.87</td>\n",
       "      <td>b</td>\n",
       "      <td>b2</td>\n",
       "      <td>...</td>\n",
       "      <td>863.16</td>\n",
       "      <td>171.62</td>\n",
       "      <td>dec</td>\n",
       "      <td>11</td>\n",
       "      <td>jan</td>\n",
       "      <td>85</td>\n",
       "      <td>jan</td>\n",
       "      <td>15</td>\n",
       "      <td>may</td>\n",
       "      <td>16</td>\n",
       "    </tr>\n",
       "    <tr>\n",
       "      <th>1</th>\n",
       "      <td>1077430</td>\n",
       "      <td>1314167</td>\n",
       "      <td>2500.0</td>\n",
       "      <td>2500.0</td>\n",
       "      <td>2500.0</td>\n",
       "      <td>60</td>\n",
       "      <td>15</td>\n",
       "      <td>59.83</td>\n",
       "      <td>c</td>\n",
       "      <td>c4</td>\n",
       "      <td>...</td>\n",
       "      <td>435.17</td>\n",
       "      <td>119.66</td>\n",
       "      <td>dec</td>\n",
       "      <td>11</td>\n",
       "      <td>apr</td>\n",
       "      <td>99</td>\n",
       "      <td>apr</td>\n",
       "      <td>13</td>\n",
       "      <td>sep</td>\n",
       "      <td>13</td>\n",
       "    </tr>\n",
       "    <tr>\n",
       "      <th>2</th>\n",
       "      <td>1077175</td>\n",
       "      <td>1313524</td>\n",
       "      <td>2400.0</td>\n",
       "      <td>2400.0</td>\n",
       "      <td>2400.0</td>\n",
       "      <td>36</td>\n",
       "      <td>15</td>\n",
       "      <td>84.33</td>\n",
       "      <td>c</td>\n",
       "      <td>c5</td>\n",
       "      <td>...</td>\n",
       "      <td>605.67</td>\n",
       "      <td>649.91</td>\n",
       "      <td>dec</td>\n",
       "      <td>11</td>\n",
       "      <td>nov</td>\n",
       "      <td>01</td>\n",
       "      <td>jun</td>\n",
       "      <td>14</td>\n",
       "      <td>may</td>\n",
       "      <td>16</td>\n",
       "    </tr>\n",
       "    <tr>\n",
       "      <th>3</th>\n",
       "      <td>1076863</td>\n",
       "      <td>1277178</td>\n",
       "      <td>10000.0</td>\n",
       "      <td>10000.0</td>\n",
       "      <td>10000.0</td>\n",
       "      <td>36</td>\n",
       "      <td>13</td>\n",
       "      <td>339.31</td>\n",
       "      <td>c</td>\n",
       "      <td>c1</td>\n",
       "      <td>...</td>\n",
       "      <td>2214.92</td>\n",
       "      <td>357.48</td>\n",
       "      <td>dec</td>\n",
       "      <td>11</td>\n",
       "      <td>feb</td>\n",
       "      <td>96</td>\n",
       "      <td>jan</td>\n",
       "      <td>15</td>\n",
       "      <td>apr</td>\n",
       "      <td>16</td>\n",
       "    </tr>\n",
       "    <tr>\n",
       "      <th>4</th>\n",
       "      <td>1075358</td>\n",
       "      <td>1311748</td>\n",
       "      <td>3000.0</td>\n",
       "      <td>3000.0</td>\n",
       "      <td>3000.0</td>\n",
       "      <td>60</td>\n",
       "      <td>12</td>\n",
       "      <td>67.79</td>\n",
       "      <td>b</td>\n",
       "      <td>b5</td>\n",
       "      <td>...</td>\n",
       "      <td>1037.39</td>\n",
       "      <td>67.79</td>\n",
       "      <td>dec</td>\n",
       "      <td>11</td>\n",
       "      <td>jan</td>\n",
       "      <td>96</td>\n",
       "      <td>may</td>\n",
       "      <td>16</td>\n",
       "      <td>may</td>\n",
       "      <td>16</td>\n",
       "    </tr>\n",
       "  </tbody>\n",
       "</table>\n",
       "<p>5 rows × 38 columns</p>\n",
       "</div>"
      ],
      "text/plain": [
       "        id member_id  loan_amnt  funded_amnt  funded_amnt_inv term  int_rate  \\\n",
       "0  1077501   1296599     5000.0       5000.0           4975.0   36        10   \n",
       "1  1077430   1314167     2500.0       2500.0           2500.0   60        15   \n",
       "2  1077175   1313524     2400.0       2400.0           2400.0   36        15   \n",
       "3  1076863   1277178    10000.0      10000.0          10000.0   36        13   \n",
       "4  1075358   1311748     3000.0       3000.0           3000.0   60        12   \n",
       "\n",
       "   installment grade sub_grade  ...  total_rec_int last_pymnt_amnt  \\\n",
       "0       162.87     b        b2  ...         863.16          171.62   \n",
       "1        59.83     c        c4  ...         435.17          119.66   \n",
       "2        84.33     c        c5  ...         605.67          649.91   \n",
       "3       339.31     c        c1  ...        2214.92          357.48   \n",
       "4        67.79     b        b5  ...        1037.39           67.79   \n",
       "\n",
       "   issue_month issue_year earliest_cr_line_month earliest_cr_line_year  \\\n",
       "0          dec         11                    jan                    85   \n",
       "1          dec         11                    apr                    99   \n",
       "2          dec         11                    nov                    01   \n",
       "3          dec         11                    feb                    96   \n",
       "4          dec         11                    jan                    96   \n",
       "\n",
       "  last_pymnt_month last_pymnt_year last_credit_pull_month  \\\n",
       "0              jan              15                    may   \n",
       "1              apr              13                    sep   \n",
       "2              jun              14                    may   \n",
       "3              jan              15                    apr   \n",
       "4              may              16                    may   \n",
       "\n",
       "   last_credit_pull_year  \n",
       "0                     16  \n",
       "1                     13  \n",
       "2                     16  \n",
       "3                     16  \n",
       "4                     16  \n",
       "\n",
       "[5 rows x 38 columns]"
      ]
     },
     "execution_count": 37,
     "metadata": {},
     "output_type": "execute_result"
    }
   ],
   "source": [
    "loan.head()"
   ]
  },
  {
   "cell_type": "markdown",
   "metadata": {
    "id": "F-E7imPGJnwH"
   },
   "source": [
    "# Univariate Analysis"
   ]
  },
  {
   "cell_type": "markdown",
   "metadata": {
    "id": "nRxo6Gj2xN4Q"
   },
   "source": [
    "### Importatnt Columns for Univariate analysis\n",
    "* loan_amnt\n",
    "* funded_amnt\n",
    "* term\n",
    "* int_rate\n",
    "* grade\n",
    "* emp_length\n",
    "* annual_inc \n",
    "* home_ownership\n",
    "* verification status\n",
    "* loan_status\n",
    "* purpose\n",
    "* dti\n",
    "* addr_state"
   ]
  },
  {
   "cell_type": "code",
   "execution_count": 38,
   "metadata": {
    "executionInfo": {
     "elapsed": 44,
     "status": "ok",
     "timestamp": 1629257656753,
     "user": {
      "displayName": "Nikhil N B",
      "photoUrl": "https://lh3.googleusercontent.com/a-/AOh14GjdQxFkrTpQoFHYQwPdqM-S0E1eS_6SCaP5eodp=s64",
      "userId": "08250266006689556220"
     },
     "user_tz": -330
    },
    "id": "AwHy9mAVxQ53"
   },
   "outputs": [],
   "source": [
    "\"\"\"\n",
    "Function: countplot - To draw countplot of a given variable/column\n",
    "\n",
    "Parameters:\n",
    "    variable : variable/column of which countplot has to be drawn\n",
    "\n",
    "Returns:\n",
    "None\n",
    "Shows countplot of a given variable\n",
    "\"\"\"\n",
    "def countplot(variable):\n",
    "    plt.figure(figsize=(15,8))\n",
    "    plt.subplot(2, 2, 2)\n",
    "    ax = sns.countplot(x=loan[variable])\n",
    "    ax.set_xlabel(variable.replace('_', ' '),fontsize=14)\n",
    "    ax.set_ylabel(variable.replace('_', ' ') + 'Count',fontsize=14) \n",
    "\n",
    "    print(loan[variable].value_counts())\n",
    "    plt.show()"
   ]
  },
  {
   "cell_type": "code",
   "execution_count": 39,
   "metadata": {
    "executionInfo": {
     "elapsed": 44,
     "status": "ok",
     "timestamp": 1629257656754,
     "user": {
      "displayName": "Nikhil N B",
      "photoUrl": "https://lh3.googleusercontent.com/a-/AOh14GjdQxFkrTpQoFHYQwPdqM-S0E1eS_6SCaP5eodp=s64",
      "userId": "08250266006689556220"
     },
     "user_tz": -330
    },
    "id": "J_May853xc2-"
   },
   "outputs": [],
   "source": [
    "\"\"\"\n",
    "Function: boxplot - To draw boxplot of a given variable/column\n",
    "\n",
    "Parameters:\n",
    "    variable : variable/column of which boxplot has to be drawn\n",
    "\n",
    "Returns:\n",
    "None\n",
    "Shows boxplot of a given variable\n",
    "\"\"\"\n",
    "def boxplot(variable):\n",
    "    plt.figure(figsize=(15,8))\n",
    "    plt.subplot(2, 2, 2)\n",
    "    ax = sns.boxplot(y=loan[variable])\n",
    "    ax.set_title(variable.replace('_', ' ')+' - Box Plot',fontsize=16)\n",
    "    ax.set_ylabel(variable.replace('_', ' '),fontsize=14)\n",
    "    plt.show()"
   ]
  },
  {
   "cell_type": "code",
   "execution_count": 40,
   "metadata": {
    "colab": {
     "base_uri": "https://localhost:8080/",
     "height": 250
    },
    "executionInfo": {
     "elapsed": 43,
     "status": "ok",
     "timestamp": 1629257656754,
     "user": {
      "displayName": "Nikhil N B",
      "photoUrl": "https://lh3.googleusercontent.com/a-/AOh14GjdQxFkrTpQoFHYQwPdqM-S0E1eS_6SCaP5eodp=s64",
      "userId": "08250266006689556220"
     },
     "user_tz": -330
    },
    "id": "VeSx2Nx0x9P0",
    "outputId": "ee4c6a48-a219-4465-9691-05f27a611b9f"
   },
   "outputs": [
    {
     "data": {
      "image/png": "[encoded data removed]",
      "text/plain": [
       "<Figure size 1080x576 with 1 Axes>"
      ]
     },
     "metadata": {
      "needs_background": "light"
     },
     "output_type": "display_data"
    }
   ],
   "source": [
    "# Univariate Analysis on Loan amount Variables\n",
    "\n",
    "boxplot('loan_amnt')\n",
    "\n",
    "#Inference: The loan amount varies from 0 to 35,000 having mean of 10,000"
   ]
  },
  {
   "cell_type": "code",
   "execution_count": 41,
   "metadata": {
    "colab": {
     "base_uri": "https://localhost:8080/",
     "height": 250
    },
    "executionInfo": {
     "elapsed": 42,
     "status": "ok",
     "timestamp": 1629257656755,
     "user": {
      "displayName": "Nikhil N B",
      "photoUrl": "https://lh3.googleusercontent.com/a-/AOh14GjdQxFkrTpQoFHYQwPdqM-S0E1eS_6SCaP5eodp=s64",
      "userId": "08250266006689556220"
     },
     "user_tz": -330
    },
    "id": "Hhbil0RE97Yy",
    "outputId": "74dfb1b3-2079-473f-db72-e89e1fca14f3"
   },
   "outputs": [
    {
     "data": {
      "image/png": "[encoded data removed]",
      "text/plain": [
       "<Figure size 1080x576 with 1 Axes>"
      ]
     },
     "metadata": {
      "needs_background": "light"
     },
     "output_type": "display_data"
    }
   ],
   "source": [
    "# Univariate Analysis on intrest rate Variables\n",
    "\n",
    "boxplot('int_rate')\n",
    "\n",
    "#Inference: Below plots show that most of the Interest Rates on loans are in range of 10% - 15%"
   ]
  },
  {
   "cell_type": "code",
   "execution_count": 42,
   "metadata": {
    "colab": {
     "base_uri": "https://localhost:8080/",
     "height": 332
    },
    "executionInfo": {
     "elapsed": 42,
     "status": "ok",
     "timestamp": 1629257656756,
     "user": {
      "displayName": "Nikhil N B",
      "photoUrl": "https://lh3.googleusercontent.com/a-/AOh14GjdQxFkrTpQoFHYQwPdqM-S0E1eS_6SCaP5eodp=s64",
      "userId": "08250266006689556220"
     },
     "user_tz": -330
    },
    "id": "E2bHiO59CtWR",
    "outputId": "a3045976-b21f-4e44-ff4c-1675c53f91e6"
   },
   "outputs": [
    {
     "name": "stdout",
     "output_type": "stream",
     "text": [
      "fully paid     32949\n",
      "charged off     5555\n",
      "current         1140\n",
      "Name: loan_status, dtype: int64\n"
     ]
    },
    {
     "data": {
      "image/png": "[encoded data removed]",
      "text/plain": [
       "<Figure size 1080x576 with 1 Axes>"
      ]
     },
     "metadata": {
      "needs_background": "light"
     },
     "output_type": "display_data"
    }
   ],
   "source": [
    "# Univariate Analysis on Loan Status Variables\n",
    "\n",
    "countplot('loan_status')\n",
    "#Inference: Below plot shows that close to 14% loans were charged off out of total loan issued(as 5553 is 14% of 39633)"
   ]
  },
  {
   "cell_type": "code",
   "execution_count": 43,
   "metadata": {
    "colab": {
     "base_uri": "https://localhost:8080/",
     "height": 400
    },
    "executionInfo": {
     "elapsed": 529,
     "status": "ok",
     "timestamp": 1629257657260,
     "user": {
      "displayName": "Nikhil N B",
      "photoUrl": "https://lh3.googleusercontent.com/a-/AOh14GjdQxFkrTpQoFHYQwPdqM-S0E1eS_6SCaP5eodp=s64",
      "userId": "08250266006689556220"
     },
     "user_tz": -330
    },
    "id": "P1q6F2OYEE4R",
    "outputId": "1b4b96b6-6fcb-4278-8a9e-9f93a46cffbb"
   },
   "outputs": [
    {
     "name": "stdout",
     "output_type": "stream",
     "text": [
      "b    12005\n",
      "a    10078\n",
      "c     8073\n",
      "d     5294\n",
      "e     2833\n",
      "f     1047\n",
      "g      314\n",
      "Name: grade, dtype: int64\n"
     ]
    },
    {
     "data": {
      "image/png": "[encoded data removed]",
      "text/plain": [
       "<Figure size 1080x576 with 1 Axes>"
      ]
     },
     "metadata": {
      "needs_background": "light"
     },
     "output_type": "display_data"
    }
   ],
   "source": [
    "# Univariate Analysis on grade Variables\n",
    "\n",
    "countplot('grade')\n",
    "\n",
    "#Inference: Most of the loans have grade of A and B. Therefore stating most of the loans are high graded loans"
   ]
  },
  {
   "cell_type": "code",
   "execution_count": 44,
   "metadata": {
    "colab": {
     "base_uri": "https://localhost:8080/",
     "height": 468
    },
    "executionInfo": {
     "elapsed": 21,
     "status": "ok",
     "timestamp": 1629257657261,
     "user": {
      "displayName": "Nikhil N B",
      "photoUrl": "https://lh3.googleusercontent.com/a-/AOh14GjdQxFkrTpQoFHYQwPdqM-S0E1eS_6SCaP5eodp=s64",
      "userId": "08250266006689556220"
     },
     "user_tz": -330
    },
    "id": "8obT-T7WL-Mg",
    "outputId": "3ab9e6ab-1e9a-468d-829b-8a430fb210d2"
   },
   "outputs": [
    {
     "name": "stdout",
     "output_type": "stream",
     "text": [
      "10.0    8870\n",
      "0.0     4574\n",
      "4.0     4498\n",
      "2.0     4382\n",
      "3.0     4088\n",
      "5.0     3272\n",
      "1.0     3229\n",
      "6.0     2228\n",
      "7.0     1772\n",
      "8.0     1476\n",
      "9.0     1255\n",
      "Name: emp_length, dtype: int64\n"
     ]
    },
    {
     "data": {
      "image/png": "[encoded data removed]",
      "text/plain": [
       "<Figure size 1080x576 with 1 Axes>"
      ]
     },
     "metadata": {
      "needs_background": "light"
     },
     "output_type": "display_data"
    }
   ],
   "source": [
    "# Univariate Analysis on Employee Working Experience Variables\n",
    "\n",
    "countplot('emp_length')\n",
    "\n",
    "#Inference: Majority of employees applying for the loan have more than 10 years of experience"
   ]
  },
  {
   "cell_type": "code",
   "execution_count": 45,
   "metadata": {
    "colab": {
     "base_uri": "https://localhost:8080/",
     "height": 282
    },
    "executionInfo": {
     "elapsed": 11,
     "status": "ok",
     "timestamp": 1629257657261,
     "user": {
      "displayName": "Nikhil N B",
      "photoUrl": "https://lh3.googleusercontent.com/a-/AOh14GjdQxFkrTpQoFHYQwPdqM-S0E1eS_6SCaP5eodp=s64",
      "userId": "08250266006689556220"
     },
     "user_tz": -330
    },
    "id": "0x8cS6ibN5F_",
    "outputId": "eaf69c17-540a-41e8-e124-2560943cb21b"
   },
   "outputs": [
    {
     "data": {
      "image/png": "[encoded data removed]",
      "text/plain": [
       "<Figure size 1080x576 with 1 Axes>"
      ]
     },
     "metadata": {
      "needs_background": "light"
     },
     "output_type": "display_data"
    }
   ],
   "source": [
    "# Univariate Analysis on Annual income Variables\n",
    "\n",
    "plt.figure(figsize=(15,8))\n",
    "plt.subplot(2, 2, 2)\n",
    "ax = sns.boxplot(x=loan['annual_inc'])\n",
    "ax.set_title('Annual Income - Box Plot',fontsize=16)\n",
    "ax.set_xlabel('Income in lakhs',fontsize=14)\n",
    "plt.show()\n",
    "\n",
    "#Inference: There are only two applicants having annual income of more than 30 lakhs"
   ]
  },
  {
   "cell_type": "code",
   "execution_count": 46,
   "metadata": {
    "colab": {
     "base_uri": "https://localhost:8080/",
     "height": 336
    },
    "executionInfo": {
     "elapsed": 540,
     "status": "ok",
     "timestamp": 1629257657791,
     "user": {
      "displayName": "Nikhil N B",
      "photoUrl": "https://lh3.googleusercontent.com/a-/AOh14GjdQxFkrTpQoFHYQwPdqM-S0E1eS_6SCaP5eodp=s64",
      "userId": "08250266006689556220"
     },
     "user_tz": -330
    },
    "id": "hwZHvqcHV02P",
    "outputId": "628f9b95-3d5a-4a2f-ac55-5ab60ea8795e"
   },
   "outputs": [
    {
     "data": {
      "image/png": "[encoded data removed]",
      "text/plain": [
       "<Figure size 1080x576 with 1 Axes>"
      ]
     },
     "metadata": {
      "needs_background": "light"
     },
     "output_type": "display_data"
    }
   ],
   "source": [
    "# Univariate Analysis on Loan amount below 30 lakhs\n",
    "\n",
    "plt.figure(figsize=(15,8))\n",
    "plt.subplot(2, 2, 2)\n",
    "ax = sns.distplot(loan[loan['annual_inc'] < 3000000]['annual_inc'], bins=5)\n",
    "ax.set_title('Annual Income - Box Plot',fontsize=16)\n",
    "ax.set_xlabel('Income in lakhs',fontsize=14)\n",
    "plt.show()\n",
    "\n",
    "#Inference: Most of the applicants have annual income less that 5 lakhs"
   ]
  },
  {
   "cell_type": "code",
   "execution_count": 47,
   "metadata": {
    "colab": {
     "base_uri": "https://localhost:8080/",
     "height": 366
    },
    "executionInfo": {
     "elapsed": 16,
     "status": "ok",
     "timestamp": 1629257657792,
     "user": {
      "displayName": "Nikhil N B",
      "photoUrl": "https://lh3.googleusercontent.com/a-/AOh14GjdQxFkrTpQoFHYQwPdqM-S0E1eS_6SCaP5eodp=s64",
      "userId": "08250266006689556220"
     },
     "user_tz": -330
    },
    "id": "cpixc_ldXJZ9",
    "outputId": "fe58657c-7386-47fe-b476-c83045eec79b"
   },
   "outputs": [
    {
     "name": "stdout",
     "output_type": "stream",
     "text": [
      "rent        18846\n",
      "mortgage    17644\n",
      "own          3053\n",
      "other          98\n",
      "none            3\n",
      "Name: home_ownership, dtype: int64\n"
     ]
    },
    {
     "data": {
      "image/png": "[encoded data removed]",
      "text/plain": [
       "<Figure size 1080x576 with 1 Axes>"
      ]
     },
     "metadata": {
      "needs_background": "light"
     },
     "output_type": "display_data"
    }
   ],
   "source": [
    "# Univariate Analysis on Home ownership Variable\n",
    "\n",
    "countplot('home_ownership')\n",
    "\n",
    "#Inference: Most of the house ownership of the customers are in either mortgaged state or in Rented state"
   ]
  },
  {
   "cell_type": "code",
   "execution_count": 48,
   "metadata": {
    "colab": {
     "base_uri": "https://localhost:8080/",
     "height": 332
    },
    "executionInfo": {
     "elapsed": 453,
     "status": "ok",
     "timestamp": 1629257658237,
     "user": {
      "displayName": "Nikhil N B",
      "photoUrl": "https://lh3.googleusercontent.com/a-/AOh14GjdQxFkrTpQoFHYQwPdqM-S0E1eS_6SCaP5eodp=s64",
      "userId": "08250266006689556220"
     },
     "user_tz": -330
    },
    "id": "PLpsK5z64qTb",
    "outputId": "06ddc2de-45d9-43a5-e61f-d18d6e8dc62d"
   },
   "outputs": [
    {
     "name": "stdout",
     "output_type": "stream",
     "text": [
      "not verified       16882\n",
      "verified           12789\n",
      "source verified     9973\n",
      "Name: verification_status, dtype: int64\n"
     ]
    },
    {
     "data": {
      "image/png": "[encoded data removed]",
      "text/plain": [
       "<Figure size 1080x576 with 1 Axes>"
      ]
     },
     "metadata": {
      "needs_background": "light"
     },
     "output_type": "display_data"
    }
   ],
   "source": [
    "# Univariate Analysis on Verification status Variable\n",
    "\n",
    "countplot('verification_status')\n",
    "\n",
    "#Inference: Most of the customers are not verified"
   ]
  },
  {
   "cell_type": "code",
   "execution_count": 49,
   "metadata": {
    "colab": {
     "base_uri": "https://localhost:8080/",
     "height": 264
    },
    "executionInfo": {
     "elapsed": 1023,
     "status": "ok",
     "timestamp": 1629257659255,
     "user": {
      "displayName": "Nikhil N B",
      "photoUrl": "https://lh3.googleusercontent.com/a-/AOh14GjdQxFkrTpQoFHYQwPdqM-S0E1eS_6SCaP5eodp=s64",
      "userId": "08250266006689556220"
     },
     "user_tz": -330
    },
    "id": "Wl58ZiNr0JFI",
    "outputId": "f23a2f2e-84f2-4f80-8d90-ec60814e8c23"
   },
   "outputs": [
    {
     "data": {
      "image/png": "[encoded data removed]",
      "text/plain": [
       "<Figure size 2304x576 with 1 Axes>"
      ]
     },
     "metadata": {
      "needs_background": "light"
     },
     "output_type": "display_data"
    }
   ],
   "source": [
    "# Univariate Analysis on address states Variable\n",
    "plt.figure(figsize=(32,8))\n",
    "plt.subplot(2, 2, 2)\n",
    "ax = sns.countplot(x=loan['addr_state'])\n",
    "ax.set_xlabel('address state',fontsize=14, )\n",
    "ax.set_ylabel('address state Count',fontsize=14)\n",
    "\n",
    "plt.show()\n",
    "\n",
    "#Inference: CA, California has the most number of loans in the country"
   ]
  },
  {
   "cell_type": "code",
   "execution_count": 50,
   "metadata": {
    "colab": {
     "base_uri": "https://localhost:8080/",
     "height": 529
    },
    "executionInfo": {
     "elapsed": 13,
     "status": "ok",
     "timestamp": 1629257659255,
     "user": {
      "displayName": "Nikhil N B",
      "photoUrl": "https://lh3.googleusercontent.com/a-/AOh14GjdQxFkrTpQoFHYQwPdqM-S0E1eS_6SCaP5eodp=s64",
      "userId": "08250266006689556220"
     },
     "user_tz": -330
    },
    "id": "kCZ8PKPwwp1U",
    "outputId": "b02d7b4f-2d50-456c-d224-bbaccc8d8ca9"
   },
   "outputs": [
    {
     "data": {
      "image/png": "[encoded data removed]",
      "text/plain": [
       "<Figure size 2880x1152 with 1 Axes>"
      ]
     },
     "metadata": {
      "needs_background": "light"
     },
     "output_type": "display_data"
    }
   ],
   "source": [
    "# Univariate Analysis on purpose Variable\n",
    "plt.figure(figsize=(40,16))\n",
    "plt.subplot(2, 2, 2)\n",
    "ax = sns.countplot(x=loan['purpose'])\n",
    "ax.set_xlabel('purpose',fontsize=14, )\n",
    "ax.set_ylabel('purpose Count',fontsize=14)\n",
    "ax.set_xticklabels(ax.get_xticklabels(), rotation=45)\n",
    "\n",
    "plt.show()\n",
    "# Inference: debt consolidation variable is the most given purpose for loan"
   ]
  },
  {
   "cell_type": "code",
   "execution_count": 51,
   "metadata": {
    "colab": {
     "base_uri": "https://localhost:8080/",
     "height": 250
    },
    "executionInfo": {
     "elapsed": 731,
     "status": "ok",
     "timestamp": 1629257659976,
     "user": {
      "displayName": "Nikhil N B",
      "photoUrl": "https://lh3.googleusercontent.com/a-/AOh14GjdQxFkrTpQoFHYQwPdqM-S0E1eS_6SCaP5eodp=s64",
      "userId": "08250266006689556220"
     },
     "user_tz": -330
    },
    "id": "HFXq9rXO290t",
    "outputId": "ffe16304-58ce-44af-bbf3-9dd9c41b351f"
   },
   "outputs": [
    {
     "data": {
      "image/png": "[encoded data removed]",
      "text/plain": [
       "<Figure size 1080x576 with 1 Axes>"
      ]
     },
     "metadata": {
      "needs_background": "light"
     },
     "output_type": "display_data"
    }
   ],
   "source": [
    "# Univariate Analysis on dti Variable\n",
    "boxplot('dti')\n",
    "\n",
    "# Inference: dti varies from around 8% to 19%"
   ]
  },
  {
   "cell_type": "code",
   "execution_count": 52,
   "metadata": {
    "colab": {
     "base_uri": "https://localhost:8080/",
     "height": 250
    },
    "executionInfo": {
     "elapsed": 47,
     "status": "ok",
     "timestamp": 1629257659977,
     "user": {
      "displayName": "Nikhil N B",
      "photoUrl": "https://lh3.googleusercontent.com/a-/AOh14GjdQxFkrTpQoFHYQwPdqM-S0E1eS_6SCaP5eodp=s64",
      "userId": "08250266006689556220"
     },
     "user_tz": -330
    },
    "id": "qAmHYmLx8MVN",
    "outputId": "22a25bd1-ae69-4087-89d7-c03a92e2847d"
   },
   "outputs": [
    {
     "data": {
      "image/png": "[encoded data removed]",
      "text/plain": [
       "<Figure size 1080x576 with 1 Axes>"
      ]
     },
     "metadata": {
      "needs_background": "light"
     },
     "output_type": "display_data"
    }
   ],
   "source": [
    "# Univariate Analysis on funded amnt Variable\n",
    "boxplot('funded_amnt')\n",
    "\n",
    "# Inference: funded amount varies from 5000 - 35000 with mean around 10000"
   ]
  },
  {
   "cell_type": "code",
   "execution_count": 53,
   "metadata": {
    "colab": {
     "base_uri": "https://localhost:8080/",
     "height": 373
    },
    "executionInfo": {
     "elapsed": 46,
     "status": "ok",
     "timestamp": 1629257659978,
     "user": {
      "displayName": "Nikhil N B",
      "photoUrl": "https://lh3.googleusercontent.com/a-/AOh14GjdQxFkrTpQoFHYQwPdqM-S0E1eS_6SCaP5eodp=s64",
      "userId": "08250266006689556220"
     },
     "user_tz": -330
    },
    "id": "7LXEzea8_g45",
    "outputId": "7322f1ad-5a93-4551-ab79-4f7b7e1cb73b"
   },
   "outputs": [
    {
     "data": {
      "image/png": "[encoded data removed]",
      "text/plain": [
       "<Figure size 432x288 with 1 Axes>"
      ]
     },
     "metadata": {
      "needs_background": "light"
     },
     "output_type": "display_data"
    },
    {
     "name": "stdout",
     "output_type": "stream",
     "text": [
      "Totl values between quantile range 0.05 and 0.95: 3318\n"
     ]
    }
   ],
   "source": [
    "# Univariate Analysis on funded amount outlier bins\n",
    "funded_amnt_quantiles = ['funded_amnt_quan<0.05', 'funded_amnt_quan>0.95']\n",
    "funded_amnt_quantiles_count = [loan[loan['funded_amnt'] < loan['funded_amnt'].quantile(0.05)].shape[0], \n",
    "                               loan[loan['funded_amnt'] > loan['funded_amnt'].quantile(0.95)].shape[0]]\n",
    "plt.bar(funded_amnt_quantiles,\n",
    "            funded_amnt_quantiles_count)\n",
    "plt.xticks(funded_amnt_quantiles, rotation=45)\n",
    "plt.show()\n",
    "print(\"Totl values between quantile range 0.05 and 0.95:\",loan[loan['funded_amnt'] < loan['funded_amnt'].quantile(0.05)].shape[0] + loan[loan['funded_amnt'] > loan['funded_amnt'].quantile(0.95)].shape[0])\n",
    "\n",
    "# Inference: 3318 fields are potential outliers in the funded_amnt column"
   ]
  },
  {
   "cell_type": "code",
   "execution_count": 54,
   "metadata": {
    "colab": {
     "base_uri": "https://localhost:8080/",
     "height": 315
    },
    "executionInfo": {
     "elapsed": 45,
     "status": "ok",
     "timestamp": 1629257659978,
     "user": {
      "displayName": "Nikhil N B",
      "photoUrl": "https://lh3.googleusercontent.com/a-/AOh14GjdQxFkrTpQoFHYQwPdqM-S0E1eS_6SCaP5eodp=s64",
      "userId": "08250266006689556220"
     },
     "user_tz": -330
    },
    "id": "_SrpzB7XD1Pe",
    "outputId": "c8dbebf8-61db-4496-f512-0f6ef463be8a"
   },
   "outputs": [
    {
     "name": "stdout",
     "output_type": "stream",
     "text": [
      " 36    29041\n",
      " 60    10603\n",
      "Name: term, dtype: int64\n"
     ]
    },
    {
     "data": {
      "image/png": "[encoded data removed]",
      "text/plain": [
       "<Figure size 1080x576 with 1 Axes>"
      ]
     },
     "metadata": {
      "needs_background": "light"
     },
     "output_type": "display_data"
    }
   ],
   "source": [
    "# Univariate Analysis on term variable\n",
    "countplot('term')\n",
    "\n",
    "#Inference: Most of the loans are for 36 months term"
   ]
  },
  {
   "cell_type": "markdown",
   "metadata": {
    "id": "lJo1QAEbG9T5"
   },
   "source": []
  },
  {
   "cell_type": "code",
   "execution_count": null,
   "metadata": {
    "executionInfo": {
     "elapsed": 33,
     "status": "ok",
     "timestamp": 1629257659979,
     "user": {
      "displayName": "Nikhil N B",
      "photoUrl": "https://lh3.googleusercontent.com/a-/AOh14GjdQxFkrTpQoFHYQwPdqM-S0E1eS_6SCaP5eodp=s64",
      "userId": "08250266006689556220"
     },
     "user_tz": -330
    },
    "id": "GBwz6loVFE1W"
   },
   "outputs": [],
   "source": []
  },
  {
   "cell_type": "markdown",
   "metadata": {
    "id": "-iyeTXEvLLmo"
   },
   "source": [
    "# Derived Columns"
   ]
  },
  {
   "cell_type": "code",
   "execution_count": 55,
   "metadata": {
    "executionInfo": {
     "elapsed": 33,
     "status": "ok",
     "timestamp": 1629257659979,
     "user": {
      "displayName": "Nikhil N B",
      "photoUrl": "https://lh3.googleusercontent.com/a-/AOh14GjdQxFkrTpQoFHYQwPdqM-S0E1eS_6SCaP5eodp=s64",
      "userId": "08250266006689556220"
     },
     "user_tz": -330
    },
    "id": "vsQWuaJXXj53"
   },
   "outputs": [],
   "source": [
    "\"\"\"\n",
    "Function: PercentileCut - To perform quantile cut on the column values\n",
    "\n",
    "Parameters:\n",
    "    data : defaulted to 'loan'\n",
    "    column : this is the continuous numeric field which has to be binned to its percentiles\n",
    "\n",
    "Returns:\n",
    "None\n",
    "Creates a new column in the data with a suffix '_qctg' and this contains the newly created category\n",
    "\"\"\"\n",
    "def PercentileCut (*, data=loan, column):\n",
    "    new_column = column + '_qctg'\n",
    "    labels = ['Lowest ','Lower ','Medium ','Higher ','Highest ']\n",
    "    labels = [labels[p] + '(' +\n",
    "              str(round(np.nanpercentile(data[column], p * 20),2)) + ' - ' +\n",
    "              str(round(np.nanpercentile(data[column], (p+1) * 20),2)) + ')'\n",
    "              for p in range(5)]\n",
    "    data[new_column] = pd.qcut(data[column], q=5, labels=labels)"
   ]
  },
  {
   "cell_type": "code",
   "execution_count": 56,
   "metadata": {
    "executionInfo": {
     "elapsed": 33,
     "status": "ok",
     "timestamp": 1629257659980,
     "user": {
      "displayName": "Nikhil N B",
      "photoUrl": "https://lh3.googleusercontent.com/a-/AOh14GjdQxFkrTpQoFHYQwPdqM-S0E1eS_6SCaP5eodp=s64",
      "userId": "08250266006689556220"
     },
     "user_tz": -330
    },
    "id": "Z_1l2I_VLZB9"
   },
   "outputs": [],
   "source": [
    "# Deriving new column 'loan_amnt_qctg' from 'loan_amnt'\n",
    "PercentileCut(column='loan_amnt')"
   ]
  },
  {
   "cell_type": "code",
   "execution_count": 57,
   "metadata": {
    "executionInfo": {
     "elapsed": 33,
     "status": "ok",
     "timestamp": 1629257659980,
     "user": {
      "displayName": "Nikhil N B",
      "photoUrl": "https://lh3.googleusercontent.com/a-/AOh14GjdQxFkrTpQoFHYQwPdqM-S0E1eS_6SCaP5eodp=s64",
      "userId": "08250266006689556220"
     },
     "user_tz": -330
    },
    "id": "GP5IRJ51MJvy"
   },
   "outputs": [],
   "source": [
    "# Deriving new column 'annual_inc_qctg' from 'annual_inc'\n",
    "PercentileCut(column='annual_inc')"
   ]
  },
  {
   "cell_type": "code",
   "execution_count": 58,
   "metadata": {
    "executionInfo": {
     "elapsed": 33,
     "status": "ok",
     "timestamp": 1629257659980,
     "user": {
      "displayName": "Nikhil N B",
      "photoUrl": "https://lh3.googleusercontent.com/a-/AOh14GjdQxFkrTpQoFHYQwPdqM-S0E1eS_6SCaP5eodp=s64",
      "userId": "08250266006689556220"
     },
     "user_tz": -330
    },
    "id": "oEXfAAGwNRkg"
   },
   "outputs": [],
   "source": [
    "# Deriving new column 'int_rate_qctg' from 'int_rate'\n",
    "PercentileCut(column='int_rate')"
   ]
  },
  {
   "cell_type": "code",
   "execution_count": 59,
   "metadata": {
    "executionInfo": {
     "elapsed": 33,
     "status": "ok",
     "timestamp": 1629257659981,
     "user": {
      "displayName": "Nikhil N B",
      "photoUrl": "https://lh3.googleusercontent.com/a-/AOh14GjdQxFkrTpQoFHYQwPdqM-S0E1eS_6SCaP5eodp=s64",
      "userId": "08250266006689556220"
     },
     "user_tz": -330
    },
    "id": "ZnZjqfceDvYN"
   },
   "outputs": [],
   "source": [
    "PercentileCut(column='installment')"
   ]
  },
  {
   "cell_type": "code",
   "execution_count": 60,
   "metadata": {
    "executionInfo": {
     "elapsed": 33,
     "status": "ok",
     "timestamp": 1629257659981,
     "user": {
      "displayName": "Nikhil N B",
      "photoUrl": "https://lh3.googleusercontent.com/a-/AOh14GjdQxFkrTpQoFHYQwPdqM-S0E1eS_6SCaP5eodp=s64",
      "userId": "08250266006689556220"
     },
     "user_tz": -330
    },
    "id": "ORze-E-mLymw"
   },
   "outputs": [],
   "source": [
    "# Deriving new column 'dti_qctg' from 'dti'\n",
    "PercentileCut(column='dti')"
   ]
  },
  {
   "cell_type": "markdown",
   "metadata": {
    "id": "Lbof_pYzHIl2"
   },
   "source": [
    "# Bivariate Analysis"
   ]
  },
  {
   "cell_type": "markdown",
   "metadata": {
    "id": "moRhYSXFP3CH"
   },
   "source": [
    "### loan_amnt vs funded_amnt"
   ]
  },
  {
   "cell_type": "markdown",
   "metadata": {
    "id": "RfudHHpMUtnF"
   },
   "source": [
    "- To find out difference between loan amount and amount funded"
   ]
  },
  {
   "cell_type": "code",
   "execution_count": 61,
   "metadata": {
    "colab": {
     "base_uri": "https://localhost:8080/",
     "height": 299
    },
    "executionInfo": {
     "elapsed": 33,
     "status": "ok",
     "timestamp": 1629257659981,
     "user": {
      "displayName": "Nikhil N B",
      "photoUrl": "https://lh3.googleusercontent.com/a-/AOh14GjdQxFkrTpQoFHYQwPdqM-S0E1eS_6SCaP5eodp=s64",
      "userId": "08250266006689556220"
     },
     "user_tz": -330
    },
    "id": "3gzhug1WHM62",
    "outputId": "351d45a3-8879-4dd0-bbcc-c9ac58e53afd"
   },
   "outputs": [
    {
     "data": {
      "image/png": "[encoded data removed]",
      "text/plain": [
       "<Figure size 432x288 with 1 Axes>"
      ]
     },
     "metadata": {
      "needs_background": "light"
     },
     "output_type": "display_data"
    },
    {
     "name": "stdout",
     "output_type": "stream",
     "text": [
      " loan_amnt mean   = 11225.07 \n",
      " funded_amnt mean = 10952.84\n"
     ]
    }
   ],
   "source": [
    "plt.boxplot([loan['loan_amnt'], loan['funded_amnt']])\n",
    "plt.show()\n",
    "print(\" loan_amnt mean   =\", round(loan['loan_amnt'].mean(),2),\"\\n\", \"funded_amnt mean =\",round(loan['funded_amnt'].mean(),2))"
   ]
  },
  {
   "cell_type": "markdown",
   "metadata": {
    "id": "XOGaMzXMTYmF"
   },
   "source": [
    "`As we can see loan_amnt is slightly greater than funded_amnt`"
   ]
  },
  {
   "cell_type": "markdown",
   "metadata": {
    "id": "DJ0udKhoU5uM"
   },
   "source": [
    "### loan_amnt vs term"
   ]
  },
  {
   "cell_type": "code",
   "execution_count": 62,
   "metadata": {
    "colab": {
     "base_uri": "https://localhost:8080/"
    },
    "executionInfo": {
     "elapsed": 32,
     "status": "ok",
     "timestamp": 1629257659982,
     "user": {
      "displayName": "Nikhil N B",
      "photoUrl": "https://lh3.googleusercontent.com/a-/AOh14GjdQxFkrTpQoFHYQwPdqM-S0E1eS_6SCaP5eodp=s64",
      "userId": "08250266006689556220"
     },
     "user_tz": -330
    },
    "id": "3KzGBJEM8i-_",
    "outputId": "3a0d5510-8054-42b4-df16-4ac14c4d525c"
   },
   "outputs": [
    {
     "name": "stdout",
     "output_type": "stream",
     "text": [
      "Sum of loan_amnt by term\n",
      "        loan_amnt\n",
      "term             \n",
      " 36   278734650.0\n",
      " 60   166272150.0\n",
      "--------------------------------\n",
      "\n",
      "Mean of loan_amnt by term\n",
      "         loan_amnt\n",
      "term              \n",
      " 36    9597.970111\n",
      " 60   15681.613694\n"
     ]
    }
   ],
   "source": [
    "print(\"Sum of loan_amnt by term\")\n",
    "print(loan[['loan_amnt', 'term']].groupby('term').sum())\n",
    "print(\"--------------------------------\\n\")\n",
    "print(\"Mean of loan_amnt by term\")\n",
    "print(loan[['loan_amnt', 'term']].groupby('term').mean())"
   ]
  },
  {
   "cell_type": "markdown",
   "metadata": {
    "id": "JmIJTiX19tFu"
   },
   "source": [
    "Inference: \n",
    "* As we can see mean amount for 36 months is less than mean amount for 60 months\n",
    "* Although mean amount for 36 term is less than 60 months, the total sum of loan is greater for 36 term loans\n",
    "\n"
   ]
  },
  {
   "cell_type": "markdown",
   "metadata": {
    "id": "RG69k4ogeyJ-"
   },
   "source": [
    "### loan_amnt vs emp_length"
   ]
  },
  {
   "cell_type": "code",
   "execution_count": 63,
   "metadata": {
    "executionInfo": {
     "elapsed": 19,
     "status": "ok",
     "timestamp": 1629257659982,
     "user": {
      "displayName": "Nikhil N B",
      "photoUrl": "https://lh3.googleusercontent.com/a-/AOh14GjdQxFkrTpQoFHYQwPdqM-S0E1eS_6SCaP5eodp=s64",
      "userId": "08250266006689556220"
     },
     "user_tz": -330
    },
    "id": "lXP4s2yUDd4G"
   },
   "outputs": [],
   "source": [
    "loan_emp_length_agg = loan[['loan_amnt', 'emp_length']].groupby('emp_length', as_index=False).sum()"
   ]
  },
  {
   "cell_type": "code",
   "execution_count": 64,
   "metadata": {
    "colab": {
     "base_uri": "https://localhost:8080/",
     "height": 275
    },
    "executionInfo": {
     "elapsed": 729,
     "status": "ok",
     "timestamp": 1629257660692,
     "user": {
      "displayName": "Nikhil N B",
      "photoUrl": "https://lh3.googleusercontent.com/a-/AOh14GjdQxFkrTpQoFHYQwPdqM-S0E1eS_6SCaP5eodp=s64",
      "userId": "08250266006689556220"
     },
     "user_tz": -330
    },
    "id": "k2j6OFFHEoih",
    "outputId": "32ed7250-b7d7-4ae4-f036-644515361281"
   },
   "outputs": [
    {
     "data": {
      "image/png": "[encoded data removed]",
      "text/plain": [
       "<Figure size 1080x576 with 1 Axes>"
      ]
     },
     "metadata": {
      "needs_background": "light"
     },
     "output_type": "display_data"
    }
   ],
   "source": [
    "plt.figure(figsize=(15,8))\n",
    "plt.subplot(2, 2, 2)\n",
    "ax = sns.barplot(x=loan_emp_length_agg['emp_length'], y=loan_emp_length_agg['loan_amnt'])\n",
    "ax.set_xlabel('emp_length',fontsize=14)\n",
    "ax.set_ylabel('loan_amnt',fontsize=14)\n",
    "plt.show() "
   ]
  },
  {
   "cell_type": "markdown",
   "metadata": {
    "id": "by_Er5hiGUzW"
   },
   "source": [
    "Inference: \n",
    "*   Maximum loan amount is taken from the people with 10 or more years of employement\n",
    "*   Least amount of loan is taken from the people with 9yrs of employment length\n",
    "\n"
   ]
  },
  {
   "cell_type": "markdown",
   "metadata": {
    "id": "YafaeyeB-CBp"
   },
   "source": [
    "### loan_amnt_qctg vs loan_status"
   ]
  },
  {
   "cell_type": "code",
   "execution_count": 65,
   "metadata": {
    "executionInfo": {
     "elapsed": 14,
     "status": "ok",
     "timestamp": 1629257660692,
     "user": {
      "displayName": "Nikhil N B",
      "photoUrl": "https://lh3.googleusercontent.com/a-/AOh14GjdQxFkrTpQoFHYQwPdqM-S0E1eS_6SCaP5eodp=s64",
      "userId": "08250266006689556220"
     },
     "user_tz": -330
    },
    "id": "V6I2_K85-FUP"
   },
   "outputs": [],
   "source": [
    "loan_amnt_qctg_vs_loan_status = loan.groupby(['loan_amnt_qctg', 'loan_status']).loan_status.count().unstack().fillna(0).reset_index()\n",
    "loan_amnt_qctg_vs_loan_status['ratio'] = (loan_amnt_qctg_vs_loan_status['charged off']*100/loan_amnt_qctg_vs_loan_status['fully paid'])"
   ]
  },
  {
   "cell_type": "code",
   "execution_count": 66,
   "metadata": {
    "colab": {
     "base_uri": "https://localhost:8080/",
     "height": 363
    },
    "executionInfo": {
     "elapsed": 14,
     "status": "ok",
     "timestamp": 1629257660693,
     "user": {
      "displayName": "Nikhil N B",
      "photoUrl": "https://lh3.googleusercontent.com/a-/AOh14GjdQxFkrTpQoFHYQwPdqM-S0E1eS_6SCaP5eodp=s64",
      "userId": "08250266006689556220"
     },
     "user_tz": -330
    },
    "id": "Afh3bwVv_MpZ",
    "outputId": "2a13f379-c67c-4afc-f99b-fd38547b752d"
   },
   "outputs": [
    {
     "data": {
      "image/png": "[encoded data removed]",
      "text/plain": [
       "<Figure size 2160x864 with 1 Axes>"
      ]
     },
     "metadata": {
      "needs_background": "light"
     },
     "output_type": "display_data"
    }
   ],
   "source": [
    "plt.figure(figsize=(30,12))\n",
    "plt.subplot(2, 2, 2)\n",
    "ax = sns.barplot(x=loan_amnt_qctg_vs_loan_status['loan_amnt_qctg'], y=loan_amnt_qctg_vs_loan_status['ratio'])\n",
    "ax.set_xlabel('chragedoff_ratio',fontsize=14)\n",
    "ax.set_ylabel('loan_amnt',fontsize=14)\n",
    "plt.show() "
   ]
  },
  {
   "cell_type": "markdown",
   "metadata": {
    "id": "nLiCudGhVBOK"
   },
   "source": [
    "### loan_amnt vs home_ownership"
   ]
  },
  {
   "cell_type": "code",
   "execution_count": 67,
   "metadata": {
    "executionInfo": {
     "elapsed": 11,
     "status": "ok",
     "timestamp": 1629257660693,
     "user": {
      "displayName": "Nikhil N B",
      "photoUrl": "https://lh3.googleusercontent.com/a-/AOh14GjdQxFkrTpQoFHYQwPdqM-S0E1eS_6SCaP5eodp=s64",
      "userId": "08250266006689556220"
     },
     "user_tz": -330
    },
    "id": "kDyARtPSHbAC"
   },
   "outputs": [],
   "source": [
    "loan_home_ownership_agg = loan[['loan_amnt', 'home_ownership']].groupby('home_ownership', as_index=False).sum()"
   ]
  },
  {
   "cell_type": "code",
   "execution_count": 68,
   "metadata": {
    "colab": {
     "base_uri": "https://localhost:8080/",
     "height": 275
    },
    "executionInfo": {
     "elapsed": 12,
     "status": "ok",
     "timestamp": 1629257660693,
     "user": {
      "displayName": "Nikhil N B",
      "photoUrl": "https://lh3.googleusercontent.com/a-/AOh14GjdQxFkrTpQoFHYQwPdqM-S0E1eS_6SCaP5eodp=s64",
      "userId": "08250266006689556220"
     },
     "user_tz": -330
    },
    "id": "-DiTV-XdIdy-",
    "outputId": "07008a61-309b-4ca8-f811-34d51243c60f"
   },
   "outputs": [
    {
     "data": {
      "image/png": "[encoded data removed]",
      "text/plain": [
       "<Figure size 1080x576 with 1 Axes>"
      ]
     },
     "metadata": {
      "needs_background": "light"
     },
     "output_type": "display_data"
    }
   ],
   "source": [
    "plt.figure(figsize=(15,8))\n",
    "plt.subplot(2, 2, 2)\n",
    "ax = sns.barplot(x=loan_home_ownership_agg['home_ownership'], y=loan_home_ownership_agg['loan_amnt'])\n",
    "ax.set_xlabel('home_ownership',fontsize=14)\n",
    "ax.set_ylabel('loan_amnt',fontsize=14)\n",
    "plt.show() "
   ]
  },
  {
   "cell_type": "markdown",
   "metadata": {
    "id": "aZ3QANAuI7xU"
   },
   "source": [
    "Inference:\n",
    "\n",
    "* Loan amount is most for mortgage type of home_ownership\n",
    "* Leaving other, own home owners has loan_amnt sum very less\n",
    "\n"
   ]
  },
  {
   "cell_type": "markdown",
   "metadata": {
    "id": "Y-cC0C1OllZW"
   },
   "source": [
    "### loan_amnt vs addr_state"
   ]
  },
  {
   "cell_type": "code",
   "execution_count": 69,
   "metadata": {
    "executionInfo": {
     "elapsed": 11,
     "status": "ok",
     "timestamp": 1629257660694,
     "user": {
      "displayName": "Nikhil N B",
      "photoUrl": "https://lh3.googleusercontent.com/a-/AOh14GjdQxFkrTpQoFHYQwPdqM-S0E1eS_6SCaP5eodp=s64",
      "userId": "08250266006689556220"
     },
     "user_tz": -330
    },
    "id": "JDqY3YzyJw44"
   },
   "outputs": [],
   "source": [
    "loan_addr_st_agg = loan[['loan_amnt', 'addr_state']].groupby('addr_state', as_index=False).sum()"
   ]
  },
  {
   "cell_type": "code",
   "execution_count": 70,
   "metadata": {
    "colab": {
     "base_uri": "https://localhost:8080/",
     "height": 472
    },
    "executionInfo": {
     "elapsed": 914,
     "status": "ok",
     "timestamp": 1629257661598,
     "user": {
      "displayName": "Nikhil N B",
      "photoUrl": "https://lh3.googleusercontent.com/a-/AOh14GjdQxFkrTpQoFHYQwPdqM-S0E1eS_6SCaP5eodp=s64",
      "userId": "08250266006689556220"
     },
     "user_tz": -330
    },
    "id": "EGoS7PDhKszD",
    "outputId": "f8fea816-5f15-44ec-af7e-cb4a4c57ee81"
   },
   "outputs": [
    {
     "data": {
      "image/png": "[encoded data removed]",
      "text/plain": [
       "<Figure size 2880x1152 with 1 Axes>"
      ]
     },
     "metadata": {
      "needs_background": "light"
     },
     "output_type": "display_data"
    }
   ],
   "source": [
    "plt.figure(figsize=(40,16))\n",
    "plt.subplot(2, 2, 2)\n",
    "ax = sns.barplot(x=loan_addr_st_agg['addr_state'], y=loan_addr_st_agg['loan_amnt'])\n",
    "ax.set_xlabel('addr_state',fontsize=14)\n",
    "ax.set_ylabel('loan_amnt',fontsize=14)\n",
    "plt.show() "
   ]
  },
  {
   "cell_type": "markdown",
   "metadata": {
    "id": "AYfaXqwvLX4Z"
   },
   "source": [
    "Inference: \n",
    "* Loan amount is highest for 'ca', 80186800\n",
    "* Loan amount is least for 'ak', 9200"
   ]
  },
  {
   "cell_type": "code",
   "execution_count": 71,
   "metadata": {
    "colab": {
     "base_uri": "https://localhost:8080/",
     "height": 394
    },
    "executionInfo": {
     "elapsed": 12,
     "status": "ok",
     "timestamp": 1629257661599,
     "user": {
      "displayName": "Nikhil N B",
      "photoUrl": "https://lh3.googleusercontent.com/a-/AOh14GjdQxFkrTpQoFHYQwPdqM-S0E1eS_6SCaP5eodp=s64",
      "userId": "08250266006689556220"
     },
     "user_tz": -330
    },
    "id": "eXbiqFBqT-Sp",
    "outputId": "a6cfdfd8-e1d6-4a7f-8d7b-80bcc0a74362"
   },
   "outputs": [
    {
     "data": {
      "text/html": [
       "<div>\n",
       "<style scoped>\n",
       "    .dataframe tbody tr th:only-of-type {\n",
       "        vertical-align: middle;\n",
       "    }\n",
       "\n",
       "    .dataframe tbody tr th {\n",
       "        vertical-align: top;\n",
       "    }\n",
       "\n",
       "    .dataframe thead th {\n",
       "        text-align: right;\n",
       "    }\n",
       "</style>\n",
       "<table border=\"1\" class=\"dataframe\">\n",
       "  <thead>\n",
       "    <tr style=\"text-align: right;\">\n",
       "      <th></th>\n",
       "      <th>id</th>\n",
       "      <th>member_id</th>\n",
       "      <th>loan_amnt</th>\n",
       "      <th>funded_amnt</th>\n",
       "      <th>funded_amnt_inv</th>\n",
       "      <th>term</th>\n",
       "      <th>int_rate</th>\n",
       "      <th>installment</th>\n",
       "      <th>grade</th>\n",
       "      <th>sub_grade</th>\n",
       "      <th>...</th>\n",
       "      <th>earliest_cr_line_year</th>\n",
       "      <th>last_pymnt_month</th>\n",
       "      <th>last_pymnt_year</th>\n",
       "      <th>last_credit_pull_month</th>\n",
       "      <th>last_credit_pull_year</th>\n",
       "      <th>loan_amnt_qctg</th>\n",
       "      <th>annual_inc_qctg</th>\n",
       "      <th>int_rate_qctg</th>\n",
       "      <th>installment_qctg</th>\n",
       "      <th>dti_qctg</th>\n",
       "    </tr>\n",
       "  </thead>\n",
       "  <tbody>\n",
       "    <tr>\n",
       "      <th>0</th>\n",
       "      <td>1077501</td>\n",
       "      <td>1296599</td>\n",
       "      <td>5000.0</td>\n",
       "      <td>5000.0</td>\n",
       "      <td>4975.0</td>\n",
       "      <td>36</td>\n",
       "      <td>10</td>\n",
       "      <td>162.87</td>\n",
       "      <td>b</td>\n",
       "      <td>b2</td>\n",
       "      <td>...</td>\n",
       "      <td>85</td>\n",
       "      <td>jan</td>\n",
       "      <td>15</td>\n",
       "      <td>may</td>\n",
       "      <td>16</td>\n",
       "      <td>Lowest (500.0 - 5000.0)</td>\n",
       "      <td>Lowest (4000.0 - 37500.0)</td>\n",
       "      <td>Lower (7.0 - 10.0)</td>\n",
       "      <td>Lower (150.84 - 231.59)</td>\n",
       "      <td>Highest (19.75 - 29.99)</td>\n",
       "    </tr>\n",
       "    <tr>\n",
       "      <th>1</th>\n",
       "      <td>1077430</td>\n",
       "      <td>1314167</td>\n",
       "      <td>2500.0</td>\n",
       "      <td>2500.0</td>\n",
       "      <td>2500.0</td>\n",
       "      <td>60</td>\n",
       "      <td>15</td>\n",
       "      <td>59.83</td>\n",
       "      <td>c</td>\n",
       "      <td>c4</td>\n",
       "      <td>...</td>\n",
       "      <td>99</td>\n",
       "      <td>apr</td>\n",
       "      <td>13</td>\n",
       "      <td>sep</td>\n",
       "      <td>13</td>\n",
       "      <td>Lowest (500.0 - 5000.0)</td>\n",
       "      <td>Lowest (4000.0 - 37500.0)</td>\n",
       "      <td>Higher (12.0 - 15.0)</td>\n",
       "      <td>Lowest (15.69 - 150.84)</td>\n",
       "      <td>Lowest (0.0 - 6.98)</td>\n",
       "    </tr>\n",
       "    <tr>\n",
       "      <th>2</th>\n",
       "      <td>1077175</td>\n",
       "      <td>1313524</td>\n",
       "      <td>2400.0</td>\n",
       "      <td>2400.0</td>\n",
       "      <td>2400.0</td>\n",
       "      <td>36</td>\n",
       "      <td>15</td>\n",
       "      <td>84.33</td>\n",
       "      <td>c</td>\n",
       "      <td>c5</td>\n",
       "      <td>...</td>\n",
       "      <td>01</td>\n",
       "      <td>jun</td>\n",
       "      <td>14</td>\n",
       "      <td>may</td>\n",
       "      <td>16</td>\n",
       "      <td>Lowest (500.0 - 5000.0)</td>\n",
       "      <td>Lowest (4000.0 - 37500.0)</td>\n",
       "      <td>Higher (12.0 - 15.0)</td>\n",
       "      <td>Lowest (15.69 - 150.84)</td>\n",
       "      <td>Lower (6.98 - 11.38)</td>\n",
       "    </tr>\n",
       "    <tr>\n",
       "      <th>3</th>\n",
       "      <td>1076863</td>\n",
       "      <td>1277178</td>\n",
       "      <td>10000.0</td>\n",
       "      <td>10000.0</td>\n",
       "      <td>10000.0</td>\n",
       "      <td>36</td>\n",
       "      <td>13</td>\n",
       "      <td>339.31</td>\n",
       "      <td>c</td>\n",
       "      <td>c1</td>\n",
       "      <td>...</td>\n",
       "      <td>96</td>\n",
       "      <td>jan</td>\n",
       "      <td>15</td>\n",
       "      <td>apr</td>\n",
       "      <td>16</td>\n",
       "      <td>Medium (8000.0 - 12000.0)</td>\n",
       "      <td>Lower (37500.0 - 50400.0)</td>\n",
       "      <td>Higher (12.0 - 15.0)</td>\n",
       "      <td>Higher (330.76 - 483.38)</td>\n",
       "      <td>Highest (19.75 - 29.99)</td>\n",
       "    </tr>\n",
       "    <tr>\n",
       "      <th>4</th>\n",
       "      <td>1075358</td>\n",
       "      <td>1311748</td>\n",
       "      <td>3000.0</td>\n",
       "      <td>3000.0</td>\n",
       "      <td>3000.0</td>\n",
       "      <td>60</td>\n",
       "      <td>12</td>\n",
       "      <td>67.79</td>\n",
       "      <td>b</td>\n",
       "      <td>b5</td>\n",
       "      <td>...</td>\n",
       "      <td>96</td>\n",
       "      <td>may</td>\n",
       "      <td>16</td>\n",
       "      <td>may</td>\n",
       "      <td>16</td>\n",
       "      <td>Lowest (500.0 - 5000.0)</td>\n",
       "      <td>Higher (66000.0 - 90000.0)</td>\n",
       "      <td>Medium (10.0 - 12.0)</td>\n",
       "      <td>Lowest (15.69 - 150.84)</td>\n",
       "      <td>Higher (15.36 - 19.75)</td>\n",
       "    </tr>\n",
       "  </tbody>\n",
       "</table>\n",
       "<p>5 rows × 43 columns</p>\n",
       "</div>"
      ],
      "text/plain": [
       "        id member_id  loan_amnt  funded_amnt  funded_amnt_inv term  int_rate  \\\n",
       "0  1077501   1296599     5000.0       5000.0           4975.0   36        10   \n",
       "1  1077430   1314167     2500.0       2500.0           2500.0   60        15   \n",
       "2  1077175   1313524     2400.0       2400.0           2400.0   36        15   \n",
       "3  1076863   1277178    10000.0      10000.0          10000.0   36        13   \n",
       "4  1075358   1311748     3000.0       3000.0           3000.0   60        12   \n",
       "\n",
       "   installment grade sub_grade  ...  earliest_cr_line_year last_pymnt_month  \\\n",
       "0       162.87     b        b2  ...                     85              jan   \n",
       "1        59.83     c        c4  ...                     99              apr   \n",
       "2        84.33     c        c5  ...                     01              jun   \n",
       "3       339.31     c        c1  ...                     96              jan   \n",
       "4        67.79     b        b5  ...                     96              may   \n",
       "\n",
       "   last_pymnt_year last_credit_pull_month last_credit_pull_year  \\\n",
       "0               15                    may                    16   \n",
       "1               13                    sep                    13   \n",
       "2               14                    may                    16   \n",
       "3               15                    apr                    16   \n",
       "4               16                    may                    16   \n",
       "\n",
       "              loan_amnt_qctg             annual_inc_qctg  \\\n",
       "0    Lowest (500.0 - 5000.0)   Lowest (4000.0 - 37500.0)   \n",
       "1    Lowest (500.0 - 5000.0)   Lowest (4000.0 - 37500.0)   \n",
       "2    Lowest (500.0 - 5000.0)   Lowest (4000.0 - 37500.0)   \n",
       "3  Medium (8000.0 - 12000.0)   Lower (37500.0 - 50400.0)   \n",
       "4    Lowest (500.0 - 5000.0)  Higher (66000.0 - 90000.0)   \n",
       "\n",
       "          int_rate_qctg          installment_qctg                 dti_qctg  \n",
       "0    Lower (7.0 - 10.0)   Lower (150.84 - 231.59)  Highest (19.75 - 29.99)  \n",
       "1  Higher (12.0 - 15.0)   Lowest (15.69 - 150.84)      Lowest (0.0 - 6.98)  \n",
       "2  Higher (12.0 - 15.0)   Lowest (15.69 - 150.84)     Lower (6.98 - 11.38)  \n",
       "3  Higher (12.0 - 15.0)  Higher (330.76 - 483.38)  Highest (19.75 - 29.99)  \n",
       "4  Medium (10.0 - 12.0)   Lowest (15.69 - 150.84)   Higher (15.36 - 19.75)  \n",
       "\n",
       "[5 rows x 43 columns]"
      ]
     },
     "execution_count": 71,
     "metadata": {},
     "output_type": "execute_result"
    }
   ],
   "source": [
    "loan.head()"
   ]
  },
  {
   "cell_type": "markdown",
   "metadata": {
    "id": "yoHkAWSqNPhA"
   },
   "source": [
    "### loan_status vs purpose\n"
   ]
  },
  {
   "cell_type": "code",
   "execution_count": 72,
   "metadata": {
    "colab": {
     "base_uri": "https://localhost:8080/",
     "height": 518
    },
    "executionInfo": {
     "elapsed": 1266,
     "status": "ok",
     "timestamp": 1629257662855,
     "user": {
      "displayName": "Nikhil N B",
      "photoUrl": "https://lh3.googleusercontent.com/a-/AOh14GjdQxFkrTpQoFHYQwPdqM-S0E1eS_6SCaP5eodp=s64",
      "userId": "08250266006689556220"
     },
     "user_tz": -330
    },
    "id": "9gEvOoKtYtUh",
    "outputId": "2cc26fbb-d045-4b51-88c0-2a45b0fbdbf3"
   },
   "outputs": [
    {
     "data": {
      "image/png": "[encoded data removed]",
      "text/plain": [
       "<Figure size 1008x576 with 1 Axes>"
      ]
     },
     "metadata": {
      "needs_background": "light"
     },
     "output_type": "display_data"
    }
   ],
   "source": [
    "plt.figure(figsize=(14,8))\n",
    "sns.set_style(\"dark\")\n",
    "ax = sns.countplot(y=\"purpose\",data=loan,hue='loan_status')\n",
    "ax.set_title('Purpose Of Loan',fontsize=14)\n",
    "ax.set_ylabel('Purpose Of Loan',fontsize=14)\n",
    "ax.set_xlabel('Loan Application Count',fontsize=14)      \n",
    "plt.show()"
   ]
  },
  {
   "cell_type": "code",
   "execution_count": 73,
   "metadata": {
    "colab": {
     "base_uri": "https://localhost:8080/",
     "height": 483
    },
    "executionInfo": {
     "elapsed": 23,
     "status": "ok",
     "timestamp": 1629257662856,
     "user": {
      "displayName": "Nikhil N B",
      "photoUrl": "https://lh3.googleusercontent.com/a-/AOh14GjdQxFkrTpQoFHYQwPdqM-S0E1eS_6SCaP5eodp=s64",
      "userId": "08250266006689556220"
     },
     "user_tz": -330
    },
    "id": "lT8G3gpcHv1n",
    "outputId": "8f8bc397-fe3d-49bd-81a3-085107cb3e12"
   },
   "outputs": [
    {
     "data": {
      "text/html": [
       "<div>\n",
       "<style scoped>\n",
       "    .dataframe tbody tr th:only-of-type {\n",
       "        vertical-align: middle;\n",
       "    }\n",
       "\n",
       "    .dataframe tbody tr th {\n",
       "        vertical-align: top;\n",
       "    }\n",
       "\n",
       "    .dataframe thead th {\n",
       "        text-align: right;\n",
       "    }\n",
       "</style>\n",
       "<table border=\"1\" class=\"dataframe\">\n",
       "  <thead>\n",
       "    <tr style=\"text-align: right;\">\n",
       "      <th>loan_status</th>\n",
       "      <th>purpose</th>\n",
       "      <th>charged off</th>\n",
       "      <th>current</th>\n",
       "      <th>fully paid</th>\n",
       "      <th>ratio</th>\n",
       "    </tr>\n",
       "  </thead>\n",
       "  <tbody>\n",
       "    <tr>\n",
       "      <th>0</th>\n",
       "      <td>car</td>\n",
       "      <td>160.0</td>\n",
       "      <td>50.0</td>\n",
       "      <td>1339.0</td>\n",
       "      <td>11.949216</td>\n",
       "    </tr>\n",
       "    <tr>\n",
       "      <th>1</th>\n",
       "      <td>credit_card</td>\n",
       "      <td>539.0</td>\n",
       "      <td>103.0</td>\n",
       "      <td>4485.0</td>\n",
       "      <td>12.017837</td>\n",
       "    </tr>\n",
       "    <tr>\n",
       "      <th>2</th>\n",
       "      <td>debt_consolidation</td>\n",
       "      <td>2738.0</td>\n",
       "      <td>586.0</td>\n",
       "      <td>15288.0</td>\n",
       "      <td>17.909471</td>\n",
       "    </tr>\n",
       "    <tr>\n",
       "      <th>3</th>\n",
       "      <td>educational</td>\n",
       "      <td>53.0</td>\n",
       "      <td>0.0</td>\n",
       "      <td>269.0</td>\n",
       "      <td>19.702602</td>\n",
       "    </tr>\n",
       "    <tr>\n",
       "      <th>4</th>\n",
       "      <td>home_improvement</td>\n",
       "      <td>344.0</td>\n",
       "      <td>101.0</td>\n",
       "      <td>2528.0</td>\n",
       "      <td>13.607595</td>\n",
       "    </tr>\n",
       "    <tr>\n",
       "      <th>5</th>\n",
       "      <td>house</td>\n",
       "      <td>57.0</td>\n",
       "      <td>14.0</td>\n",
       "      <td>308.0</td>\n",
       "      <td>18.506494</td>\n",
       "    </tr>\n",
       "    <tr>\n",
       "      <th>6</th>\n",
       "      <td>major_purchase</td>\n",
       "      <td>217.0</td>\n",
       "      <td>37.0</td>\n",
       "      <td>1928.0</td>\n",
       "      <td>11.255187</td>\n",
       "    </tr>\n",
       "    <tr>\n",
       "      <th>7</th>\n",
       "      <td>medical</td>\n",
       "      <td>105.0</td>\n",
       "      <td>12.0</td>\n",
       "      <td>575.0</td>\n",
       "      <td>18.260870</td>\n",
       "    </tr>\n",
       "    <tr>\n",
       "      <th>8</th>\n",
       "      <td>moving</td>\n",
       "      <td>92.0</td>\n",
       "      <td>7.0</td>\n",
       "      <td>484.0</td>\n",
       "      <td>19.008264</td>\n",
       "    </tr>\n",
       "    <tr>\n",
       "      <th>9</th>\n",
       "      <td>other</td>\n",
       "      <td>623.0</td>\n",
       "      <td>128.0</td>\n",
       "      <td>3231.0</td>\n",
       "      <td>19.281956</td>\n",
       "    </tr>\n",
       "    <tr>\n",
       "      <th>10</th>\n",
       "      <td>renewable_energy</td>\n",
       "      <td>18.0</td>\n",
       "      <td>1.0</td>\n",
       "      <td>83.0</td>\n",
       "      <td>21.686747</td>\n",
       "    </tr>\n",
       "    <tr>\n",
       "      <th>11</th>\n",
       "      <td>small_business</td>\n",
       "      <td>466.0</td>\n",
       "      <td>74.0</td>\n",
       "      <td>1279.0</td>\n",
       "      <td>36.434715</td>\n",
       "    </tr>\n",
       "    <tr>\n",
       "      <th>12</th>\n",
       "      <td>vacation</td>\n",
       "      <td>53.0</td>\n",
       "      <td>6.0</td>\n",
       "      <td>322.0</td>\n",
       "      <td>16.459627</td>\n",
       "    </tr>\n",
       "    <tr>\n",
       "      <th>13</th>\n",
       "      <td>wedding</td>\n",
       "      <td>90.0</td>\n",
       "      <td>21.0</td>\n",
       "      <td>830.0</td>\n",
       "      <td>10.843373</td>\n",
       "    </tr>\n",
       "  </tbody>\n",
       "</table>\n",
       "</div>"
      ],
      "text/plain": [
       "loan_status             purpose  charged off  current  fully paid      ratio\n",
       "0                           car        160.0     50.0      1339.0  11.949216\n",
       "1                   credit_card        539.0    103.0      4485.0  12.017837\n",
       "2            debt_consolidation       2738.0    586.0     15288.0  17.909471\n",
       "3                   educational         53.0      0.0       269.0  19.702602\n",
       "4              home_improvement        344.0    101.0      2528.0  13.607595\n",
       "5                         house         57.0     14.0       308.0  18.506494\n",
       "6                major_purchase        217.0     37.0      1928.0  11.255187\n",
       "7                       medical        105.0     12.0       575.0  18.260870\n",
       "8                        moving         92.0      7.0       484.0  19.008264\n",
       "9                         other        623.0    128.0      3231.0  19.281956\n",
       "10             renewable_energy         18.0      1.0        83.0  21.686747\n",
       "11               small_business        466.0     74.0      1279.0  36.434715\n",
       "12                     vacation         53.0      6.0       322.0  16.459627\n",
       "13                      wedding         90.0     21.0       830.0  10.843373"
      ]
     },
     "execution_count": 73,
     "metadata": {},
     "output_type": "execute_result"
    }
   ],
   "source": [
    "purpose_vs_loan = loan.groupby(['purpose', 'loan_status']).loan_status.count().unstack().fillna(0).reset_index()\n",
    "purpose_vs_loan['ratio'] = (purpose_vs_loan['charged off']*100/purpose_vs_loan['fully paid'])\n",
    "purpose_vs_loan"
   ]
  },
  {
   "cell_type": "code",
   "execution_count": 74,
   "metadata": {
    "colab": {
     "base_uri": "https://localhost:8080/",
     "height": 436
    },
    "executionInfo": {
     "elapsed": 19,
     "status": "ok",
     "timestamp": 1629257662856,
     "user": {
      "displayName": "Nikhil N B",
      "photoUrl": "https://lh3.googleusercontent.com/a-/AOh14GjdQxFkrTpQoFHYQwPdqM-S0E1eS_6SCaP5eodp=s64",
      "userId": "08250266006689556220"
     },
     "user_tz": -330
    },
    "id": "y4pD3bR8JajQ",
    "outputId": "d71ed5b0-fe81-4f84-d9a6-0e2302b1545e"
   },
   "outputs": [
    {
     "data": {
      "image/png": "[encoded data removed]",
      "text/plain": [
       "<Figure size 3600x1440 with 1 Axes>"
      ]
     },
     "metadata": {},
     "output_type": "display_data"
    }
   ],
   "source": [
    "plt.figure(figsize=(50,20))\n",
    "plt.subplot(2, 2, 2)\n",
    "ax = sns.barplot(x=purpose_vs_loan['purpose'], y=purpose_vs_loan['ratio'])\n",
    "ax.set_xlabel('purposes',fontsize=14)\n",
    "ax.set_ylabel('charged off ratio',fontsize=14)\n",
    "plt.show() "
   ]
  },
  {
   "cell_type": "markdown",
   "metadata": {
    "id": "UGvuN-0nbSGK"
   },
   "source": [
    "Inference: Graph1\n",
    "* Majority of loan has been given for the debt consolidation purpose and has been fully paid.\n",
    "* For this categorie the count of charged off is also high\n",
    "Inference: Graph2\n",
    "* When chargedoff ratio is comapered it seems that the small_business is highest that any other purpose\n"
   ]
  },
  {
   "cell_type": "markdown",
   "metadata": {
    "id": "eHQV20xwa9wZ"
   },
   "source": [
    "### purpose vs issue_year"
   ]
  },
  {
   "cell_type": "code",
   "execution_count": 75,
   "metadata": {
    "executionInfo": {
     "elapsed": 415,
     "status": "ok",
     "timestamp": 1629259393557,
     "user": {
      "displayName": "Nikhil N B",
      "photoUrl": "https://lh3.googleusercontent.com/a-/AOh14GjdQxFkrTpQoFHYQwPdqM-S0E1eS_6SCaP5eodp=s64",
      "userId": "08250266006689556220"
     },
     "user_tz": -330
    },
    "id": "U9hdMOGSbDUt"
   },
   "outputs": [],
   "source": [
    "purpose_vs_issue_year = loan.groupby(['purpose', 'issue_year']).purpose.count().unstack().fillna(0).reset_index()"
   ]
  },
  {
   "cell_type": "code",
   "execution_count": 76,
   "metadata": {
    "colab": {
     "base_uri": "https://localhost:8080/",
     "height": 483
    },
    "executionInfo": {
     "elapsed": 378,
     "status": "ok",
     "timestamp": 1629259398133,
     "user": {
      "displayName": "Nikhil N B",
      "photoUrl": "https://lh3.googleusercontent.com/a-/AOh14GjdQxFkrTpQoFHYQwPdqM-S0E1eS_6SCaP5eodp=s64",
      "userId": "08250266006689556220"
     },
     "user_tz": -330
    },
    "id": "MtKkrTGHbUFo",
    "outputId": "244ac513-db17-4a5f-8f59-e87f748eab20"
   },
   "outputs": [
    {
     "data": {
      "text/html": [
       "<div>\n",
       "<style scoped>\n",
       "    .dataframe tbody tr th:only-of-type {\n",
       "        vertical-align: middle;\n",
       "    }\n",
       "\n",
       "    .dataframe tbody tr th {\n",
       "        vertical-align: top;\n",
       "    }\n",
       "\n",
       "    .dataframe thead th {\n",
       "        text-align: right;\n",
       "    }\n",
       "</style>\n",
       "<table border=\"1\" class=\"dataframe\">\n",
       "  <thead>\n",
       "    <tr style=\"text-align: right;\">\n",
       "      <th>issue_year</th>\n",
       "      <th>purpose</th>\n",
       "      <th>07</th>\n",
       "      <th>08</th>\n",
       "      <th>09</th>\n",
       "      <th>10</th>\n",
       "      <th>11</th>\n",
       "    </tr>\n",
       "  </thead>\n",
       "  <tbody>\n",
       "    <tr>\n",
       "      <th>0</th>\n",
       "      <td>car</td>\n",
       "      <td>3.0</td>\n",
       "      <td>41.0</td>\n",
       "      <td>167.0</td>\n",
       "      <td>402.0</td>\n",
       "      <td>936.0</td>\n",
       "    </tr>\n",
       "    <tr>\n",
       "      <th>1</th>\n",
       "      <td>credit_card</td>\n",
       "      <td>43.0</td>\n",
       "      <td>270.0</td>\n",
       "      <td>569.0</td>\n",
       "      <td>1434.0</td>\n",
       "      <td>2811.0</td>\n",
       "    </tr>\n",
       "    <tr>\n",
       "      <th>2</th>\n",
       "      <td>debt_consolidation</td>\n",
       "      <td>78.0</td>\n",
       "      <td>625.0</td>\n",
       "      <td>1981.0</td>\n",
       "      <td>5308.0</td>\n",
       "      <td>10620.0</td>\n",
       "    </tr>\n",
       "    <tr>\n",
       "      <th>3</th>\n",
       "      <td>educational</td>\n",
       "      <td>12.0</td>\n",
       "      <td>53.0</td>\n",
       "      <td>158.0</td>\n",
       "      <td>99.0</td>\n",
       "      <td>0.0</td>\n",
       "    </tr>\n",
       "    <tr>\n",
       "      <th>4</th>\n",
       "      <td>home_improvement</td>\n",
       "      <td>22.0</td>\n",
       "      <td>96.0</td>\n",
       "      <td>335.0</td>\n",
       "      <td>849.0</td>\n",
       "      <td>1671.0</td>\n",
       "    </tr>\n",
       "    <tr>\n",
       "      <th>5</th>\n",
       "      <td>house</td>\n",
       "      <td>1.0</td>\n",
       "      <td>13.0</td>\n",
       "      <td>61.0</td>\n",
       "      <td>90.0</td>\n",
       "      <td>214.0</td>\n",
       "    </tr>\n",
       "    <tr>\n",
       "      <th>6</th>\n",
       "      <td>major_purchase</td>\n",
       "      <td>5.0</td>\n",
       "      <td>61.0</td>\n",
       "      <td>231.0</td>\n",
       "      <td>810.0</td>\n",
       "      <td>1075.0</td>\n",
       "    </tr>\n",
       "    <tr>\n",
       "      <th>7</th>\n",
       "      <td>medical</td>\n",
       "      <td>2.0</td>\n",
       "      <td>26.0</td>\n",
       "      <td>83.0</td>\n",
       "      <td>201.0</td>\n",
       "      <td>380.0</td>\n",
       "    </tr>\n",
       "    <tr>\n",
       "      <th>8</th>\n",
       "      <td>moving</td>\n",
       "      <td>6.0</td>\n",
       "      <td>20.0</td>\n",
       "      <td>57.0</td>\n",
       "      <td>197.0</td>\n",
       "      <td>303.0</td>\n",
       "    </tr>\n",
       "    <tr>\n",
       "      <th>9</th>\n",
       "      <td>other</td>\n",
       "      <td>41.0</td>\n",
       "      <td>213.0</td>\n",
       "      <td>581.0</td>\n",
       "      <td>1287.0</td>\n",
       "      <td>1860.0</td>\n",
       "    </tr>\n",
       "    <tr>\n",
       "      <th>10</th>\n",
       "      <td>renewable_energy</td>\n",
       "      <td>0.0</td>\n",
       "      <td>3.0</td>\n",
       "      <td>6.0</td>\n",
       "      <td>35.0</td>\n",
       "      <td>58.0</td>\n",
       "    </tr>\n",
       "    <tr>\n",
       "      <th>11</th>\n",
       "      <td>small_business</td>\n",
       "      <td>26.0</td>\n",
       "      <td>91.0</td>\n",
       "      <td>316.0</td>\n",
       "      <td>419.0</td>\n",
       "      <td>967.0</td>\n",
       "    </tr>\n",
       "    <tr>\n",
       "      <th>12</th>\n",
       "      <td>vacation</td>\n",
       "      <td>3.0</td>\n",
       "      <td>9.0</td>\n",
       "      <td>26.0</td>\n",
       "      <td>116.0</td>\n",
       "      <td>227.0</td>\n",
       "    </tr>\n",
       "    <tr>\n",
       "      <th>13</th>\n",
       "      <td>wedding</td>\n",
       "      <td>8.0</td>\n",
       "      <td>40.0</td>\n",
       "      <td>133.0</td>\n",
       "      <td>264.0</td>\n",
       "      <td>496.0</td>\n",
       "    </tr>\n",
       "  </tbody>\n",
       "</table>\n",
       "</div>"
      ],
      "text/plain": [
       "issue_year             purpose    07     08      09      10       11\n",
       "0                          car   3.0   41.0   167.0   402.0    936.0\n",
       "1                  credit_card  43.0  270.0   569.0  1434.0   2811.0\n",
       "2           debt_consolidation  78.0  625.0  1981.0  5308.0  10620.0\n",
       "3                  educational  12.0   53.0   158.0    99.0      0.0\n",
       "4             home_improvement  22.0   96.0   335.0   849.0   1671.0\n",
       "5                        house   1.0   13.0    61.0    90.0    214.0\n",
       "6               major_purchase   5.0   61.0   231.0   810.0   1075.0\n",
       "7                      medical   2.0   26.0    83.0   201.0    380.0\n",
       "8                       moving   6.0   20.0    57.0   197.0    303.0\n",
       "9                        other  41.0  213.0   581.0  1287.0   1860.0\n",
       "10            renewable_energy   0.0    3.0     6.0    35.0     58.0\n",
       "11              small_business  26.0   91.0   316.0   419.0    967.0\n",
       "12                    vacation   3.0    9.0    26.0   116.0    227.0\n",
       "13                     wedding   8.0   40.0   133.0   264.0    496.0"
      ]
     },
     "execution_count": 76,
     "metadata": {},
     "output_type": "execute_result"
    }
   ],
   "source": [
    "purpose_vs_issue_year"
   ]
  },
  {
   "cell_type": "code",
   "execution_count": 77,
   "metadata": {
    "executionInfo": {
     "elapsed": 354,
     "status": "ok",
     "timestamp": 1629264403555,
     "user": {
      "displayName": "Nikhil N B",
      "photoUrl": "https://lh3.googleusercontent.com/a-/AOh14GjdQxFkrTpQoFHYQwPdqM-S0E1eS_6SCaP5eodp=s64",
      "userId": "08250266006689556220"
     },
     "user_tz": -330
    },
    "id": "fzWr7m3ccSeq"
   },
   "outputs": [],
   "source": [
    "purpose_vs_issue_year = pd.melt(purpose_vs_issue_year, id_vars='purpose', var_name=\"source\", \n",
    "                                value_name=\"value_numbers\")"
   ]
  },
  {
   "cell_type": "code",
   "execution_count": 78,
   "metadata": {
    "colab": {
     "base_uri": "https://localhost:8080/",
     "height": 419
    },
    "executionInfo": {
     "elapsed": 7,
     "status": "ok",
     "timestamp": 1629264405312,
     "user": {
      "displayName": "Nikhil N B",
      "photoUrl": "https://lh3.googleusercontent.com/a-/AOh14GjdQxFkrTpQoFHYQwPdqM-S0E1eS_6SCaP5eodp=s64",
      "userId": "08250266006689556220"
     },
     "user_tz": -330
    },
    "id": "xGI1FhG5cpoX",
    "outputId": "1f3971d3-cc9e-4e97-9bed-d7390be0e7f6"
   },
   "outputs": [
    {
     "data": {
      "text/html": [
       "<div>\n",
       "<style scoped>\n",
       "    .dataframe tbody tr th:only-of-type {\n",
       "        vertical-align: middle;\n",
       "    }\n",
       "\n",
       "    .dataframe tbody tr th {\n",
       "        vertical-align: top;\n",
       "    }\n",
       "\n",
       "    .dataframe thead th {\n",
       "        text-align: right;\n",
       "    }\n",
       "</style>\n",
       "<table border=\"1\" class=\"dataframe\">\n",
       "  <thead>\n",
       "    <tr style=\"text-align: right;\">\n",
       "      <th></th>\n",
       "      <th>purpose</th>\n",
       "      <th>source</th>\n",
       "      <th>value_numbers</th>\n",
       "    </tr>\n",
       "  </thead>\n",
       "  <tbody>\n",
       "    <tr>\n",
       "      <th>0</th>\n",
       "      <td>car</td>\n",
       "      <td>07</td>\n",
       "      <td>3.0</td>\n",
       "    </tr>\n",
       "    <tr>\n",
       "      <th>1</th>\n",
       "      <td>credit_card</td>\n",
       "      <td>07</td>\n",
       "      <td>43.0</td>\n",
       "    </tr>\n",
       "    <tr>\n",
       "      <th>2</th>\n",
       "      <td>debt_consolidation</td>\n",
       "      <td>07</td>\n",
       "      <td>78.0</td>\n",
       "    </tr>\n",
       "    <tr>\n",
       "      <th>3</th>\n",
       "      <td>educational</td>\n",
       "      <td>07</td>\n",
       "      <td>12.0</td>\n",
       "    </tr>\n",
       "    <tr>\n",
       "      <th>4</th>\n",
       "      <td>home_improvement</td>\n",
       "      <td>07</td>\n",
       "      <td>22.0</td>\n",
       "    </tr>\n",
       "    <tr>\n",
       "      <th>...</th>\n",
       "      <td>...</td>\n",
       "      <td>...</td>\n",
       "      <td>...</td>\n",
       "    </tr>\n",
       "    <tr>\n",
       "      <th>65</th>\n",
       "      <td>other</td>\n",
       "      <td>11</td>\n",
       "      <td>1860.0</td>\n",
       "    </tr>\n",
       "    <tr>\n",
       "      <th>66</th>\n",
       "      <td>renewable_energy</td>\n",
       "      <td>11</td>\n",
       "      <td>58.0</td>\n",
       "    </tr>\n",
       "    <tr>\n",
       "      <th>67</th>\n",
       "      <td>small_business</td>\n",
       "      <td>11</td>\n",
       "      <td>967.0</td>\n",
       "    </tr>\n",
       "    <tr>\n",
       "      <th>68</th>\n",
       "      <td>vacation</td>\n",
       "      <td>11</td>\n",
       "      <td>227.0</td>\n",
       "    </tr>\n",
       "    <tr>\n",
       "      <th>69</th>\n",
       "      <td>wedding</td>\n",
       "      <td>11</td>\n",
       "      <td>496.0</td>\n",
       "    </tr>\n",
       "  </tbody>\n",
       "</table>\n",
       "<p>70 rows × 3 columns</p>\n",
       "</div>"
      ],
      "text/plain": [
       "               purpose source  value_numbers\n",
       "0                  car     07            3.0\n",
       "1          credit_card     07           43.0\n",
       "2   debt_consolidation     07           78.0\n",
       "3          educational     07           12.0\n",
       "4     home_improvement     07           22.0\n",
       "..                 ...    ...            ...\n",
       "65               other     11         1860.0\n",
       "66    renewable_energy     11           58.0\n",
       "67      small_business     11          967.0\n",
       "68            vacation     11          227.0\n",
       "69             wedding     11          496.0\n",
       "\n",
       "[70 rows x 3 columns]"
      ]
     },
     "execution_count": 78,
     "metadata": {},
     "output_type": "execute_result"
    }
   ],
   "source": [
    "purpose_vs_issue_year"
   ]
  },
  {
   "cell_type": "code",
   "execution_count": 79,
   "metadata": {
    "colab": {
     "base_uri": "https://localhost:8080/",
     "height": 567
    },
    "executionInfo": {
     "elapsed": 1346,
     "status": "ok",
     "timestamp": 1629264620545,
     "user": {
      "displayName": "Nikhil N B",
      "photoUrl": "https://lh3.googleusercontent.com/a-/AOh14GjdQxFkrTpQoFHYQwPdqM-S0E1eS_6SCaP5eodp=s64",
      "userId": "08250266006689556220"
     },
     "user_tz": -330
    },
    "id": "EwCr50rPdZ4B",
    "outputId": "be18de87-3e66-4f86-e3e6-421305ccf78a"
   },
   "outputs": [
    {
     "data": {
      "image/png": "[encoded data removed]",
      "text/plain": [
       "<Figure size 3024x1296 with 1 Axes>"
      ]
     },
     "metadata": {},
     "output_type": "display_data"
    }
   ],
   "source": [
    "plt.figure(figsize=(42,18))\n",
    "plt.subplot(2, 2, 2)\n",
    "ax = sns.barplot(x='purpose', y='value_numbers', hue=\"source\", data=purpose_vs_issue_year)\n",
    "ax.set_xlabel('purpose',fontsize=18)\n",
    "ax.set_ylabel('loan applications',fontsize=18)\n",
    "ax.set_xticklabels(ax.get_xticklabels(), rotation=45, fontdict={'fontsize':14})\n",
    "#ax.set_yticklabels(ax.get_yticklabels(), fontdict={'fontsize':14})\n",
    "ax.set_title(\"loan applications count for purpose over years\", fontsize=18)\n",
    "plt.show()"
   ]
  },
  {
   "cell_type": "markdown",
   "metadata": {
    "id": "5BybUw5KjZYV"
   },
   "source": [
    "Inference: \n",
    "* Charge off ratio being highest for `small_business`, we can also see that the loan amount is increasing over the years\n",
    "* Over the years loan amount `educational` and `renewable_energy` is stagnant\n",
    "* Over the years loan amount for `debt_consolidation` is increasing exponentially"
   ]
  },
  {
   "cell_type": "markdown",
   "metadata": {
    "id": "DTF_BKYaTwi3"
   },
   "source": [
    "### loan_status vs term\n",
    "\n",
    "\n",
    "\n",
    "\n"
   ]
  },
  {
   "cell_type": "code",
   "execution_count": 80,
   "metadata": {
    "colab": {
     "base_uri": "https://localhost:8080/",
     "height": 409
    },
    "executionInfo": {
     "elapsed": 17,
     "status": "ok",
     "timestamp": 1629257662856,
     "user": {
      "displayName": "Nikhil N B",
      "photoUrl": "https://lh3.googleusercontent.com/a-/AOh14GjdQxFkrTpQoFHYQwPdqM-S0E1eS_6SCaP5eodp=s64",
      "userId": "08250266006689556220"
     },
     "user_tz": -330
    },
    "id": "sKwXL6--auui",
    "outputId": "63b8d6f0-800c-4168-8a48-d4a5335a2491"
   },
   "outputs": [
    {
     "data": {
      "image/png": "[encoded data removed]",
      "text/plain": [
       "<Figure size 720x432 with 1 Axes>"
      ]
     },
     "metadata": {},
     "output_type": "display_data"
    }
   ],
   "source": [
    "plt.figure(figsize=(10,6))\n",
    "ax = sns.countplot(x=\"term\",data=loan,hue='loan_status')\n",
    "\n",
    "ax.set_title('Loan Paying Term',fontsize=14)\n",
    "ax.set_xlabel('Loan Repayment Term',fontsize=14)\n",
    "ax.set_ylabel('Loan Application Count',fontsize=14)      \n",
    "ax.legend(bbox_to_anchor=(1, 1))\n",
    "plt.show()"
   ]
  },
  {
   "cell_type": "markdown",
   "metadata": {
    "id": "ZV9WfqT2dWb8"
   },
   "source": [
    "Inference: \n",
    "* We can see the ratio of charged off is higher when an applicant's term is of 60 months"
   ]
  },
  {
   "cell_type": "markdown",
   "metadata": {
    "id": "hFdfnjJ-higg"
   },
   "source": [
    "### loan_status vs home_ownership"
   ]
  },
  {
   "cell_type": "code",
   "execution_count": 81,
   "metadata": {
    "colab": {
     "base_uri": "https://localhost:8080/",
     "height": 518
    },
    "executionInfo": {
     "elapsed": 518,
     "status": "ok",
     "timestamp": 1629260415226,
     "user": {
      "displayName": "Nikhil N B",
      "photoUrl": "https://lh3.googleusercontent.com/a-/AOh14GjdQxFkrTpQoFHYQwPdqM-S0E1eS_6SCaP5eodp=s64",
      "userId": "08250266006689556220"
     },
     "user_tz": -330
    },
    "id": "kGstEOsldR9D",
    "outputId": "ae7a5c34-a808-47b0-d383-4a6244b682e0"
   },
   "outputs": [
    {
     "data": {
      "image/png": "[encoded data removed]",
      "text/plain": [
       "<Figure size 1008x576 with 1 Axes>"
      ]
     },
     "metadata": {},
     "output_type": "display_data"
    }
   ],
   "source": [
    "plt.figure(figsize=(14,8))\n",
    "sns.set_style(\"dark\")\n",
    "ax = sns.countplot(x=\"home_ownership\",data=loan,hue='loan_status')\n",
    "ax.set_title('Loan Application Count',fontsize=14)\n",
    "ax.set_ylabel('Loan Application Count',fontsize=14)\n",
    "ax.set_xlabel('Home Ownership',fontsize=14)      \n",
    "plt.show()"
   ]
  },
  {
   "cell_type": "markdown",
   "metadata": {
    "id": "eSxvrM-tqkwQ"
   },
   "source": [
    "### loan_status vs grade"
   ]
  },
  {
   "cell_type": "code",
   "execution_count": 82,
   "metadata": {
    "colab": {
     "base_uri": "https://localhost:8080/",
     "height": 518
    },
    "executionInfo": {
     "elapsed": 23,
     "status": "ok",
     "timestamp": 1629257664069,
     "user": {
      "displayName": "Nikhil N B",
      "photoUrl": "https://lh3.googleusercontent.com/a-/AOh14GjdQxFkrTpQoFHYQwPdqM-S0E1eS_6SCaP5eodp=s64",
      "userId": "08250266006689556220"
     },
     "user_tz": -330
    },
    "id": "SQfwwEjJrYei",
    "outputId": "24f17260-485c-469f-abd8-be89a4fe951b"
   },
   "outputs": [
    {
     "data": {
      "image/png": "[encoded data removed]",
      "text/plain": [
       "<Figure size 1008x576 with 1 Axes>"
      ]
     },
     "metadata": {},
     "output_type": "display_data"
    }
   ],
   "source": [
    "plt.figure(figsize=(14,8))\n",
    "sns.set_style(\"dark\")\n",
    "ax = sns.countplot(x=\"grade\",data=loan,hue='loan_status')\n",
    "ax.set_title('grade vs loan application count',fontsize=14)\n",
    "ax.set_xlabel('grade',fontsize=14)\n",
    "ax.set_ylabel('loan application count',fontsize=14)      \n",
    "plt.show()"
   ]
  },
  {
   "cell_type": "markdown",
   "metadata": {
    "id": "9FCeZVGKrpCu"
   },
   "source": [
    "Interface: \n",
    "* Charged off count is most for grade `b`\n",
    "* Charged off count is least for `g`"
   ]
  },
  {
   "cell_type": "code",
   "execution_count": 83,
   "metadata": {
    "colab": {
     "base_uri": "https://localhost:8080/",
     "height": 266
    },
    "executionInfo": {
     "elapsed": 21,
     "status": "ok",
     "timestamp": 1629257664069,
     "user": {
      "displayName": "Nikhil N B",
      "photoUrl": "https://lh3.googleusercontent.com/a-/AOh14GjdQxFkrTpQoFHYQwPdqM-S0E1eS_6SCaP5eodp=s64",
      "userId": "08250266006689556220"
     },
     "user_tz": -330
    },
    "id": "tMdcabr_Hx5y",
    "outputId": "a90ef4a3-8d64-48f7-ef51-a9f00d43cce8"
   },
   "outputs": [
    {
     "data": {
      "text/html": [
       "<div>\n",
       "<style scoped>\n",
       "    .dataframe tbody tr th:only-of-type {\n",
       "        vertical-align: middle;\n",
       "    }\n",
       "\n",
       "    .dataframe tbody tr th {\n",
       "        vertical-align: top;\n",
       "    }\n",
       "\n",
       "    .dataframe thead th {\n",
       "        text-align: right;\n",
       "    }\n",
       "</style>\n",
       "<table border=\"1\" class=\"dataframe\">\n",
       "  <thead>\n",
       "    <tr style=\"text-align: right;\">\n",
       "      <th>loan_status</th>\n",
       "      <th>grade</th>\n",
       "      <th>charged off</th>\n",
       "      <th>current</th>\n",
       "      <th>fully paid</th>\n",
       "      <th>ratio</th>\n",
       "    </tr>\n",
       "  </thead>\n",
       "  <tbody>\n",
       "    <tr>\n",
       "      <th>0</th>\n",
       "      <td>a</td>\n",
       "      <td>596</td>\n",
       "      <td>40</td>\n",
       "      <td>9442</td>\n",
       "      <td>6.312222</td>\n",
       "    </tr>\n",
       "    <tr>\n",
       "      <th>1</th>\n",
       "      <td>b</td>\n",
       "      <td>1410</td>\n",
       "      <td>345</td>\n",
       "      <td>10250</td>\n",
       "      <td>13.756098</td>\n",
       "    </tr>\n",
       "    <tr>\n",
       "      <th>2</th>\n",
       "      <td>c</td>\n",
       "      <td>1322</td>\n",
       "      <td>264</td>\n",
       "      <td>6487</td>\n",
       "      <td>20.379220</td>\n",
       "    </tr>\n",
       "    <tr>\n",
       "      <th>3</th>\n",
       "      <td>d</td>\n",
       "      <td>1105</td>\n",
       "      <td>222</td>\n",
       "      <td>3967</td>\n",
       "      <td>27.854802</td>\n",
       "    </tr>\n",
       "    <tr>\n",
       "      <th>4</th>\n",
       "      <td>e</td>\n",
       "      <td>706</td>\n",
       "      <td>179</td>\n",
       "      <td>1948</td>\n",
       "      <td>36.242300</td>\n",
       "    </tr>\n",
       "    <tr>\n",
       "      <th>5</th>\n",
       "      <td>f</td>\n",
       "      <td>317</td>\n",
       "      <td>73</td>\n",
       "      <td>657</td>\n",
       "      <td>48.249619</td>\n",
       "    </tr>\n",
       "    <tr>\n",
       "      <th>6</th>\n",
       "      <td>g</td>\n",
       "      <td>99</td>\n",
       "      <td>17</td>\n",
       "      <td>198</td>\n",
       "      <td>50.000000</td>\n",
       "    </tr>\n",
       "  </tbody>\n",
       "</table>\n",
       "</div>"
      ],
      "text/plain": [
       "loan_status grade  charged off  current  fully paid      ratio\n",
       "0               a          596       40        9442   6.312222\n",
       "1               b         1410      345       10250  13.756098\n",
       "2               c         1322      264        6487  20.379220\n",
       "3               d         1105      222        3967  27.854802\n",
       "4               e          706      179        1948  36.242300\n",
       "5               f          317       73         657  48.249619\n",
       "6               g           99       17         198  50.000000"
      ]
     },
     "execution_count": 83,
     "metadata": {},
     "output_type": "execute_result"
    }
   ],
   "source": [
    "loan_grade_status = loan.groupby(['grade', 'loan_status']).loan_status.count().unstack().reset_index()\n",
    "loan_grade_status['ratio'] = (loan_grade_status['charged off']*100/loan_grade_status['fully paid'])\n",
    "loan_grade_status"
   ]
  },
  {
   "cell_type": "code",
   "execution_count": 84,
   "metadata": {
    "colab": {
     "base_uri": "https://localhost:8080/",
     "height": 264
    },
    "executionInfo": {
     "elapsed": 425,
     "status": "ok",
     "timestamp": 1629257988138,
     "user": {
      "displayName": "Nikhil N B",
      "photoUrl": "https://lh3.googleusercontent.com/a-/AOh14GjdQxFkrTpQoFHYQwPdqM-S0E1eS_6SCaP5eodp=s64",
      "userId": "08250266006689556220"
     },
     "user_tz": -330
    },
    "id": "VFVOPMVIIzm2",
    "outputId": "3a80f7d1-0036-4b88-c062-5074c0a51ad6"
   },
   "outputs": [
    {
     "data": {
      "image/png": "[encoded data removed]",
      "text/plain": [
       "<Figure size 1008x576 with 1 Axes>"
      ]
     },
     "metadata": {},
     "output_type": "display_data"
    }
   ],
   "source": [
    "plt.figure(figsize=(14,8))\n",
    "plt.subplot(2, 2, 2)\n",
    "ax = sns.barplot(x=loan_grade_status['grade'], y=loan_grade_status['ratio'])\n",
    "ax.set_xlabel('grade',fontsize=14)\n",
    "ax.set_ylabel('charged_off ratio',fontsize=14)\n",
    "plt.show() "
   ]
  },
  {
   "cell_type": "markdown",
   "metadata": {
    "id": "hVx17LRTJyO_"
   },
   "source": [
    "Inference: \n",
    "* In loan_status vs grade bar plot we saw that grade `b` have highest number of charged off loan applications, but the ratio of charged off to fully paid for grade `b` is second least in this plot - This means that only around 13% of fully paid loan applications are charged off.\n",
    "* And grade `g` having least number of charged off count, has around 50% of charged off to fully paid ratio - From this we can infer that loans of grades `f` and `g` are most likely to be charged off"
   ]
  },
  {
   "cell_type": "code",
   "execution_count": 85,
   "metadata": {
    "colab": {
     "base_uri": "https://localhost:8080/",
     "height": 394
    },
    "executionInfo": {
     "elapsed": 21,
     "status": "ok",
     "timestamp": 1629257664072,
     "user": {
      "displayName": "Nikhil N B",
      "photoUrl": "https://lh3.googleusercontent.com/a-/AOh14GjdQxFkrTpQoFHYQwPdqM-S0E1eS_6SCaP5eodp=s64",
      "userId": "08250266006689556220"
     },
     "user_tz": -330
    },
    "id": "CRc5ayDvQgeI",
    "outputId": "15d69163-6737-426a-a1ed-a41c8834db78"
   },
   "outputs": [
    {
     "data": {
      "text/html": [
       "<div>\n",
       "<style scoped>\n",
       "    .dataframe tbody tr th:only-of-type {\n",
       "        vertical-align: middle;\n",
       "    }\n",
       "\n",
       "    .dataframe tbody tr th {\n",
       "        vertical-align: top;\n",
       "    }\n",
       "\n",
       "    .dataframe thead th {\n",
       "        text-align: right;\n",
       "    }\n",
       "</style>\n",
       "<table border=\"1\" class=\"dataframe\">\n",
       "  <thead>\n",
       "    <tr style=\"text-align: right;\">\n",
       "      <th></th>\n",
       "      <th>id</th>\n",
       "      <th>member_id</th>\n",
       "      <th>loan_amnt</th>\n",
       "      <th>funded_amnt</th>\n",
       "      <th>funded_amnt_inv</th>\n",
       "      <th>term</th>\n",
       "      <th>int_rate</th>\n",
       "      <th>installment</th>\n",
       "      <th>grade</th>\n",
       "      <th>sub_grade</th>\n",
       "      <th>...</th>\n",
       "      <th>earliest_cr_line_year</th>\n",
       "      <th>last_pymnt_month</th>\n",
       "      <th>last_pymnt_year</th>\n",
       "      <th>last_credit_pull_month</th>\n",
       "      <th>last_credit_pull_year</th>\n",
       "      <th>loan_amnt_qctg</th>\n",
       "      <th>annual_inc_qctg</th>\n",
       "      <th>int_rate_qctg</th>\n",
       "      <th>installment_qctg</th>\n",
       "      <th>dti_qctg</th>\n",
       "    </tr>\n",
       "  </thead>\n",
       "  <tbody>\n",
       "    <tr>\n",
       "      <th>0</th>\n",
       "      <td>1077501</td>\n",
       "      <td>1296599</td>\n",
       "      <td>5000.0</td>\n",
       "      <td>5000.0</td>\n",
       "      <td>4975.0</td>\n",
       "      <td>36</td>\n",
       "      <td>10</td>\n",
       "      <td>162.87</td>\n",
       "      <td>b</td>\n",
       "      <td>b2</td>\n",
       "      <td>...</td>\n",
       "      <td>85</td>\n",
       "      <td>jan</td>\n",
       "      <td>15</td>\n",
       "      <td>may</td>\n",
       "      <td>16</td>\n",
       "      <td>Lowest (500.0 - 5000.0)</td>\n",
       "      <td>Lowest (4000.0 - 37500.0)</td>\n",
       "      <td>Lower (7.0 - 10.0)</td>\n",
       "      <td>Lower (150.84 - 231.59)</td>\n",
       "      <td>Highest (19.75 - 29.99)</td>\n",
       "    </tr>\n",
       "    <tr>\n",
       "      <th>1</th>\n",
       "      <td>1077430</td>\n",
       "      <td>1314167</td>\n",
       "      <td>2500.0</td>\n",
       "      <td>2500.0</td>\n",
       "      <td>2500.0</td>\n",
       "      <td>60</td>\n",
       "      <td>15</td>\n",
       "      <td>59.83</td>\n",
       "      <td>c</td>\n",
       "      <td>c4</td>\n",
       "      <td>...</td>\n",
       "      <td>99</td>\n",
       "      <td>apr</td>\n",
       "      <td>13</td>\n",
       "      <td>sep</td>\n",
       "      <td>13</td>\n",
       "      <td>Lowest (500.0 - 5000.0)</td>\n",
       "      <td>Lowest (4000.0 - 37500.0)</td>\n",
       "      <td>Higher (12.0 - 15.0)</td>\n",
       "      <td>Lowest (15.69 - 150.84)</td>\n",
       "      <td>Lowest (0.0 - 6.98)</td>\n",
       "    </tr>\n",
       "    <tr>\n",
       "      <th>2</th>\n",
       "      <td>1077175</td>\n",
       "      <td>1313524</td>\n",
       "      <td>2400.0</td>\n",
       "      <td>2400.0</td>\n",
       "      <td>2400.0</td>\n",
       "      <td>36</td>\n",
       "      <td>15</td>\n",
       "      <td>84.33</td>\n",
       "      <td>c</td>\n",
       "      <td>c5</td>\n",
       "      <td>...</td>\n",
       "      <td>01</td>\n",
       "      <td>jun</td>\n",
       "      <td>14</td>\n",
       "      <td>may</td>\n",
       "      <td>16</td>\n",
       "      <td>Lowest (500.0 - 5000.0)</td>\n",
       "      <td>Lowest (4000.0 - 37500.0)</td>\n",
       "      <td>Higher (12.0 - 15.0)</td>\n",
       "      <td>Lowest (15.69 - 150.84)</td>\n",
       "      <td>Lower (6.98 - 11.38)</td>\n",
       "    </tr>\n",
       "    <tr>\n",
       "      <th>3</th>\n",
       "      <td>1076863</td>\n",
       "      <td>1277178</td>\n",
       "      <td>10000.0</td>\n",
       "      <td>10000.0</td>\n",
       "      <td>10000.0</td>\n",
       "      <td>36</td>\n",
       "      <td>13</td>\n",
       "      <td>339.31</td>\n",
       "      <td>c</td>\n",
       "      <td>c1</td>\n",
       "      <td>...</td>\n",
       "      <td>96</td>\n",
       "      <td>jan</td>\n",
       "      <td>15</td>\n",
       "      <td>apr</td>\n",
       "      <td>16</td>\n",
       "      <td>Medium (8000.0 - 12000.0)</td>\n",
       "      <td>Lower (37500.0 - 50400.0)</td>\n",
       "      <td>Higher (12.0 - 15.0)</td>\n",
       "      <td>Higher (330.76 - 483.38)</td>\n",
       "      <td>Highest (19.75 - 29.99)</td>\n",
       "    </tr>\n",
       "    <tr>\n",
       "      <th>4</th>\n",
       "      <td>1075358</td>\n",
       "      <td>1311748</td>\n",
       "      <td>3000.0</td>\n",
       "      <td>3000.0</td>\n",
       "      <td>3000.0</td>\n",
       "      <td>60</td>\n",
       "      <td>12</td>\n",
       "      <td>67.79</td>\n",
       "      <td>b</td>\n",
       "      <td>b5</td>\n",
       "      <td>...</td>\n",
       "      <td>96</td>\n",
       "      <td>may</td>\n",
       "      <td>16</td>\n",
       "      <td>may</td>\n",
       "      <td>16</td>\n",
       "      <td>Lowest (500.0 - 5000.0)</td>\n",
       "      <td>Higher (66000.0 - 90000.0)</td>\n",
       "      <td>Medium (10.0 - 12.0)</td>\n",
       "      <td>Lowest (15.69 - 150.84)</td>\n",
       "      <td>Higher (15.36 - 19.75)</td>\n",
       "    </tr>\n",
       "  </tbody>\n",
       "</table>\n",
       "<p>5 rows × 43 columns</p>\n",
       "</div>"
      ],
      "text/plain": [
       "        id member_id  loan_amnt  funded_amnt  funded_amnt_inv term  int_rate  \\\n",
       "0  1077501   1296599     5000.0       5000.0           4975.0   36        10   \n",
       "1  1077430   1314167     2500.0       2500.0           2500.0   60        15   \n",
       "2  1077175   1313524     2400.0       2400.0           2400.0   36        15   \n",
       "3  1076863   1277178    10000.0      10000.0          10000.0   36        13   \n",
       "4  1075358   1311748     3000.0       3000.0           3000.0   60        12   \n",
       "\n",
       "   installment grade sub_grade  ...  earliest_cr_line_year last_pymnt_month  \\\n",
       "0       162.87     b        b2  ...                     85              jan   \n",
       "1        59.83     c        c4  ...                     99              apr   \n",
       "2        84.33     c        c5  ...                     01              jun   \n",
       "3       339.31     c        c1  ...                     96              jan   \n",
       "4        67.79     b        b5  ...                     96              may   \n",
       "\n",
       "   last_pymnt_year last_credit_pull_month last_credit_pull_year  \\\n",
       "0               15                    may                    16   \n",
       "1               13                    sep                    13   \n",
       "2               14                    may                    16   \n",
       "3               15                    apr                    16   \n",
       "4               16                    may                    16   \n",
       "\n",
       "              loan_amnt_qctg             annual_inc_qctg  \\\n",
       "0    Lowest (500.0 - 5000.0)   Lowest (4000.0 - 37500.0)   \n",
       "1    Lowest (500.0 - 5000.0)   Lowest (4000.0 - 37500.0)   \n",
       "2    Lowest (500.0 - 5000.0)   Lowest (4000.0 - 37500.0)   \n",
       "3  Medium (8000.0 - 12000.0)   Lower (37500.0 - 50400.0)   \n",
       "4    Lowest (500.0 - 5000.0)  Higher (66000.0 - 90000.0)   \n",
       "\n",
       "          int_rate_qctg          installment_qctg                 dti_qctg  \n",
       "0    Lower (7.0 - 10.0)   Lower (150.84 - 231.59)  Highest (19.75 - 29.99)  \n",
       "1  Higher (12.0 - 15.0)   Lowest (15.69 - 150.84)      Lowest (0.0 - 6.98)  \n",
       "2  Higher (12.0 - 15.0)   Lowest (15.69 - 150.84)     Lower (6.98 - 11.38)  \n",
       "3  Higher (12.0 - 15.0)  Higher (330.76 - 483.38)  Highest (19.75 - 29.99)  \n",
       "4  Medium (10.0 - 12.0)   Lowest (15.69 - 150.84)   Higher (15.36 - 19.75)  \n",
       "\n",
       "[5 rows x 43 columns]"
      ]
     },
     "execution_count": 85,
     "metadata": {},
     "output_type": "execute_result"
    }
   ],
   "source": [
    "loan.head()"
   ]
  },
  {
   "cell_type": "markdown",
   "metadata": {
    "id": "1uT2gO3mQ_tS"
   },
   "source": [
    "### int_rate vs grade"
   ]
  },
  {
   "cell_type": "code",
   "execution_count": 86,
   "metadata": {
    "colab": {
     "base_uri": "https://localhost:8080/",
     "height": 358
    },
    "executionInfo": {
     "elapsed": 1226,
     "status": "ok",
     "timestamp": 1629257665278,
     "user": {
      "displayName": "Nikhil N B",
      "photoUrl": "https://lh3.googleusercontent.com/a-/AOh14GjdQxFkrTpQoFHYQwPdqM-S0E1eS_6SCaP5eodp=s64",
      "userId": "08250266006689556220"
     },
     "user_tz": -330
    },
    "id": "sh99wEqgPUfS",
    "outputId": "719b2d7f-7595-409f-81e1-baabf95b4b81"
   },
   "outputs": [
    {
     "data": {
      "image/png": "[encoded data removed]",
      "text/plain": [
       "<Figure size 1728x864 with 1 Axes>"
      ]
     },
     "metadata": {},
     "output_type": "display_data"
    }
   ],
   "source": [
    "plt.figure(figsize=(24,12))\n",
    "plt.subplot(2, 2, 2)\n",
    "sns.boxplot(y='int_rate', x='grade', data=loan)\n",
    "plt.ylabel('Interest Rate Percentage')\n",
    "plt.show()"
   ]
  },
  {
   "cell_type": "markdown",
   "metadata": {
    "id": "_kdfbb6tRUbm"
   },
   "source": [
    "Inference: \n",
    "* Interest rate for grade `g` is highest among the grades, this might be the reason for the highest charged off ratio\n",
    "* Interest rate for grade `a` is least among all the grades, thus having least charged off ratio"
   ]
  },
  {
   "cell_type": "markdown",
   "metadata": {
    "id": "qvYzEsHbSGkJ"
   },
   "source": [
    "### funded_amnt vs grade"
   ]
  },
  {
   "cell_type": "code",
   "execution_count": 87,
   "metadata": {
    "colab": {
     "base_uri": "https://localhost:8080/",
     "height": 358
    },
    "executionInfo": {
     "elapsed": 27,
     "status": "ok",
     "timestamp": 1629257665278,
     "user": {
      "displayName": "Nikhil N B",
      "photoUrl": "https://lh3.googleusercontent.com/a-/AOh14GjdQxFkrTpQoFHYQwPdqM-S0E1eS_6SCaP5eodp=s64",
      "userId": "08250266006689556220"
     },
     "user_tz": -330
    },
    "id": "I0_mVQhlQVQV",
    "outputId": "be719f23-2004-4e48-a9aa-a2851b50a197"
   },
   "outputs": [
    {
     "data": {
      "image/png": "[encoded data removed]",
      "text/plain": [
       "<Figure size 1728x864 with 1 Axes>"
      ]
     },
     "metadata": {},
     "output_type": "display_data"
    }
   ],
   "source": [
    "plt.figure(figsize=(24,12))\n",
    "plt.subplot(2, 2, 2)\n",
    "sns.boxplot(y='funded_amnt', x='grade', data=loan)\n",
    "plt.ylabel('Funded Amount')\n",
    "plt.show()"
   ]
  },
  {
   "cell_type": "markdown",
   "metadata": {
    "id": "shQjurzhShav"
   },
   "source": [
    "Inference:\n",
    "* Mean funded amount is highest for grade `g`\n",
    "* Mean funded amount is least for grade `a`"
   ]
  },
  {
   "cell_type": "markdown",
   "metadata": {
    "id": "PuaaSmxjTJHB"
   },
   "source": [
    "### annual_inc vs loan_status"
   ]
  },
  {
   "cell_type": "code",
   "execution_count": 88,
   "metadata": {
    "executionInfo": {
     "elapsed": 26,
     "status": "ok",
     "timestamp": 1629257665279,
     "user": {
      "displayName": "Nikhil N B",
      "photoUrl": "https://lh3.googleusercontent.com/a-/AOh14GjdQxFkrTpQoFHYQwPdqM-S0E1eS_6SCaP5eodp=s64",
      "userId": "08250266006689556220"
     },
     "user_tz": -330
    },
    "id": "VxpwE7oXSPBk"
   },
   "outputs": [],
   "source": [
    "inc_range_vs_loan = loan.groupby(['annual_inc_qctg', 'loan_status']).loan_status.count().unstack().fillna(0).reset_index()\n",
    "inc_range_vs_loan['ratio'] = (inc_range_vs_loan['charged off']*100/inc_range_vs_loan['fully paid'])"
   ]
  },
  {
   "cell_type": "code",
   "execution_count": 89,
   "metadata": {
    "colab": {
     "base_uri": "https://localhost:8080/",
     "height": 204
    },
    "executionInfo": {
     "elapsed": 25,
     "status": "ok",
     "timestamp": 1629257665279,
     "user": {
      "displayName": "Nikhil N B",
      "photoUrl": "https://lh3.googleusercontent.com/a-/AOh14GjdQxFkrTpQoFHYQwPdqM-S0E1eS_6SCaP5eodp=s64",
      "userId": "08250266006689556220"
     },
     "user_tz": -330
    },
    "id": "pJfiRY6UTbrK",
    "outputId": "30c87d04-d456-466f-e15b-ef1e404ee66a"
   },
   "outputs": [
    {
     "data": {
      "text/html": [
       "<div>\n",
       "<style scoped>\n",
       "    .dataframe tbody tr th:only-of-type {\n",
       "        vertical-align: middle;\n",
       "    }\n",
       "\n",
       "    .dataframe tbody tr th {\n",
       "        vertical-align: top;\n",
       "    }\n",
       "\n",
       "    .dataframe thead th {\n",
       "        text-align: right;\n",
       "    }\n",
       "</style>\n",
       "<table border=\"1\" class=\"dataframe\">\n",
       "  <thead>\n",
       "    <tr style=\"text-align: right;\">\n",
       "      <th>loan_status</th>\n",
       "      <th>annual_inc_qctg</th>\n",
       "      <th>charged off</th>\n",
       "      <th>current</th>\n",
       "      <th>fully paid</th>\n",
       "      <th>ratio</th>\n",
       "    </tr>\n",
       "  </thead>\n",
       "  <tbody>\n",
       "    <tr>\n",
       "      <th>0</th>\n",
       "      <td>Lowest (4000.0 - 37500.0)</td>\n",
       "      <td>1393</td>\n",
       "      <td>137</td>\n",
       "      <td>6408</td>\n",
       "      <td>21.738452</td>\n",
       "    </tr>\n",
       "    <tr>\n",
       "      <th>1</th>\n",
       "      <td>Lower (37500.0 - 50400.0)</td>\n",
       "      <td>1215</td>\n",
       "      <td>226</td>\n",
       "      <td>6532</td>\n",
       "      <td>18.600735</td>\n",
       "    </tr>\n",
       "    <tr>\n",
       "      <th>2</th>\n",
       "      <td>Medium (50400.0 - 66000.0)</td>\n",
       "      <td>1166</td>\n",
       "      <td>235</td>\n",
       "      <td>6674</td>\n",
       "      <td>17.470782</td>\n",
       "    </tr>\n",
       "    <tr>\n",
       "      <th>3</th>\n",
       "      <td>Higher (66000.0 - 90000.0)</td>\n",
       "      <td>968</td>\n",
       "      <td>272</td>\n",
       "      <td>6669</td>\n",
       "      <td>14.514920</td>\n",
       "    </tr>\n",
       "    <tr>\n",
       "      <th>4</th>\n",
       "      <td>Highest (90000.0 - 6000000.0)</td>\n",
       "      <td>813</td>\n",
       "      <td>270</td>\n",
       "      <td>6666</td>\n",
       "      <td>12.196220</td>\n",
       "    </tr>\n",
       "  </tbody>\n",
       "</table>\n",
       "</div>"
      ],
      "text/plain": [
       "loan_status                annual_inc_qctg  charged off  current  fully paid  \\\n",
       "0                Lowest (4000.0 - 37500.0)         1393      137        6408   \n",
       "1                Lower (37500.0 - 50400.0)         1215      226        6532   \n",
       "2               Medium (50400.0 - 66000.0)         1166      235        6674   \n",
       "3               Higher (66000.0 - 90000.0)          968      272        6669   \n",
       "4            Highest (90000.0 - 6000000.0)          813      270        6666   \n",
       "\n",
       "loan_status      ratio  \n",
       "0            21.738452  \n",
       "1            18.600735  \n",
       "2            17.470782  \n",
       "3            14.514920  \n",
       "4            12.196220  "
      ]
     },
     "execution_count": 89,
     "metadata": {},
     "output_type": "execute_result"
    }
   ],
   "source": [
    "inc_range_vs_loan"
   ]
  },
  {
   "cell_type": "code",
   "execution_count": 90,
   "metadata": {
    "colab": {
     "base_uri": "https://localhost:8080/",
     "height": 362
    },
    "executionInfo": {
     "elapsed": 23,
     "status": "ok",
     "timestamp": 1629257665280,
     "user": {
      "displayName": "Nikhil N B",
      "photoUrl": "https://lh3.googleusercontent.com/a-/AOh14GjdQxFkrTpQoFHYQwPdqM-S0E1eS_6SCaP5eodp=s64",
      "userId": "08250266006689556220"
     },
     "user_tz": -330
    },
    "id": "iW9Mt1dBTlA5",
    "outputId": "c1d04f73-de61-466b-fd52-1aeb45314669"
   },
   "outputs": [
    {
     "data": {
      "image/png": "[encoded data removed]",
      "text/plain": [
       "<Figure size 2160x864 with 1 Axes>"
      ]
     },
     "metadata": {},
     "output_type": "display_data"
    }
   ],
   "source": [
    "plt.figure(figsize=(30,12))\n",
    "plt.subplot(2, 2, 2)\n",
    "ax = sns.barplot(x=inc_range_vs_loan['annual_inc_qctg'], y=inc_range_vs_loan['ratio'])\n",
    "ax.set_xlabel('annual income range',fontsize=14)\n",
    "ax.set_ylabel('charged off ratio',fontsize=14)\n",
    "plt.show() "
   ]
  },
  {
   "cell_type": "markdown",
   "metadata": {
    "id": "2zlPdt8mVKtn"
   },
   "source": [
    "Inference: \n",
    "* Charged off ratio is highest where the annual income is lowest  "
   ]
  },
  {
   "cell_type": "markdown",
   "metadata": {
    "id": "NtK3IadRM2BI"
   },
   "source": [
    "### emp_length vs loan_status"
   ]
  },
  {
   "cell_type": "code",
   "execution_count": 91,
   "metadata": {
    "colab": {
     "base_uri": "https://localhost:8080/",
     "height": 390
    },
    "executionInfo": {
     "elapsed": 23,
     "status": "ok",
     "timestamp": 1629257665281,
     "user": {
      "displayName": "Nikhil N B",
      "photoUrl": "https://lh3.googleusercontent.com/a-/AOh14GjdQxFkrTpQoFHYQwPdqM-S0E1eS_6SCaP5eodp=s64",
      "userId": "08250266006689556220"
     },
     "user_tz": -330
    },
    "id": "8SgbkvcALhg1",
    "outputId": "30794d92-72bb-4b52-f4f2-eda64ddbe3ad"
   },
   "outputs": [
    {
     "data": {
      "text/html": [
       "<div>\n",
       "<style scoped>\n",
       "    .dataframe tbody tr th:only-of-type {\n",
       "        vertical-align: middle;\n",
       "    }\n",
       "\n",
       "    .dataframe tbody tr th {\n",
       "        vertical-align: top;\n",
       "    }\n",
       "\n",
       "    .dataframe thead th {\n",
       "        text-align: right;\n",
       "    }\n",
       "</style>\n",
       "<table border=\"1\" class=\"dataframe\">\n",
       "  <thead>\n",
       "    <tr style=\"text-align: right;\">\n",
       "      <th>loan_status</th>\n",
       "      <th>emp_length</th>\n",
       "      <th>charged off</th>\n",
       "      <th>current</th>\n",
       "      <th>fully paid</th>\n",
       "      <th>ratio</th>\n",
       "    </tr>\n",
       "  </thead>\n",
       "  <tbody>\n",
       "    <tr>\n",
       "      <th>0</th>\n",
       "      <td>0.0</td>\n",
       "      <td>631</td>\n",
       "      <td>75</td>\n",
       "      <td>3868</td>\n",
       "      <td>16.313340</td>\n",
       "    </tr>\n",
       "    <tr>\n",
       "      <th>1</th>\n",
       "      <td>1.0</td>\n",
       "      <td>445</td>\n",
       "      <td>71</td>\n",
       "      <td>2713</td>\n",
       "      <td>16.402506</td>\n",
       "    </tr>\n",
       "    <tr>\n",
       "      <th>2</th>\n",
       "      <td>2.0</td>\n",
       "      <td>561</td>\n",
       "      <td>97</td>\n",
       "      <td>3724</td>\n",
       "      <td>15.064447</td>\n",
       "    </tr>\n",
       "    <tr>\n",
       "      <th>3</th>\n",
       "      <td>3.0</td>\n",
       "      <td>548</td>\n",
       "      <td>83</td>\n",
       "      <td>3457</td>\n",
       "      <td>15.851895</td>\n",
       "    </tr>\n",
       "    <tr>\n",
       "      <th>4</th>\n",
       "      <td>4.0</td>\n",
       "      <td>677</td>\n",
       "      <td>136</td>\n",
       "      <td>3685</td>\n",
       "      <td>18.371777</td>\n",
       "    </tr>\n",
       "    <tr>\n",
       "      <th>5</th>\n",
       "      <td>5.0</td>\n",
       "      <td>448</td>\n",
       "      <td>88</td>\n",
       "      <td>2736</td>\n",
       "      <td>16.374269</td>\n",
       "    </tr>\n",
       "    <tr>\n",
       "      <th>6</th>\n",
       "      <td>6.0</td>\n",
       "      <td>306</td>\n",
       "      <td>61</td>\n",
       "      <td>1861</td>\n",
       "      <td>16.442773</td>\n",
       "    </tr>\n",
       "    <tr>\n",
       "      <th>7</th>\n",
       "      <td>7.0</td>\n",
       "      <td>262</td>\n",
       "      <td>62</td>\n",
       "      <td>1448</td>\n",
       "      <td>18.093923</td>\n",
       "    </tr>\n",
       "    <tr>\n",
       "      <th>8</th>\n",
       "      <td>8.0</td>\n",
       "      <td>200</td>\n",
       "      <td>44</td>\n",
       "      <td>1232</td>\n",
       "      <td>16.233766</td>\n",
       "    </tr>\n",
       "    <tr>\n",
       "      <th>9</th>\n",
       "      <td>9.0</td>\n",
       "      <td>155</td>\n",
       "      <td>32</td>\n",
       "      <td>1068</td>\n",
       "      <td>14.513109</td>\n",
       "    </tr>\n",
       "    <tr>\n",
       "      <th>10</th>\n",
       "      <td>10.0</td>\n",
       "      <td>1322</td>\n",
       "      <td>391</td>\n",
       "      <td>7157</td>\n",
       "      <td>18.471427</td>\n",
       "    </tr>\n",
       "  </tbody>\n",
       "</table>\n",
       "</div>"
      ],
      "text/plain": [
       "loan_status  emp_length  charged off  current  fully paid      ratio\n",
       "0                   0.0          631       75        3868  16.313340\n",
       "1                   1.0          445       71        2713  16.402506\n",
       "2                   2.0          561       97        3724  15.064447\n",
       "3                   3.0          548       83        3457  15.851895\n",
       "4                   4.0          677      136        3685  18.371777\n",
       "5                   5.0          448       88        2736  16.374269\n",
       "6                   6.0          306       61        1861  16.442773\n",
       "7                   7.0          262       62        1448  18.093923\n",
       "8                   8.0          200       44        1232  16.233766\n",
       "9                   9.0          155       32        1068  14.513109\n",
       "10                 10.0         1322      391        7157  18.471427"
      ]
     },
     "execution_count": 91,
     "metadata": {},
     "output_type": "execute_result"
    }
   ],
   "source": [
    "emp_length_vs_loan = loan.groupby(['emp_length', 'loan_status']).loan_status.count().unstack().fillna(0).reset_index()\n",
    "emp_length_vs_loan['ratio'] = (emp_length_vs_loan['charged off']*100/emp_length_vs_loan['fully paid'])\n",
    "emp_length_vs_loan"
   ]
  },
  {
   "cell_type": "code",
   "execution_count": 92,
   "metadata": {
    "colab": {
     "base_uri": "https://localhost:8080/",
     "height": 362
    },
    "executionInfo": {
     "elapsed": 23,
     "status": "ok",
     "timestamp": 1629257665282,
     "user": {
      "displayName": "Nikhil N B",
      "photoUrl": "https://lh3.googleusercontent.com/a-/AOh14GjdQxFkrTpQoFHYQwPdqM-S0E1eS_6SCaP5eodp=s64",
      "userId": "08250266006689556220"
     },
     "user_tz": -330
    },
    "id": "KV-CZcDwNL-h",
    "outputId": "8731f637-ed0e-4f80-860c-9fad466073ff"
   },
   "outputs": [
    {
     "data": {
      "image/png": "[encoded data removed]",
      "text/plain": [
       "<Figure size 1440x864 with 1 Axes>"
      ]
     },
     "metadata": {},
     "output_type": "display_data"
    }
   ],
   "source": [
    "plt.figure(figsize=(20,12))\n",
    "plt.subplot(2, 2, 2)\n",
    "ax = sns.barplot(x=emp_length_vs_loan['emp_length'], y=emp_length_vs_loan['ratio'])\n",
    "ax.set_xlabel('Employee Experience in years',fontsize=14)\n",
    "ax.set_ylabel('charged off ratio',fontsize=14)\n",
    "plt.show()"
   ]
  },
  {
   "cell_type": "markdown",
   "metadata": {
    "id": "1A5qUoPaWh7T"
   },
   "source": [
    "### addr_state vs loan_status"
   ]
  },
  {
   "cell_type": "code",
   "execution_count": 93,
   "metadata": {
    "executionInfo": {
     "elapsed": 21,
     "status": "ok",
     "timestamp": 1629257665282,
     "user": {
      "displayName": "Nikhil N B",
      "photoUrl": "https://lh3.googleusercontent.com/a-/AOh14GjdQxFkrTpQoFHYQwPdqM-S0E1eS_6SCaP5eodp=s64",
      "userId": "08250266006689556220"
     },
     "user_tz": -330
    },
    "id": "0P6eDIudWD0U"
   },
   "outputs": [],
   "source": [
    "state_vs_loan = loan.groupby(['addr_state', 'loan_status']).loan_status.count().unstack().fillna(0).reset_index()\n",
    "state_vs_loan['ratio'] = (state_vs_loan['charged off']*100/state_vs_loan['fully paid'])"
   ]
  },
  {
   "cell_type": "code",
   "execution_count": 94,
   "metadata": {
    "colab": {
     "base_uri": "https://localhost:8080/",
     "height": 362
    },
    "executionInfo": {
     "elapsed": 892,
     "status": "ok",
     "timestamp": 1629257666153,
     "user": {
      "displayName": "Nikhil N B",
      "photoUrl": "https://lh3.googleusercontent.com/a-/AOh14GjdQxFkrTpQoFHYQwPdqM-S0E1eS_6SCaP5eodp=s64",
      "userId": "08250266006689556220"
     },
     "user_tz": -330
    },
    "id": "gWTtyScgW66M",
    "outputId": "7feb6137-c426-4bca-f0a1-69a4f89114a9"
   },
   "outputs": [
    {
     "data": {
      "image/png": "[encoded data removed]",
      "text/plain": [
       "<Figure size 2160x864 with 1 Axes>"
      ]
     },
     "metadata": {},
     "output_type": "display_data"
    }
   ],
   "source": [
    "plt.figure(figsize=(30,12))\n",
    "plt.subplot(2, 2, 2)\n",
    "ax = sns.barplot(x=state_vs_loan['addr_state'], y=state_vs_loan['ratio'])\n",
    "ax.set_xlabel('States',fontsize=14)\n",
    "ax.set_ylabel('charged off ratio',fontsize=14)\n",
    "plt.show() "
   ]
  },
  {
   "cell_type": "markdown",
   "metadata": {
    "id": "SD_7hlIVXbrY"
   },
   "source": [
    "Inference: \n",
    "* 'ne' has a  huge charged off ratio as compared to other states"
   ]
  },
  {
   "cell_type": "markdown",
   "metadata": {
    "id": "yzFWOuc6EUvP"
   },
   "source": [
    "### installment vs loan_status"
   ]
  },
  {
   "cell_type": "code",
   "execution_count": 95,
   "metadata": {
    "colab": {
     "base_uri": "https://localhost:8080/",
     "height": 204
    },
    "executionInfo": {
     "elapsed": 10,
     "status": "ok",
     "timestamp": 1629257666153,
     "user": {
      "displayName": "Nikhil N B",
      "photoUrl": "https://lh3.googleusercontent.com/a-/AOh14GjdQxFkrTpQoFHYQwPdqM-S0E1eS_6SCaP5eodp=s64",
      "userId": "08250266006689556220"
     },
     "user_tz": -330
    },
    "id": "NB7wP5sFXPu5",
    "outputId": "9958306e-c8db-4dfd-9203-716012ca4221"
   },
   "outputs": [
    {
     "data": {
      "text/html": [
       "<div>\n",
       "<style scoped>\n",
       "    .dataframe tbody tr th:only-of-type {\n",
       "        vertical-align: middle;\n",
       "    }\n",
       "\n",
       "    .dataframe tbody tr th {\n",
       "        vertical-align: top;\n",
       "    }\n",
       "\n",
       "    .dataframe thead th {\n",
       "        text-align: right;\n",
       "    }\n",
       "</style>\n",
       "<table border=\"1\" class=\"dataframe\">\n",
       "  <thead>\n",
       "    <tr style=\"text-align: right;\">\n",
       "      <th>loan_status</th>\n",
       "      <th>installment_qctg</th>\n",
       "      <th>charged off</th>\n",
       "      <th>current</th>\n",
       "      <th>fully paid</th>\n",
       "      <th>ratio</th>\n",
       "    </tr>\n",
       "  </thead>\n",
       "  <tbody>\n",
       "    <tr>\n",
       "      <th>0</th>\n",
       "      <td>Lowest (15.69 - 150.84)</td>\n",
       "      <td>1100</td>\n",
       "      <td>138</td>\n",
       "      <td>6691</td>\n",
       "      <td>16.439994</td>\n",
       "    </tr>\n",
       "    <tr>\n",
       "      <th>1</th>\n",
       "      <td>Lower (150.84 - 231.59)</td>\n",
       "      <td>1019</td>\n",
       "      <td>108</td>\n",
       "      <td>6802</td>\n",
       "      <td>14.980888</td>\n",
       "    </tr>\n",
       "    <tr>\n",
       "      <th>2</th>\n",
       "      <td>Medium (231.59 - 330.76)</td>\n",
       "      <td>1027</td>\n",
       "      <td>242</td>\n",
       "      <td>6698</td>\n",
       "      <td>15.332935</td>\n",
       "    </tr>\n",
       "    <tr>\n",
       "      <th>3</th>\n",
       "      <td>Higher (330.76 - 483.38)</td>\n",
       "      <td>1157</td>\n",
       "      <td>288</td>\n",
       "      <td>6449</td>\n",
       "      <td>17.940766</td>\n",
       "    </tr>\n",
       "    <tr>\n",
       "      <th>4</th>\n",
       "      <td>Highest (483.38 - 1305.19)</td>\n",
       "      <td>1252</td>\n",
       "      <td>364</td>\n",
       "      <td>6309</td>\n",
       "      <td>19.844666</td>\n",
       "    </tr>\n",
       "  </tbody>\n",
       "</table>\n",
       "</div>"
      ],
      "text/plain": [
       "loan_status            installment_qctg  charged off  current  fully paid  \\\n",
       "0               Lowest (15.69 - 150.84)         1100      138        6691   \n",
       "1               Lower (150.84 - 231.59)         1019      108        6802   \n",
       "2              Medium (231.59 - 330.76)         1027      242        6698   \n",
       "3              Higher (330.76 - 483.38)         1157      288        6449   \n",
       "4            Highest (483.38 - 1305.19)         1252      364        6309   \n",
       "\n",
       "loan_status      ratio  \n",
       "0            16.439994  \n",
       "1            14.980888  \n",
       "2            15.332935  \n",
       "3            17.940766  \n",
       "4            19.844666  "
      ]
     },
     "execution_count": 95,
     "metadata": {},
     "output_type": "execute_result"
    }
   ],
   "source": [
    "installment_vs_loan = loan.groupby(['installment_qctg', 'loan_status']).loan_status.count().unstack().fillna(0).reset_index()\n",
    "installment_vs_loan['ratio'] = (installment_vs_loan['charged off']*100/installment_vs_loan['fully paid'])\n",
    "installment_vs_loan"
   ]
  },
  {
   "cell_type": "code",
   "execution_count": 96,
   "metadata": {
    "colab": {
     "base_uri": "https://localhost:8080/",
     "height": 362
    },
    "executionInfo": {
     "elapsed": 10,
     "status": "ok",
     "timestamp": 1629257666154,
     "user": {
      "displayName": "Nikhil N B",
      "photoUrl": "https://lh3.googleusercontent.com/a-/AOh14GjdQxFkrTpQoFHYQwPdqM-S0E1eS_6SCaP5eodp=s64",
      "userId": "08250266006689556220"
     },
     "user_tz": -330
    },
    "id": "AvKfQ6rFYbRf",
    "outputId": "3839ea3e-6d9c-44bc-a1f6-f7ddd3c07c2b"
   },
   "outputs": [
    {
     "data": {
      "image/png": "[encoded data removed]",
      "text/plain": [
       "<Figure size 2160x864 with 1 Axes>"
      ]
     },
     "metadata": {},
     "output_type": "display_data"
    }
   ],
   "source": [
    "plt.figure(figsize=(30,12))\n",
    "plt.subplot(2, 2, 2)\n",
    "ax = sns.barplot(x=installment_vs_loan['installment_qctg'], y=installment_vs_loan['ratio'])\n",
    "ax.set_xlabel('Installment binned',fontsize=14)\n",
    "ax.set_ylabel('charged off ratio',fontsize=14)\n",
    "plt.show()"
   ]
  },
  {
   "cell_type": "markdown",
   "metadata": {
    "id": "tJqiimDGHNMj"
   },
   "source": [
    "Inference:\n",
    "* For highest amd lowest installement bins there is slight increase in the `charge off` ratio"
   ]
  },
  {
   "cell_type": "markdown",
   "metadata": {
    "id": "v-Ehr72VHy5N"
   },
   "source": [
    "### issue_year vs loan_status"
   ]
  },
  {
   "cell_type": "code",
   "execution_count": 97,
   "metadata": {
    "executionInfo": {
     "elapsed": 10,
     "status": "ok",
     "timestamp": 1629257666155,
     "user": {
      "displayName": "Nikhil N B",
      "photoUrl": "https://lh3.googleusercontent.com/a-/AOh14GjdQxFkrTpQoFHYQwPdqM-S0E1eS_6SCaP5eodp=s64",
      "userId": "08250266006689556220"
     },
     "user_tz": -330
    },
    "id": "OOZ-QGFoHMoc"
   },
   "outputs": [],
   "source": [
    "issue_year_vs_loan = loan.groupby(['issue_year', 'loan_status']).loan_status.count().unstack().fillna(0).reset_index()\n",
    "issue_year_vs_loan['total_applications'] = issue_year_vs_loan['charged off'] + issue_year_vs_loan['current'] + issue_year_vs_loan['fully paid']\n",
    "issue_year_vs_loan = issue_year_vs_loan.drop(['current'], axis=1)"
   ]
  },
  {
   "cell_type": "code",
   "execution_count": 98,
   "metadata": {
    "colab": {
     "base_uri": "https://localhost:8080/",
     "height": 359
    },
    "executionInfo": {
     "elapsed": 731,
     "status": "ok",
     "timestamp": 1629257666877,
     "user": {
      "displayName": "Nikhil N B",
      "photoUrl": "https://lh3.googleusercontent.com/a-/AOh14GjdQxFkrTpQoFHYQwPdqM-S0E1eS_6SCaP5eodp=s64",
      "userId": "08250266006689556220"
     },
     "user_tz": -330
    },
    "id": "e9RZaw_OJxph",
    "outputId": "5166df17-f975-45fe-f7d5-6d6285acf7be"
   },
   "outputs": [
    {
     "data": {
      "image/png": "[encoded data removed]",
      "text/plain": [
       "<Figure size 2160x864 with 1 Axes>"
      ]
     },
     "metadata": {},
     "output_type": "display_data"
    }
   ],
   "source": [
    "plt.figure(figsize=(30,12))\n",
    "plt.subplot(2, 2, 2)\n",
    "sns.lineplot(x='issue_year', y='loan applications', hue='Measure', \n",
    "             data=pd.melt(issue_year_vs_loan, 'issue_year', var_name='Measure', \n",
    "              value_name='loan applications'))\n",
    "plt.show()"
   ]
  },
  {
   "cell_type": "markdown",
   "metadata": {
    "id": "rV5msWzeMgK7"
   },
   "source": [
    "Inference:\n",
    "* Total loan applications over the year is increasing exponentially\n",
    "* Fully paid status of loan are following similar pattern as `total_applications`\n",
    "* Gap between `charged off` and `fully paid` is increasing over the time"
   ]
  },
  {
   "cell_type": "code",
   "execution_count": 99,
   "metadata": {
    "colab": {
     "base_uri": "https://localhost:8080/",
     "height": 394
    },
    "executionInfo": {
     "elapsed": 14,
     "status": "ok",
     "timestamp": 1629257666878,
     "user": {
      "displayName": "Nikhil N B",
      "photoUrl": "https://lh3.googleusercontent.com/a-/AOh14GjdQxFkrTpQoFHYQwPdqM-S0E1eS_6SCaP5eodp=s64",
      "userId": "08250266006689556220"
     },
     "user_tz": -330
    },
    "id": "qgrbCHj-LM80",
    "outputId": "d471feb7-4e48-4db8-a5e8-bcccaed7b187"
   },
   "outputs": [
    {
     "data": {
      "text/html": [
       "<div>\n",
       "<style scoped>\n",
       "    .dataframe tbody tr th:only-of-type {\n",
       "        vertical-align: middle;\n",
       "    }\n",
       "\n",
       "    .dataframe tbody tr th {\n",
       "        vertical-align: top;\n",
       "    }\n",
       "\n",
       "    .dataframe thead th {\n",
       "        text-align: right;\n",
       "    }\n",
       "</style>\n",
       "<table border=\"1\" class=\"dataframe\">\n",
       "  <thead>\n",
       "    <tr style=\"text-align: right;\">\n",
       "      <th></th>\n",
       "      <th>id</th>\n",
       "      <th>member_id</th>\n",
       "      <th>loan_amnt</th>\n",
       "      <th>funded_amnt</th>\n",
       "      <th>funded_amnt_inv</th>\n",
       "      <th>term</th>\n",
       "      <th>int_rate</th>\n",
       "      <th>installment</th>\n",
       "      <th>grade</th>\n",
       "      <th>sub_grade</th>\n",
       "      <th>...</th>\n",
       "      <th>earliest_cr_line_year</th>\n",
       "      <th>last_pymnt_month</th>\n",
       "      <th>last_pymnt_year</th>\n",
       "      <th>last_credit_pull_month</th>\n",
       "      <th>last_credit_pull_year</th>\n",
       "      <th>loan_amnt_qctg</th>\n",
       "      <th>annual_inc_qctg</th>\n",
       "      <th>int_rate_qctg</th>\n",
       "      <th>installment_qctg</th>\n",
       "      <th>dti_qctg</th>\n",
       "    </tr>\n",
       "  </thead>\n",
       "  <tbody>\n",
       "    <tr>\n",
       "      <th>0</th>\n",
       "      <td>1077501</td>\n",
       "      <td>1296599</td>\n",
       "      <td>5000.0</td>\n",
       "      <td>5000.0</td>\n",
       "      <td>4975.0</td>\n",
       "      <td>36</td>\n",
       "      <td>10</td>\n",
       "      <td>162.87</td>\n",
       "      <td>b</td>\n",
       "      <td>b2</td>\n",
       "      <td>...</td>\n",
       "      <td>85</td>\n",
       "      <td>jan</td>\n",
       "      <td>15</td>\n",
       "      <td>may</td>\n",
       "      <td>16</td>\n",
       "      <td>Lowest (500.0 - 5000.0)</td>\n",
       "      <td>Lowest (4000.0 - 37500.0)</td>\n",
       "      <td>Lower (7.0 - 10.0)</td>\n",
       "      <td>Lower (150.84 - 231.59)</td>\n",
       "      <td>Highest (19.75 - 29.99)</td>\n",
       "    </tr>\n",
       "    <tr>\n",
       "      <th>1</th>\n",
       "      <td>1077430</td>\n",
       "      <td>1314167</td>\n",
       "      <td>2500.0</td>\n",
       "      <td>2500.0</td>\n",
       "      <td>2500.0</td>\n",
       "      <td>60</td>\n",
       "      <td>15</td>\n",
       "      <td>59.83</td>\n",
       "      <td>c</td>\n",
       "      <td>c4</td>\n",
       "      <td>...</td>\n",
       "      <td>99</td>\n",
       "      <td>apr</td>\n",
       "      <td>13</td>\n",
       "      <td>sep</td>\n",
       "      <td>13</td>\n",
       "      <td>Lowest (500.0 - 5000.0)</td>\n",
       "      <td>Lowest (4000.0 - 37500.0)</td>\n",
       "      <td>Higher (12.0 - 15.0)</td>\n",
       "      <td>Lowest (15.69 - 150.84)</td>\n",
       "      <td>Lowest (0.0 - 6.98)</td>\n",
       "    </tr>\n",
       "    <tr>\n",
       "      <th>2</th>\n",
       "      <td>1077175</td>\n",
       "      <td>1313524</td>\n",
       "      <td>2400.0</td>\n",
       "      <td>2400.0</td>\n",
       "      <td>2400.0</td>\n",
       "      <td>36</td>\n",
       "      <td>15</td>\n",
       "      <td>84.33</td>\n",
       "      <td>c</td>\n",
       "      <td>c5</td>\n",
       "      <td>...</td>\n",
       "      <td>01</td>\n",
       "      <td>jun</td>\n",
       "      <td>14</td>\n",
       "      <td>may</td>\n",
       "      <td>16</td>\n",
       "      <td>Lowest (500.0 - 5000.0)</td>\n",
       "      <td>Lowest (4000.0 - 37500.0)</td>\n",
       "      <td>Higher (12.0 - 15.0)</td>\n",
       "      <td>Lowest (15.69 - 150.84)</td>\n",
       "      <td>Lower (6.98 - 11.38)</td>\n",
       "    </tr>\n",
       "    <tr>\n",
       "      <th>3</th>\n",
       "      <td>1076863</td>\n",
       "      <td>1277178</td>\n",
       "      <td>10000.0</td>\n",
       "      <td>10000.0</td>\n",
       "      <td>10000.0</td>\n",
       "      <td>36</td>\n",
       "      <td>13</td>\n",
       "      <td>339.31</td>\n",
       "      <td>c</td>\n",
       "      <td>c1</td>\n",
       "      <td>...</td>\n",
       "      <td>96</td>\n",
       "      <td>jan</td>\n",
       "      <td>15</td>\n",
       "      <td>apr</td>\n",
       "      <td>16</td>\n",
       "      <td>Medium (8000.0 - 12000.0)</td>\n",
       "      <td>Lower (37500.0 - 50400.0)</td>\n",
       "      <td>Higher (12.0 - 15.0)</td>\n",
       "      <td>Higher (330.76 - 483.38)</td>\n",
       "      <td>Highest (19.75 - 29.99)</td>\n",
       "    </tr>\n",
       "    <tr>\n",
       "      <th>4</th>\n",
       "      <td>1075358</td>\n",
       "      <td>1311748</td>\n",
       "      <td>3000.0</td>\n",
       "      <td>3000.0</td>\n",
       "      <td>3000.0</td>\n",
       "      <td>60</td>\n",
       "      <td>12</td>\n",
       "      <td>67.79</td>\n",
       "      <td>b</td>\n",
       "      <td>b5</td>\n",
       "      <td>...</td>\n",
       "      <td>96</td>\n",
       "      <td>may</td>\n",
       "      <td>16</td>\n",
       "      <td>may</td>\n",
       "      <td>16</td>\n",
       "      <td>Lowest (500.0 - 5000.0)</td>\n",
       "      <td>Higher (66000.0 - 90000.0)</td>\n",
       "      <td>Medium (10.0 - 12.0)</td>\n",
       "      <td>Lowest (15.69 - 150.84)</td>\n",
       "      <td>Higher (15.36 - 19.75)</td>\n",
       "    </tr>\n",
       "  </tbody>\n",
       "</table>\n",
       "<p>5 rows × 43 columns</p>\n",
       "</div>"
      ],
      "text/plain": [
       "        id member_id  loan_amnt  funded_amnt  funded_amnt_inv term  int_rate  \\\n",
       "0  1077501   1296599     5000.0       5000.0           4975.0   36        10   \n",
       "1  1077430   1314167     2500.0       2500.0           2500.0   60        15   \n",
       "2  1077175   1313524     2400.0       2400.0           2400.0   36        15   \n",
       "3  1076863   1277178    10000.0      10000.0          10000.0   36        13   \n",
       "4  1075358   1311748     3000.0       3000.0           3000.0   60        12   \n",
       "\n",
       "   installment grade sub_grade  ...  earliest_cr_line_year last_pymnt_month  \\\n",
       "0       162.87     b        b2  ...                     85              jan   \n",
       "1        59.83     c        c4  ...                     99              apr   \n",
       "2        84.33     c        c5  ...                     01              jun   \n",
       "3       339.31     c        c1  ...                     96              jan   \n",
       "4        67.79     b        b5  ...                     96              may   \n",
       "\n",
       "   last_pymnt_year last_credit_pull_month last_credit_pull_year  \\\n",
       "0               15                    may                    16   \n",
       "1               13                    sep                    13   \n",
       "2               14                    may                    16   \n",
       "3               15                    apr                    16   \n",
       "4               16                    may                    16   \n",
       "\n",
       "              loan_amnt_qctg             annual_inc_qctg  \\\n",
       "0    Lowest (500.0 - 5000.0)   Lowest (4000.0 - 37500.0)   \n",
       "1    Lowest (500.0 - 5000.0)   Lowest (4000.0 - 37500.0)   \n",
       "2    Lowest (500.0 - 5000.0)   Lowest (4000.0 - 37500.0)   \n",
       "3  Medium (8000.0 - 12000.0)   Lower (37500.0 - 50400.0)   \n",
       "4    Lowest (500.0 - 5000.0)  Higher (66000.0 - 90000.0)   \n",
       "\n",
       "          int_rate_qctg          installment_qctg                 dti_qctg  \n",
       "0    Lower (7.0 - 10.0)   Lower (150.84 - 231.59)  Highest (19.75 - 29.99)  \n",
       "1  Higher (12.0 - 15.0)   Lowest (15.69 - 150.84)      Lowest (0.0 - 6.98)  \n",
       "2  Higher (12.0 - 15.0)   Lowest (15.69 - 150.84)     Lower (6.98 - 11.38)  \n",
       "3  Higher (12.0 - 15.0)  Higher (330.76 - 483.38)  Highest (19.75 - 29.99)  \n",
       "4  Medium (10.0 - 12.0)   Lowest (15.69 - 150.84)   Higher (15.36 - 19.75)  \n",
       "\n",
       "[5 rows x 43 columns]"
      ]
     },
     "execution_count": 99,
     "metadata": {},
     "output_type": "execute_result"
    }
   ],
   "source": [
    "loan.head()"
   ]
  },
  {
   "cell_type": "markdown",
   "metadata": {
    "id": "Birr6o_VYyNw"
   },
   "source": [
    "### int_rate_qctg vs loan_status"
   ]
  },
  {
   "cell_type": "code",
   "execution_count": 100,
   "metadata": {
    "colab": {
     "base_uri": "https://localhost:8080/",
     "height": 204
    },
    "executionInfo": {
     "elapsed": 12,
     "status": "ok",
     "timestamp": 1629257666878,
     "user": {
      "displayName": "Nikhil N B",
      "photoUrl": "https://lh3.googleusercontent.com/a-/AOh14GjdQxFkrTpQoFHYQwPdqM-S0E1eS_6SCaP5eodp=s64",
      "userId": "08250266006689556220"
     },
     "user_tz": -330
    },
    "id": "cp7rEAiYR2Vr",
    "outputId": "b29dda79-27b8-4686-f199-7d480b707f0e"
   },
   "outputs": [
    {
     "data": {
      "text/html": [
       "<div>\n",
       "<style scoped>\n",
       "    .dataframe tbody tr th:only-of-type {\n",
       "        vertical-align: middle;\n",
       "    }\n",
       "\n",
       "    .dataframe tbody tr th {\n",
       "        vertical-align: top;\n",
       "    }\n",
       "\n",
       "    .dataframe thead th {\n",
       "        text-align: right;\n",
       "    }\n",
       "</style>\n",
       "<table border=\"1\" class=\"dataframe\">\n",
       "  <thead>\n",
       "    <tr style=\"text-align: right;\">\n",
       "      <th>loan_status</th>\n",
       "      <th>int_rate_qctg</th>\n",
       "      <th>charged off</th>\n",
       "      <th>current</th>\n",
       "      <th>fully paid</th>\n",
       "      <th>ratio</th>\n",
       "    </tr>\n",
       "  </thead>\n",
       "  <tbody>\n",
       "    <tr>\n",
       "      <th>0</th>\n",
       "      <td>Lowest (5.0 - 7.0)</td>\n",
       "      <td>427</td>\n",
       "      <td>15</td>\n",
       "      <td>7596</td>\n",
       "      <td>5.621380</td>\n",
       "    </tr>\n",
       "    <tr>\n",
       "      <th>1</th>\n",
       "      <td>Lower (7.0 - 10.0)</td>\n",
       "      <td>846</td>\n",
       "      <td>161</td>\n",
       "      <td>7443</td>\n",
       "      <td>11.366385</td>\n",
       "    </tr>\n",
       "    <tr>\n",
       "      <th>2</th>\n",
       "      <td>Medium (10.0 - 12.0)</td>\n",
       "      <td>1123</td>\n",
       "      <td>248</td>\n",
       "      <td>6537</td>\n",
       "      <td>17.179134</td>\n",
       "    </tr>\n",
       "    <tr>\n",
       "      <th>3</th>\n",
       "      <td>Higher (12.0 - 15.0)</td>\n",
       "      <td>1598</td>\n",
       "      <td>255</td>\n",
       "      <td>7449</td>\n",
       "      <td>21.452544</td>\n",
       "    </tr>\n",
       "    <tr>\n",
       "      <th>4</th>\n",
       "      <td>Highest (15.0 - 24.0)</td>\n",
       "      <td>1561</td>\n",
       "      <td>461</td>\n",
       "      <td>3924</td>\n",
       "      <td>39.780836</td>\n",
       "    </tr>\n",
       "  </tbody>\n",
       "</table>\n",
       "</div>"
      ],
      "text/plain": [
       "loan_status          int_rate_qctg  charged off  current  fully paid  \\\n",
       "0               Lowest (5.0 - 7.0)          427       15        7596   \n",
       "1               Lower (7.0 - 10.0)          846      161        7443   \n",
       "2             Medium (10.0 - 12.0)         1123      248        6537   \n",
       "3             Higher (12.0 - 15.0)         1598      255        7449   \n",
       "4            Highest (15.0 - 24.0)         1561      461        3924   \n",
       "\n",
       "loan_status      ratio  \n",
       "0             5.621380  \n",
       "1            11.366385  \n",
       "2            17.179134  \n",
       "3            21.452544  \n",
       "4            39.780836  "
      ]
     },
     "execution_count": 100,
     "metadata": {},
     "output_type": "execute_result"
    }
   ],
   "source": [
    "int_rate_qctg_vs_loan_status = loan.groupby(['int_rate_qctg', 'loan_status']).loan_status.count().unstack().fillna(0).reset_index()\n",
    "int_rate_qctg_vs_loan_status['ratio'] = (int_rate_qctg_vs_loan_status['charged off']*100/int_rate_qctg_vs_loan_status['fully paid'])\n",
    "int_rate_qctg_vs_loan_status"
   ]
  },
  {
   "cell_type": "code",
   "execution_count": 101,
   "metadata": {
    "colab": {
     "base_uri": "https://localhost:8080/",
     "height": 362
    },
    "executionInfo": {
     "elapsed": 12,
     "status": "ok",
     "timestamp": 1629257666879,
     "user": {
      "displayName": "Nikhil N B",
      "photoUrl": "https://lh3.googleusercontent.com/a-/AOh14GjdQxFkrTpQoFHYQwPdqM-S0E1eS_6SCaP5eodp=s64",
      "userId": "08250266006689556220"
     },
     "user_tz": -330
    },
    "id": "51o1j3MkVhaq",
    "outputId": "4a8624cc-1b88-42d9-91e7-80bcefe33ae1"
   },
   "outputs": [
    {
     "data": {
      "image/png": "[encoded data removed]",
      "text/plain": [
       "<Figure size 1728x864 with 1 Axes>"
      ]
     },
     "metadata": {},
     "output_type": "display_data"
    }
   ],
   "source": [
    "plt.figure(figsize=(24,12))\n",
    "plt.subplot(2, 2, 2)\n",
    "ax = sns.barplot(x=int_rate_qctg_vs_loan_status['int_rate_qctg'], y=int_rate_qctg_vs_loan_status['ratio'])\n",
    "ax.set_xlabel('Interest rate binned',fontsize=14)\n",
    "ax.set_ylabel('charged off ratio',fontsize=14)\n",
    "plt.show()"
   ]
  },
  {
   "cell_type": "markdown",
   "metadata": {
    "id": "zTigbbf0WG1W"
   },
   "source": [
    "Inference:\n",
    "* Higher the interest rate higher is the `charged off` ratio\n",
    "* For highest interest rate i.e 15 - 24, charge off ratio increases drastically"
   ]
  },
  {
   "cell_type": "markdown",
   "metadata": {
    "id": "veag979jbyFY"
   },
   "source": [
    "### dti_qctg vs loan_status"
   ]
  },
  {
   "cell_type": "code",
   "execution_count": 102,
   "metadata": {
    "executionInfo": {
     "elapsed": 11,
     "status": "ok",
     "timestamp": 1629257666880,
     "user": {
      "displayName": "Nikhil N B",
      "photoUrl": "https://lh3.googleusercontent.com/a-/AOh14GjdQxFkrTpQoFHYQwPdqM-S0E1eS_6SCaP5eodp=s64",
      "userId": "08250266006689556220"
     },
     "user_tz": -330
    },
    "id": "l1s9iRuYaiZy"
   },
   "outputs": [],
   "source": [
    "dti_qctg_vs_loan_status = loan.groupby(['dti_qctg', 'loan_status']).loan_status.count().unstack().fillna(0).reset_index()\n",
    "dti_qctg_vs_loan_status['ratio'] = (dti_qctg_vs_loan_status['charged off']*100/dti_qctg_vs_loan_status['fully paid'])"
   ]
  },
  {
   "cell_type": "code",
   "execution_count": 103,
   "metadata": {
    "colab": {
     "base_uri": "https://localhost:8080/",
     "height": 362
    },
    "executionInfo": {
     "elapsed": 896,
     "status": "ok",
     "timestamp": 1629257667765,
     "user": {
      "displayName": "Nikhil N B",
      "photoUrl": "https://lh3.googleusercontent.com/a-/AOh14GjdQxFkrTpQoFHYQwPdqM-S0E1eS_6SCaP5eodp=s64",
      "userId": "08250266006689556220"
     },
     "user_tz": -330
    },
    "id": "co8hQyfmbKY_",
    "outputId": "b4d6c4ec-1134-477e-e449-112b950e1f64"
   },
   "outputs": [
    {
     "data": {
      "image/png": "[encoded data removed]",
      "text/plain": [
       "<Figure size 1728x864 with 1 Axes>"
      ]
     },
     "metadata": {},
     "output_type": "display_data"
    }
   ],
   "source": [
    "plt.figure(figsize=(24,12))\n",
    "plt.subplot(2, 2, 2)\n",
    "ax = sns.barplot(x=dti_qctg_vs_loan_status['dti_qctg'], y=dti_qctg_vs_loan_status['ratio'])\n",
    "ax.set_xlabel('dti binned',fontsize=14)\n",
    "ax.set_ylabel('charged off ratio',fontsize=14)\n",
    "plt.show()"
   ]
  },
  {
   "cell_type": "markdown",
   "metadata": {
    "id": "zBWvdETpbXtN"
   },
   "source": [
    "Inference:\n",
    "* As `dti` increases, `charge off` ratio also increases"
   ]
  },
  {
   "cell_type": "markdown",
   "metadata": {
    "id": "lRFAi0iZxgBD"
   },
   "source": [
    "# Conclusion"
   ]
  },
  {
   "cell_type": "markdown",
   "metadata": {
    "id": "Gij_yqr_6uXY"
   },
   "source": [
    "We concluded our EDA here, Below we will list down impactful columns of Lending loan database as per the above analysis\n",
    "\n",
    "### Minor impact\n",
    "* Loan amount\n",
    "* home ownership\n",
    "* higher installment amount\n",
    "* lower income\n",
    "* proportional dti\n",
    "* addr_state ('ne' state is however outlier due to very less loan amount compared to all other states)\n",
    "* installment"
   ]
  },
  {
   "cell_type": "markdown",
   "metadata": {
    "id": "xkOBN8zdBe4r"
   },
   "source": [
    "### Major Impact\n",
    "* Term(60 months)\n",
    "* grade(c to g)\n",
    "* issue year(the gap between fullypaid and charged off is increasing periodicially)\n",
    "* loan purpose(small business, educational and renewable)\n",
    "* interest rate(higher the rate, higher is the charge off ratio)"
   ]
  }
 ],
 "metadata": {
  "colab": {
   "collapsed_sections": [],
   "name": "Nikhil_Barigidad.ipynb",
   "provenance": [],
   "toc_visible": true
  },
  "kernelspec": {
   "display_name": "Python 3",
   "language": "python",
   "name": "python3"
  },
  "language_info": {
   "codemirror_mode": {
    "name": "ipython",
    "version": 3
   },
   "file_extension": ".py",
   "mimetype": "text/x-python",
   "name": "python",
   "nbconvert_exporter": "python",
   "pygments_lexer": "ipython3",
   "version": "3.8.8"
  }
 },
 "nbformat": 4,
 "nbformat_minor": 1
}
